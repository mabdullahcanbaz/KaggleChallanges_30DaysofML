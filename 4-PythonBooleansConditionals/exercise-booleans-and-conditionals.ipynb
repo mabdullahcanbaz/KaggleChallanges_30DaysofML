{
 "cells": [
  {
   "cell_type": "markdown",
   "id": "52f792f5",
   "metadata": {
    "papermill": {
     "duration": 0.022309,
     "end_time": "2021-08-06T15:06:39.410035",
     "exception": false,
     "start_time": "2021-08-06T15:06:39.387726",
     "status": "completed"
    },
    "tags": []
   },
   "source": [
    "**This notebook is an exercise in the [Python](https://www.kaggle.com/learn/python) course.  You can reference the tutorial at [this link](https://www.kaggle.com/colinmorris/booleans-and-conditionals).**\n",
    "\n",
    "---\n"
   ]
  },
  {
   "cell_type": "markdown",
   "id": "00b7fe3d",
   "metadata": {
    "papermill": {
     "duration": 0.024862,
     "end_time": "2021-08-06T15:06:39.456532",
     "exception": false,
     "start_time": "2021-08-06T15:06:39.431670",
     "status": "completed"
    },
    "tags": []
   },
   "source": [
    "In this exercise, you'll put to work what you have learned about booleans and conditionals.\n",
    "\n",
    "To get started, **run the setup code below** before writing your own code (and if you leave this notebook and come back later, don't forget to run the setup code again)."
   ]
  },
  {
   "cell_type": "code",
   "execution_count": 1,
   "id": "329c6d84",
   "metadata": {
    "execution": {
     "iopub.execute_input": "2021-08-06T15:06:39.519456Z",
     "iopub.status.busy": "2021-08-06T15:06:39.517772Z",
     "iopub.status.idle": "2021-08-06T15:06:39.658898Z",
     "shell.execute_reply": "2021-08-06T15:06:39.658163Z",
     "shell.execute_reply.started": "2021-08-06T14:38:49.143445Z"
    },
    "papermill": {
     "duration": 0.171823,
     "end_time": "2021-08-06T15:06:39.659054",
     "exception": false,
     "start_time": "2021-08-06T15:06:39.487231",
     "status": "completed"
    },
    "tags": []
   },
   "outputs": [
    {
     "name": "stdout",
     "output_type": "stream",
     "text": [
      "Setup complete.\n"
     ]
    }
   ],
   "source": [
    "from learntools.core import binder; binder.bind(globals())\n",
    "from learntools.python.ex3 import *\n",
    "print('Setup complete.')"
   ]
  },
  {
   "cell_type": "markdown",
   "id": "66a6be4c",
   "metadata": {
    "papermill": {
     "duration": 0.023272,
     "end_time": "2021-08-06T15:06:39.704122",
     "exception": false,
     "start_time": "2021-08-06T15:06:39.680850",
     "status": "completed"
    },
    "tags": []
   },
   "source": [
    "# 1.\n",
    "\n",
    "Many programming languages have [`sign`](https://en.wikipedia.org/wiki/Sign_function) available as a built-in function. Python doesn't, but we can define our own!\n",
    "\n",
    "In the cell below, define a function called `sign` which takes a numerical argument and returns -1 if it's negative, 1 if it's positive, and 0 if it's 0."
   ]
  },
  {
   "cell_type": "code",
   "execution_count": 2,
   "id": "936aca0f",
   "metadata": {
    "execution": {
     "iopub.execute_input": "2021-08-06T15:06:39.754946Z",
     "iopub.status.busy": "2021-08-06T15:06:39.754213Z",
     "iopub.status.idle": "2021-08-06T15:06:39.759080Z",
     "shell.execute_reply": "2021-08-06T15:06:39.759627Z",
     "shell.execute_reply.started": "2021-08-06T00:20:05.162317Z"
    },
    "papermill": {
     "duration": 0.034176,
     "end_time": "2021-08-06T15:06:39.759790",
     "exception": false,
     "start_time": "2021-08-06T15:06:39.725614",
     "status": "completed"
    },
    "tags": []
   },
   "outputs": [
    {
     "data": {
      "application/javascript": [
       "parent.postMessage({\"jupyterEvent\": \"custom.exercise_interaction\", \"data\": {\"outcomeType\": 1, \"valueTowardsCompletion\": 0.2, \"interactionType\": 1, \"questionType\": 2, \"questionId\": \"1_SignFunctionProblem\", \"learnToolsVersion\": \"0.3.4\", \"failureMessage\": \"\", \"exceptionClass\": \"\", \"trace\": \"\"}}, \"*\")"
      ],
      "text/plain": [
       "<IPython.core.display.Javascript object>"
      ]
     },
     "metadata": {},
     "output_type": "display_data"
    },
    {
     "data": {
      "text/markdown": [
       "<span style=\"color:#33cc33\">Correct</span>"
      ],
      "text/plain": [
       "Correct"
      ]
     },
     "metadata": {},
     "output_type": "display_data"
    }
   ],
   "source": [
    "# Your code goes here. Define a function called 'sign'\n",
    "def sign(num):\n",
    "    if num <0:\n",
    "        return -1\n",
    "    elif num >0:\n",
    "        return 1\n",
    "    else:\n",
    "        return 0\n",
    "    \n",
    "# Check your answer\n",
    "q1.check()"
   ]
  },
  {
   "cell_type": "code",
   "execution_count": 3,
   "id": "1c9b7d12",
   "metadata": {
    "execution": {
     "iopub.execute_input": "2021-08-06T15:06:39.809535Z",
     "iopub.status.busy": "2021-08-06T15:06:39.808595Z",
     "iopub.status.idle": "2021-08-06T15:06:39.816361Z",
     "shell.execute_reply": "2021-08-06T15:06:39.817052Z",
     "shell.execute_reply.started": "2021-08-06T00:20:11.195124Z"
    },
    "papermill": {
     "duration": 0.034851,
     "end_time": "2021-08-06T15:06:39.817289",
     "exception": false,
     "start_time": "2021-08-06T15:06:39.782438",
     "status": "completed"
    },
    "tags": []
   },
   "outputs": [
    {
     "data": {
      "application/javascript": [
       "parent.postMessage({\"jupyterEvent\": \"custom.exercise_interaction\", \"data\": {\"interactionType\": 3, \"questionType\": 2, \"questionId\": \"1_SignFunctionProblem\", \"learnToolsVersion\": \"0.3.4\", \"valueTowardsCompletion\": 0.0, \"failureMessage\": \"\", \"exceptionClass\": \"\", \"trace\": \"\", \"outcomeType\": 4}}, \"*\")"
      ],
      "text/plain": [
       "<IPython.core.display.Javascript object>"
      ]
     },
     "metadata": {},
     "output_type": "display_data"
    },
    {
     "data": {
      "text/markdown": [
       "<span style=\"color:#33cc99\">Solution:</span> \n",
       "```python\n",
       "def sign(x):\n",
       "    if x > 0:\n",
       "        return 1\n",
       "    elif x < 0:\n",
       "        return -1\n",
       "    else:\n",
       "        return 0\n",
       "```"
      ],
      "text/plain": [
       "Solution: \n",
       "```python\n",
       "def sign(x):\n",
       "    if x > 0:\n",
       "        return 1\n",
       "    elif x < 0:\n",
       "        return -1\n",
       "    else:\n",
       "        return 0\n",
       "```"
      ]
     },
     "metadata": {},
     "output_type": "display_data"
    }
   ],
   "source": [
    "q1.solution()"
   ]
  },
  {
   "cell_type": "markdown",
   "id": "cf3d3f27",
   "metadata": {
    "papermill": {
     "duration": 0.028134,
     "end_time": "2021-08-06T15:06:39.874501",
     "exception": false,
     "start_time": "2021-08-06T15:06:39.846367",
     "status": "completed"
    },
    "tags": []
   },
   "source": [
    "# 2.\n",
    "\n",
    "We've decided to add \"logging\" to our `to_smash` function from the previous exercise."
   ]
  },
  {
   "cell_type": "code",
   "execution_count": 4,
   "id": "00aef438",
   "metadata": {
    "execution": {
     "iopub.execute_input": "2021-08-06T15:06:39.944816Z",
     "iopub.status.busy": "2021-08-06T15:06:39.943879Z",
     "iopub.status.idle": "2021-08-06T15:06:39.951783Z",
     "shell.execute_reply": "2021-08-06T15:06:39.952232Z",
     "shell.execute_reply.started": "2021-08-06T00:21:02.749949Z"
    },
    "papermill": {
     "duration": 0.041086,
     "end_time": "2021-08-06T15:06:39.952400",
     "exception": false,
     "start_time": "2021-08-06T15:06:39.911314",
     "status": "completed"
    },
    "tags": []
   },
   "outputs": [
    {
     "name": "stdout",
     "output_type": "stream",
     "text": [
      "Splitting 91 candies\n"
     ]
    },
    {
     "data": {
      "text/plain": [
       "1"
      ]
     },
     "execution_count": 4,
     "metadata": {},
     "output_type": "execute_result"
    }
   ],
   "source": [
    "def to_smash(total_candies):\n",
    "    \"\"\"Return the number of leftover candies that must be smashed after distributing\n",
    "    the given number of candies evenly between 3 friends.\n",
    "    \n",
    "    >>> to_smash(91)\n",
    "    1\n",
    "    \"\"\"\n",
    "    print(\"Splitting\", total_candies, \"candies\")\n",
    "    return total_candies % 3\n",
    "\n",
    "to_smash(91)"
   ]
  },
  {
   "cell_type": "markdown",
   "id": "8b2715b0",
   "metadata": {
    "papermill": {
     "duration": 0.023418,
     "end_time": "2021-08-06T15:06:39.999872",
     "exception": false,
     "start_time": "2021-08-06T15:06:39.976454",
     "status": "completed"
    },
    "tags": []
   },
   "source": [
    "What happens if we call it with `total_candies = 1`?"
   ]
  },
  {
   "cell_type": "code",
   "execution_count": 5,
   "id": "0eda7f55",
   "metadata": {
    "execution": {
     "iopub.execute_input": "2021-08-06T15:06:40.050414Z",
     "iopub.status.busy": "2021-08-06T15:06:40.049811Z",
     "iopub.status.idle": "2021-08-06T15:06:40.058911Z",
     "shell.execute_reply": "2021-08-06T15:06:40.058228Z",
     "shell.execute_reply.started": "2021-08-06T00:21:12.698633Z"
    },
    "papermill": {
     "duration": 0.035469,
     "end_time": "2021-08-06T15:06:40.059071",
     "exception": false,
     "start_time": "2021-08-06T15:06:40.023602",
     "status": "completed"
    },
    "tags": []
   },
   "outputs": [
    {
     "name": "stdout",
     "output_type": "stream",
     "text": [
      "Splitting 1 candies\n"
     ]
    },
    {
     "data": {
      "text/plain": [
       "1"
      ]
     },
     "execution_count": 5,
     "metadata": {},
     "output_type": "execute_result"
    }
   ],
   "source": [
    "to_smash(1)"
   ]
  },
  {
   "cell_type": "markdown",
   "id": "94bacb39",
   "metadata": {
    "papermill": {
     "duration": 0.02434,
     "end_time": "2021-08-06T15:06:40.107795",
     "exception": false,
     "start_time": "2021-08-06T15:06:40.083455",
     "status": "completed"
    },
    "tags": []
   },
   "source": [
    "That isn't great grammar!\n",
    "\n",
    "Modify the definition in the cell below to correct the grammar of our print statement. (If there's only one candy, we should use the singular \"candy\" instead of the plural \"candies\")"
   ]
  },
  {
   "cell_type": "code",
   "execution_count": 6,
   "id": "773ae411",
   "metadata": {
    "execution": {
     "iopub.execute_input": "2021-08-06T15:06:40.163650Z",
     "iopub.status.busy": "2021-08-06T15:06:40.162958Z",
     "iopub.status.idle": "2021-08-06T15:06:40.167713Z",
     "shell.execute_reply": "2021-08-06T15:06:40.167165Z",
     "shell.execute_reply.started": "2021-08-06T00:23:48.435672Z"
    },
    "papermill": {
     "duration": 0.034931,
     "end_time": "2021-08-06T15:06:40.167855",
     "exception": false,
     "start_time": "2021-08-06T15:06:40.132924",
     "status": "completed"
    },
    "tags": []
   },
   "outputs": [
    {
     "name": "stdout",
     "output_type": "stream",
     "text": [
      "Splitting 91 candies\n",
      "Splitting 1 candy\n"
     ]
    },
    {
     "data": {
      "text/plain": [
       "1"
      ]
     },
     "execution_count": 6,
     "metadata": {},
     "output_type": "execute_result"
    }
   ],
   "source": [
    "def to_smash(total_candies):\n",
    "    \"\"\"Return the number of leftover candies that must be smashed after distributing\n",
    "    the given number of candies evenly between 3 friends.\n",
    "    \n",
    "    >>> to_smash(91)\n",
    "    1\n",
    "    \"\"\"\n",
    "    print(\"Splitting\", total_candies, \"candy\" if total_candies == 1 else \"candies\")\n",
    "    return total_candies % 3\n",
    "\n",
    "to_smash(91)\n",
    "to_smash(1)"
   ]
  },
  {
   "cell_type": "markdown",
   "id": "6ea74049",
   "metadata": {
    "papermill": {
     "duration": 0.030117,
     "end_time": "2021-08-06T15:06:40.224808",
     "exception": false,
     "start_time": "2021-08-06T15:06:40.194691",
     "status": "completed"
    },
    "tags": []
   },
   "source": [
    "To get credit for completing this problem, and to see the official answer, run the code cell below."
   ]
  },
  {
   "cell_type": "code",
   "execution_count": 7,
   "id": "1373b778",
   "metadata": {
    "execution": {
     "iopub.execute_input": "2021-08-06T15:06:40.293202Z",
     "iopub.status.busy": "2021-08-06T15:06:40.292548Z",
     "iopub.status.idle": "2021-08-06T15:06:40.298833Z",
     "shell.execute_reply": "2021-08-06T15:06:40.298219Z",
     "shell.execute_reply.started": "2021-08-06T00:22:39.407232Z"
    },
    "papermill": {
     "duration": 0.04023,
     "end_time": "2021-08-06T15:06:40.298976",
     "exception": false,
     "start_time": "2021-08-06T15:06:40.258746",
     "status": "completed"
    },
    "tags": []
   },
   "outputs": [
    {
     "data": {
      "application/javascript": [
       "parent.postMessage({\"jupyterEvent\": \"custom.exercise_interaction\", \"data\": {\"interactionType\": 3, \"questionType\": 4, \"questionId\": \"2_PluralizationProblem\", \"learnToolsVersion\": \"0.3.4\", \"valueTowardsCompletion\": 0.0, \"failureMessage\": \"\", \"exceptionClass\": \"\", \"trace\": \"\", \"outcomeType\": 4}}, \"*\")"
      ],
      "text/plain": [
       "<IPython.core.display.Javascript object>"
      ]
     },
     "metadata": {},
     "output_type": "display_data"
    },
    {
     "data": {
      "text/markdown": [
       "<span style=\"color:#33cc99\">Solution:</span> A straightforward (and totally fine) solution is to replace the original `print` call with:\n",
       "\n",
       "```python\n",
       "if total_candies == 1:\n",
       "    print(\"Splitting 1 candy\")\n",
       "else:\n",
       "    print(\"Splitting\", total_candies, \"candies\")\n",
       "```\n",
       "\n",
       "Here's a slightly more succinct solution using a conditional expression:\n",
       "\n",
       "```python\n",
       "print(\"Splitting\", total_candies, \"candy\" if total_candies == 1 else \"candies\")\n",
       "```"
      ],
      "text/plain": [
       "Solution: A straightforward (and totally fine) solution is to replace the original `print` call with:\n",
       "\n",
       "```python\n",
       "if total_candies == 1:\n",
       "    print(\"Splitting 1 candy\")\n",
       "else:\n",
       "    print(\"Splitting\", total_candies, \"candies\")\n",
       "```\n",
       "\n",
       "Here's a slightly more succinct solution using a conditional expression:\n",
       "\n",
       "```python\n",
       "print(\"Splitting\", total_candies, \"candy\" if total_candies == 1 else \"candies\")\n",
       "```"
      ]
     },
     "metadata": {},
     "output_type": "display_data"
    }
   ],
   "source": [
    "# Check your answer (Run this code cell to receive credit!)\n",
    "q2.solution()"
   ]
  },
  {
   "cell_type": "markdown",
   "id": "7ee20e05",
   "metadata": {
    "papermill": {
     "duration": 0.026093,
     "end_time": "2021-08-06T15:06:40.355297",
     "exception": false,
     "start_time": "2021-08-06T15:06:40.329204",
     "status": "completed"
    },
    "tags": []
   },
   "source": [
    "# 3. <span title=\"A bit spicy\" style=\"color: darkgreen \">🌶️</span>\n",
    "\n",
    "In the tutorial, we talked about deciding whether we're prepared for the weather. I said that I'm safe from today's weather if...\n",
    "- I have an umbrella...\n",
    "- or if the rain isn't too heavy and I have a hood...\n",
    "- otherwise, I'm still fine unless it's raining *and* it's a workday\n",
    "\n",
    "The function below uses our first attempt at turning this logic into a Python expression. I claimed that there was a bug in that code. Can you find it?\n",
    "\n",
    "To prove that `prepared_for_weather` is buggy, come up with a set of inputs where either:\n",
    "- the function returns `False` (but should have returned `True`), or\n",
    "- the function returned `True` (but should have returned `False`).\n",
    "\n",
    "To get credit for completing this question, your code should return a <font color='#33cc33'>Correct</font> result."
   ]
  },
  {
   "cell_type": "code",
   "execution_count": 8,
   "id": "ccb3dce7",
   "metadata": {
    "execution": {
     "iopub.execute_input": "2021-08-06T15:06:40.410178Z",
     "iopub.status.busy": "2021-08-06T15:06:40.409252Z",
     "iopub.status.idle": "2021-08-06T15:06:40.420606Z",
     "shell.execute_reply": "2021-08-06T15:06:40.421055Z",
     "shell.execute_reply.started": "2021-08-06T00:33:03.535878Z"
    },
    "papermill": {
     "duration": 0.040269,
     "end_time": "2021-08-06T15:06:40.421242",
     "exception": false,
     "start_time": "2021-08-06T15:06:40.380973",
     "status": "completed"
    },
    "tags": []
   },
   "outputs": [
    {
     "name": "stdout",
     "output_type": "stream",
     "text": [
      "True\n"
     ]
    },
    {
     "data": {
      "application/javascript": [
       "parent.postMessage({\"jupyterEvent\": \"custom.exercise_interaction\", \"data\": {\"outcomeType\": 2, \"failureMessage\": \"Given `have_umbrella=True`, `rain_level=0.0`, `have_hood=True`, `is_workday=True`, `prepared_for_weather` returned `True`. But I think that's correct. (We want inputs that lead to an incorrect result from `prepared_for_weather`.)\", \"interactionType\": 1, \"questionType\": 1, \"questionId\": \"3_WeatherDebug\", \"learnToolsVersion\": \"0.3.4\", \"valueTowardsCompletion\": 0.0, \"exceptionClass\": \"\", \"trace\": \"\"}}, \"*\")"
      ],
      "text/plain": [
       "<IPython.core.display.Javascript object>"
      ]
     },
     "metadata": {},
     "output_type": "display_data"
    },
    {
     "data": {
      "text/markdown": [
       "<span style=\"color:#cc3333\">Incorrect:</span> Given `have_umbrella=True`, `rain_level=0.0`, `have_hood=True`, `is_workday=True`, `prepared_for_weather` returned `True`. But I think that's correct. (We want inputs that lead to an incorrect result from `prepared_for_weather`.)"
      ],
      "text/plain": [
       "Incorrect: Given `have_umbrella=True`, `rain_level=0.0`, `have_hood=True`, `is_workday=True`, `prepared_for_weather` returned `True`. But I think that's correct. (We want inputs that lead to an incorrect result from `prepared_for_weather`.)"
      ]
     },
     "metadata": {},
     "output_type": "display_data"
    }
   ],
   "source": [
    "def prepared_for_weather(have_umbrella, rain_level, have_hood, is_workday):\n",
    "    # Don't change this code. Our goal is just to find the bug, not fix it!\n",
    "    return have_umbrella or (rain_level < 5 and have_hood) or not (rain_level > 0 and is_workday)\n",
    "\n",
    "# Change the values of these inputs so they represent a case where prepared_for_weather\n",
    "# returns the wrong answer.\n",
    "have_umbrella = True\n",
    "rain_level = 0.0\n",
    "have_hood = True\n",
    "is_workday = True\n",
    "\n",
    "# Check what the function returns given the current values of the variables above\n",
    "actual = prepared_for_weather(have_umbrella, rain_level, have_hood, is_workday)\n",
    "print(actual)\n",
    "\n",
    "# Check your answer\n",
    "q3.check()"
   ]
  },
  {
   "cell_type": "code",
   "execution_count": 9,
   "id": "e00b85f7",
   "metadata": {
    "execution": {
     "iopub.execute_input": "2021-08-06T15:06:40.479403Z",
     "iopub.status.busy": "2021-08-06T15:06:40.478782Z",
     "iopub.status.idle": "2021-08-06T15:06:40.487631Z",
     "shell.execute_reply": "2021-08-06T15:06:40.488106Z",
     "shell.execute_reply.started": "2021-08-06T00:33:09.444022Z"
    },
    "papermill": {
     "duration": 0.038588,
     "end_time": "2021-08-06T15:06:40.488269",
     "exception": false,
     "start_time": "2021-08-06T15:06:40.449681",
     "status": "completed"
    },
    "tags": []
   },
   "outputs": [
    {
     "data": {
      "application/javascript": [
       "parent.postMessage({\"jupyterEvent\": \"custom.exercise_interaction\", \"data\": {\"interactionType\": 2, \"questionType\": 1, \"questionId\": \"3_WeatherDebug\", \"learnToolsVersion\": \"0.3.4\", \"valueTowardsCompletion\": 0.0, \"failureMessage\": \"\", \"exceptionClass\": \"\", \"trace\": \"\", \"outcomeType\": 4}}, \"*\")"
      ],
      "text/plain": [
       "<IPython.core.display.Javascript object>"
      ]
     },
     "metadata": {},
     "output_type": "display_data"
    },
    {
     "data": {
      "text/markdown": [
       "<span style=\"color:#3366cc\">Hint:</span> Take a look at how we fixed our original expression in the main lesson. We added parentheses around certain subexpressions. The bug in this code is caused by Python evaluating certain operations in the \"wrong\" order."
      ],
      "text/plain": [
       "Hint: Take a look at how we fixed our original expression in the main lesson. We added parentheses around certain subexpressions. The bug in this code is caused by Python evaluating certain operations in the \"wrong\" order."
      ]
     },
     "metadata": {},
     "output_type": "display_data"
    },
    {
     "data": {
      "application/javascript": [
       "parent.postMessage({\"jupyterEvent\": \"custom.exercise_interaction\", \"data\": {\"interactionType\": 3, \"questionType\": 1, \"questionId\": \"3_WeatherDebug\", \"learnToolsVersion\": \"0.3.4\", \"valueTowardsCompletion\": 0.0, \"failureMessage\": \"\", \"exceptionClass\": \"\", \"trace\": \"\", \"outcomeType\": 4}}, \"*\")"
      ],
      "text/plain": [
       "<IPython.core.display.Javascript object>"
      ]
     },
     "metadata": {},
     "output_type": "display_data"
    },
    {
     "data": {
      "text/markdown": [
       "<span style=\"color:#33cc99\">Solution:</span> One example of a failing test case is:\n",
       "\n",
       "```python\n",
       "have_umbrella = False\n",
       "rain_level = 0.0\n",
       "have_hood = False\n",
       "is_workday = False\n",
       "```\n",
       "\n",
       "Clearly we're prepared for the weather in this case. It's not raining. Not only that, it's not a workday, so we don't even need to leave the house! But our function will return False on these inputs.\n",
       "\n",
       "The key problem is that Python implictly parenthesizes the last part as:\n",
       "\n",
       "```python\n",
       "(not (rain_level > 0)) and is_workday\n",
       "```\n",
       "\n",
       "Whereas what we were trying to express would look more like:\n",
       "\n",
       "```python\n",
       "not (rain_level > 0 and is_workday)\n",
       "```\n"
      ],
      "text/plain": [
       "Solution: One example of a failing test case is:\n",
       "\n",
       "```python\n",
       "have_umbrella = False\n",
       "rain_level = 0.0\n",
       "have_hood = False\n",
       "is_workday = False\n",
       "```\n",
       "\n",
       "Clearly we're prepared for the weather in this case. It's not raining. Not only that, it's not a workday, so we don't even need to leave the house! But our function will return False on these inputs.\n",
       "\n",
       "The key problem is that Python implictly parenthesizes the last part as:\n",
       "\n",
       "```python\n",
       "(not (rain_level > 0)) and is_workday\n",
       "```\n",
       "\n",
       "Whereas what we were trying to express would look more like:\n",
       "\n",
       "```python\n",
       "not (rain_level > 0 and is_workday)\n",
       "```"
      ]
     },
     "metadata": {},
     "output_type": "display_data"
    }
   ],
   "source": [
    "q3.hint()\n",
    "q3.solution()"
   ]
  },
  {
   "cell_type": "markdown",
   "id": "6cba8fed",
   "metadata": {
    "papermill": {
     "duration": 0.02794,
     "end_time": "2021-08-06T15:06:40.544528",
     "exception": false,
     "start_time": "2021-08-06T15:06:40.516588",
     "status": "completed"
    },
    "tags": []
   },
   "source": [
    "# 4.\n",
    "\n",
    "The function `is_negative` below is implemented correctly - it returns True if the given number is negative and False otherwise.\n",
    "\n",
    "However, it's more verbose than it needs to be. We can actually reduce the number of lines of code in this function by *75%* while keeping the same behaviour. \n",
    "\n",
    "See if you can come up with an equivalent body that uses just **one line** of code, and put it in the function `concise_is_negative`. (HINT: you don't even need Python's ternary syntax)"
   ]
  },
  {
   "cell_type": "code",
   "execution_count": 10,
   "id": "571e3a96",
   "metadata": {
    "execution": {
     "iopub.execute_input": "2021-08-06T15:06:40.603159Z",
     "iopub.status.busy": "2021-08-06T15:06:40.602537Z",
     "iopub.status.idle": "2021-08-06T15:06:40.609447Z",
     "shell.execute_reply": "2021-08-06T15:06:40.609944Z",
     "shell.execute_reply.started": "2021-08-06T00:34:50.619240Z"
    },
    "papermill": {
     "duration": 0.03776,
     "end_time": "2021-08-06T15:06:40.610121",
     "exception": false,
     "start_time": "2021-08-06T15:06:40.572361",
     "status": "completed"
    },
    "tags": []
   },
   "outputs": [
    {
     "data": {
      "application/javascript": [
       "parent.postMessage({\"jupyterEvent\": \"custom.exercise_interaction\", \"data\": {\"outcomeType\": 1, \"valueTowardsCompletion\": 0.2, \"interactionType\": 1, \"questionType\": 2, \"questionId\": \"4_ConciseIsNegative\", \"learnToolsVersion\": \"0.3.4\", \"failureMessage\": \"\", \"exceptionClass\": \"\", \"trace\": \"\"}}, \"*\")"
      ],
      "text/plain": [
       "<IPython.core.display.Javascript object>"
      ]
     },
     "metadata": {},
     "output_type": "display_data"
    },
    {
     "data": {
      "text/markdown": [
       "<span style=\"color:#33cc33\">Correct</span>"
      ],
      "text/plain": [
       "Correct"
      ]
     },
     "metadata": {},
     "output_type": "display_data"
    }
   ],
   "source": [
    "def is_negative(number):\n",
    "    if number < 0:\n",
    "        return True\n",
    "    else:\n",
    "        return False\n",
    "\n",
    "def concise_is_negative(number):\n",
    "    return number<0\n",
    "# Check your answer\n",
    "q4.check()"
   ]
  },
  {
   "cell_type": "code",
   "execution_count": 11,
   "id": "29604216",
   "metadata": {
    "execution": {
     "iopub.execute_input": "2021-08-06T15:06:40.672165Z",
     "iopub.status.busy": "2021-08-06T15:06:40.671565Z",
     "iopub.status.idle": "2021-08-06T15:06:40.680640Z",
     "shell.execute_reply": "2021-08-06T15:06:40.681127Z",
     "shell.execute_reply.started": "2021-08-06T00:34:59.188401Z"
    },
    "papermill": {
     "duration": 0.04096,
     "end_time": "2021-08-06T15:06:40.681307",
     "exception": false,
     "start_time": "2021-08-06T15:06:40.640347",
     "status": "completed"
    },
    "tags": []
   },
   "outputs": [
    {
     "data": {
      "application/javascript": [
       "parent.postMessage({\"jupyterEvent\": \"custom.exercise_interaction\", \"data\": {\"interactionType\": 2, \"questionType\": 2, \"questionId\": \"4_ConciseIsNegative\", \"learnToolsVersion\": \"0.3.4\", \"valueTowardsCompletion\": 0.0, \"failureMessage\": \"\", \"exceptionClass\": \"\", \"trace\": \"\", \"outcomeType\": 4}}, \"*\")"
      ],
      "text/plain": [
       "<IPython.core.display.Javascript object>"
      ]
     },
     "metadata": {},
     "output_type": "display_data"
    },
    {
     "data": {
      "text/markdown": [
       "<span style=\"color:#3366cc\">Hint:</span> If the value of the expression `number < 0` is `True`, then we return `True`. If it's `False`, then we return `False`..."
      ],
      "text/plain": [
       "Hint: If the value of the expression `number < 0` is `True`, then we return `True`. If it's `False`, then we return `False`..."
      ]
     },
     "metadata": {},
     "output_type": "display_data"
    },
    {
     "data": {
      "application/javascript": [
       "parent.postMessage({\"jupyterEvent\": \"custom.exercise_interaction\", \"data\": {\"interactionType\": 3, \"questionType\": 2, \"questionId\": \"4_ConciseIsNegative\", \"learnToolsVersion\": \"0.3.4\", \"valueTowardsCompletion\": 0.0, \"failureMessage\": \"\", \"exceptionClass\": \"\", \"trace\": \"\", \"outcomeType\": 4}}, \"*\")"
      ],
      "text/plain": [
       "<IPython.core.display.Javascript object>"
      ]
     },
     "metadata": {},
     "output_type": "display_data"
    },
    {
     "data": {
      "text/markdown": [
       "<span style=\"color:#33cc99\">Solution:</span> \n",
       "```python\n",
       "return number < 0\n",
       "```"
      ],
      "text/plain": [
       "Solution: \n",
       "```python\n",
       "return number < 0\n",
       "```"
      ]
     },
     "metadata": {},
     "output_type": "display_data"
    }
   ],
   "source": [
    "q4.hint()\n",
    "q4.solution()"
   ]
  },
  {
   "cell_type": "markdown",
   "id": "9b13e6cd",
   "metadata": {
    "papermill": {
     "duration": 0.031851,
     "end_time": "2021-08-06T15:06:40.744747",
     "exception": false,
     "start_time": "2021-08-06T15:06:40.712896",
     "status": "completed"
    },
    "tags": []
   },
   "source": [
    "# 5a.\n",
    "\n",
    "The boolean variables `ketchup`, `mustard` and `onion` represent whether a customer wants a particular topping on their hot dog. We want to implement a number of boolean functions that correspond to some yes-or-no questions about the customer's order. For example:"
   ]
  },
  {
   "cell_type": "code",
   "execution_count": 12,
   "id": "91251175",
   "metadata": {
    "execution": {
     "iopub.execute_input": "2021-08-06T15:06:40.809335Z",
     "iopub.status.busy": "2021-08-06T15:06:40.808700Z",
     "iopub.status.idle": "2021-08-06T15:06:40.813100Z",
     "shell.execute_reply": "2021-08-06T15:06:40.812532Z",
     "shell.execute_reply.started": "2021-08-06T14:38:54.740171Z"
    },
    "papermill": {
     "duration": 0.038113,
     "end_time": "2021-08-06T15:06:40.813238",
     "exception": false,
     "start_time": "2021-08-06T15:06:40.775125",
     "status": "completed"
    },
    "tags": []
   },
   "outputs": [],
   "source": [
    "def onionless(ketchup, mustard, onion):\n",
    "    \"\"\"Return whether the customer doesn't want onions.\n",
    "    \"\"\"\n",
    "    return not onion"
   ]
  },
  {
   "cell_type": "code",
   "execution_count": 13,
   "id": "c766d89c",
   "metadata": {
    "execution": {
     "iopub.execute_input": "2021-08-06T15:06:40.881088Z",
     "iopub.status.busy": "2021-08-06T15:06:40.880413Z",
     "iopub.status.idle": "2021-08-06T15:06:40.886658Z",
     "shell.execute_reply": "2021-08-06T15:06:40.887061Z",
     "shell.execute_reply.started": "2021-08-06T14:40:06.969815Z"
    },
    "papermill": {
     "duration": 0.041685,
     "end_time": "2021-08-06T15:06:40.887229",
     "exception": false,
     "start_time": "2021-08-06T15:06:40.845544",
     "status": "completed"
    },
    "tags": []
   },
   "outputs": [
    {
     "data": {
      "application/javascript": [
       "parent.postMessage({\"jupyterEvent\": \"custom.exercise_interaction\", \"data\": {\"outcomeType\": 1, \"valueTowardsCompletion\": 0.2, \"interactionType\": 1, \"questionType\": 2, \"questionId\": \"5.1_AllToppings\", \"learnToolsVersion\": \"0.3.4\", \"failureMessage\": \"\", \"exceptionClass\": \"\", \"trace\": \"\"}}, \"*\")"
      ],
      "text/plain": [
       "<IPython.core.display.Javascript object>"
      ]
     },
     "metadata": {},
     "output_type": "display_data"
    },
    {
     "data": {
      "text/markdown": [
       "<span style=\"color:#33cc33\">Correct</span>"
      ],
      "text/plain": [
       "Correct"
      ]
     },
     "metadata": {},
     "output_type": "display_data"
    }
   ],
   "source": [
    "def wants_all_toppings(ketchup, mustard, onion):\n",
    "    \"\"\"Return whether the customer wants \"the works\" (all 3 toppings)\n",
    "    \"\"\"\n",
    "    return ketchup and mustard and onion\n",
    "\n",
    "\n",
    "# Check your answer\n",
    "q5.a.check()"
   ]
  },
  {
   "cell_type": "code",
   "execution_count": 14,
   "id": "ae4b237d",
   "metadata": {
    "execution": {
     "iopub.execute_input": "2021-08-06T15:06:40.952414Z",
     "iopub.status.busy": "2021-08-06T15:06:40.951822Z",
     "iopub.status.idle": "2021-08-06T15:06:40.960606Z",
     "shell.execute_reply": "2021-08-06T15:06:40.959961Z",
     "shell.execute_reply.started": "2021-08-06T14:39:04.646121Z"
    },
    "papermill": {
     "duration": 0.042257,
     "end_time": "2021-08-06T15:06:40.960747",
     "exception": false,
     "start_time": "2021-08-06T15:06:40.918490",
     "status": "completed"
    },
    "tags": []
   },
   "outputs": [
    {
     "data": {
      "application/javascript": [
       "parent.postMessage({\"jupyterEvent\": \"custom.exercise_interaction\", \"data\": {\"interactionType\": 2, \"questionType\": 2, \"questionId\": \"5.1_AllToppings\", \"learnToolsVersion\": \"0.3.4\", \"valueTowardsCompletion\": 0.0, \"failureMessage\": \"\", \"exceptionClass\": \"\", \"trace\": \"\", \"outcomeType\": 4}}, \"*\")"
      ],
      "text/plain": [
       "<IPython.core.display.Javascript object>"
      ]
     },
     "metadata": {},
     "output_type": "display_data"
    },
    {
     "data": {
      "text/markdown": [
       "<span style=\"color:#3366cc\">Hint:</span> You'll need to use the `and` operator."
      ],
      "text/plain": [
       "Hint: You'll need to use the `and` operator."
      ]
     },
     "metadata": {},
     "output_type": "display_data"
    },
    {
     "data": {
      "application/javascript": [
       "parent.postMessage({\"jupyterEvent\": \"custom.exercise_interaction\", \"data\": {\"interactionType\": 3, \"questionType\": 2, \"questionId\": \"5.1_AllToppings\", \"learnToolsVersion\": \"0.3.4\", \"valueTowardsCompletion\": 0.0, \"failureMessage\": \"\", \"exceptionClass\": \"\", \"trace\": \"\", \"outcomeType\": 4}}, \"*\")"
      ],
      "text/plain": [
       "<IPython.core.display.Javascript object>"
      ]
     },
     "metadata": {},
     "output_type": "display_data"
    },
    {
     "data": {
      "text/markdown": [
       "<span style=\"color:#33cc99\">Solution:</span> \n",
       "```python\n",
       "return ketchup and mustard and onion\n",
       "```"
      ],
      "text/plain": [
       "Solution: \n",
       "```python\n",
       "return ketchup and mustard and onion\n",
       "```"
      ]
     },
     "metadata": {},
     "output_type": "display_data"
    }
   ],
   "source": [
    "q5.a.hint()\n",
    "q5.a.solution()"
   ]
  },
  {
   "cell_type": "markdown",
   "id": "10538890",
   "metadata": {
    "papermill": {
     "duration": 0.034696,
     "end_time": "2021-08-06T15:06:41.028001",
     "exception": false,
     "start_time": "2021-08-06T15:06:40.993305",
     "status": "completed"
    },
    "tags": []
   },
   "source": [
    "# 5b.\n",
    "\n",
    "For the next function, fill in the body to match the English description in the docstring. "
   ]
  },
  {
   "cell_type": "code",
   "execution_count": 15,
   "id": "c653f49a",
   "metadata": {
    "execution": {
     "iopub.execute_input": "2021-08-06T15:06:41.099546Z",
     "iopub.status.busy": "2021-08-06T15:06:41.098903Z",
     "iopub.status.idle": "2021-08-06T15:06:41.105331Z",
     "shell.execute_reply": "2021-08-06T15:06:41.105904Z",
     "shell.execute_reply.started": "2021-08-06T14:40:02.329397Z"
    },
    "papermill": {
     "duration": 0.044927,
     "end_time": "2021-08-06T15:06:41.106165",
     "exception": false,
     "start_time": "2021-08-06T15:06:41.061238",
     "status": "completed"
    },
    "tags": []
   },
   "outputs": [
    {
     "data": {
      "application/javascript": [
       "parent.postMessage({\"jupyterEvent\": \"custom.exercise_interaction\", \"data\": {\"outcomeType\": 1, \"valueTowardsCompletion\": 0.2, \"interactionType\": 1, \"questionType\": 2, \"questionId\": \"5.2_PlainDog\", \"learnToolsVersion\": \"0.3.4\", \"failureMessage\": \"\", \"exceptionClass\": \"\", \"trace\": \"\"}}, \"*\")"
      ],
      "text/plain": [
       "<IPython.core.display.Javascript object>"
      ]
     },
     "metadata": {},
     "output_type": "display_data"
    },
    {
     "data": {
      "text/markdown": [
       "<span style=\"color:#33cc33\">Correct:</span> \n",
       "\n",
       "One solution looks like:\n",
       "```python\n",
       "return not ketchup and not mustard and not onion\n",
       "```\n",
       "\n",
       "We can also [\"factor out\" the nots](https://en.wikipedia.org/wiki/De_Morgan%27s_laws) to get:\n",
       "\n",
       "```python\n",
       "return not (ketchup or mustard or onion)\n",
       "```"
      ],
      "text/plain": [
       "Correct: \n",
       "\n",
       "One solution looks like:\n",
       "```python\n",
       "return not ketchup and not mustard and not onion\n",
       "```\n",
       "\n",
       "We can also [\"factor out\" the nots](https://en.wikipedia.org/wiki/De_Morgan%27s_laws) to get:\n",
       "\n",
       "```python\n",
       "return not (ketchup or mustard or onion)\n",
       "```"
      ]
     },
     "metadata": {},
     "output_type": "display_data"
    }
   ],
   "source": [
    "def wants_plain_hotdog(ketchup, mustard, onion):\n",
    "    \"\"\"Return whether the customer wants a plain hot dog with no toppings.\n",
    "    \"\"\"\n",
    "    return not ketchup and not mustard and not onion\n",
    "\n",
    "# Check your answer\n",
    "q5.b.check()"
   ]
  },
  {
   "cell_type": "code",
   "execution_count": 16,
   "id": "ba848511",
   "metadata": {
    "execution": {
     "iopub.execute_input": "2021-08-06T15:06:41.179941Z",
     "iopub.status.busy": "2021-08-06T15:06:41.179274Z",
     "iopub.status.idle": "2021-08-06T15:06:41.187055Z",
     "shell.execute_reply": "2021-08-06T15:06:41.187518Z",
     "shell.execute_reply.started": "2021-08-06T14:39:34.825903Z"
    },
    "papermill": {
     "duration": 0.046353,
     "end_time": "2021-08-06T15:06:41.187708",
     "exception": false,
     "start_time": "2021-08-06T15:06:41.141355",
     "status": "completed"
    },
    "tags": []
   },
   "outputs": [
    {
     "data": {
      "application/javascript": [
       "parent.postMessage({\"jupyterEvent\": \"custom.exercise_interaction\", \"data\": {\"interactionType\": 2, \"questionType\": 2, \"questionId\": \"5.2_PlainDog\", \"learnToolsVersion\": \"0.3.4\", \"valueTowardsCompletion\": 0.0, \"failureMessage\": \"\", \"exceptionClass\": \"\", \"trace\": \"\", \"outcomeType\": 4}}, \"*\")"
      ],
      "text/plain": [
       "<IPython.core.display.Javascript object>"
      ]
     },
     "metadata": {},
     "output_type": "display_data"
    },
    {
     "data": {
      "text/markdown": [
       "<span style=\"color:#3366cc\">Hint:</span> You'll need to use the `not` operator."
      ],
      "text/plain": [
       "Hint: You'll need to use the `not` operator."
      ]
     },
     "metadata": {},
     "output_type": "display_data"
    },
    {
     "data": {
      "application/javascript": [
       "parent.postMessage({\"jupyterEvent\": \"custom.exercise_interaction\", \"data\": {\"interactionType\": 3, \"questionType\": 2, \"questionId\": \"5.2_PlainDog\", \"learnToolsVersion\": \"0.3.4\", \"valueTowardsCompletion\": 0.0, \"failureMessage\": \"\", \"exceptionClass\": \"\", \"trace\": \"\", \"outcomeType\": 4}}, \"*\")"
      ],
      "text/plain": [
       "<IPython.core.display.Javascript object>"
      ]
     },
     "metadata": {},
     "output_type": "display_data"
    },
    {
     "data": {
      "text/markdown": [
       "<span style=\"color:#33cc99\">Solution:</span> One solution looks like:\n",
       "```python\n",
       "return not ketchup and not mustard and not onion\n",
       "```\n",
       "\n",
       "We can also [\"factor out\" the nots](https://en.wikipedia.org/wiki/De_Morgan%27s_laws) to get:\n",
       "\n",
       "```python\n",
       "return not (ketchup or mustard or onion)\n",
       "```"
      ],
      "text/plain": [
       "Solution: One solution looks like:\n",
       "```python\n",
       "return not ketchup and not mustard and not onion\n",
       "```\n",
       "\n",
       "We can also [\"factor out\" the nots](https://en.wikipedia.org/wiki/De_Morgan%27s_laws) to get:\n",
       "\n",
       "```python\n",
       "return not (ketchup or mustard or onion)\n",
       "```"
      ]
     },
     "metadata": {},
     "output_type": "display_data"
    }
   ],
   "source": [
    "q5.b.hint()\n",
    "q5.b.solution()"
   ]
  },
  {
   "cell_type": "markdown",
   "id": "72342709",
   "metadata": {
    "papermill": {
     "duration": 0.034334,
     "end_time": "2021-08-06T15:06:41.257177",
     "exception": false,
     "start_time": "2021-08-06T15:06:41.222843",
     "status": "completed"
    },
    "tags": []
   },
   "source": [
    "# 5c.\n",
    "\n",
    "You know what to do: for the next function, fill in the body to match the English description in the docstring."
   ]
  },
  {
   "cell_type": "code",
   "execution_count": 17,
   "id": "331c6167",
   "metadata": {
    "execution": {
     "iopub.execute_input": "2021-08-06T15:06:41.335149Z",
     "iopub.status.busy": "2021-08-06T15:06:41.334495Z",
     "iopub.status.idle": "2021-08-06T15:06:41.341426Z",
     "shell.execute_reply": "2021-08-06T15:06:41.341896Z",
     "shell.execute_reply.started": "2021-08-06T14:42:24.973311Z"
    },
    "papermill": {
     "duration": 0.048375,
     "end_time": "2021-08-06T15:06:41.342084",
     "exception": false,
     "start_time": "2021-08-06T15:06:41.293709",
     "status": "completed"
    },
    "tags": []
   },
   "outputs": [
    {
     "data": {
      "application/javascript": [
       "parent.postMessage({\"jupyterEvent\": \"custom.exercise_interaction\", \"data\": {\"outcomeType\": 1, \"valueTowardsCompletion\": 0.2, \"interactionType\": 1, \"questionType\": 2, \"questionId\": \"5.3_OneSauce\", \"learnToolsVersion\": \"0.3.4\", \"failureMessage\": \"\", \"exceptionClass\": \"\", \"trace\": \"\"}}, \"*\")"
      ],
      "text/plain": [
       "<IPython.core.display.Javascript object>"
      ]
     },
     "metadata": {},
     "output_type": "display_data"
    },
    {
     "data": {
      "text/markdown": [
       "<span style=\"color:#33cc33\">Correct</span>"
      ],
      "text/plain": [
       "Correct"
      ]
     },
     "metadata": {},
     "output_type": "display_data"
    }
   ],
   "source": [
    "def exactly_one_sauce(ketchup, mustard, onion):\n",
    "    \"\"\"Return whether the customer wants either ketchup or mustard, but not both.\n",
    "    (You may be familiar with this operation under the name \"exclusive or\")\n",
    "    \"\"\"\n",
    "    return (ketchup and not mustard) or (mustard and not ketchup)\n",
    " \n",
    "\n",
    "# Check your answer\n",
    "q5.c.check()"
   ]
  },
  {
   "cell_type": "code",
   "execution_count": 18,
   "id": "221976ff",
   "metadata": {
    "execution": {
     "iopub.execute_input": "2021-08-06T15:06:41.420734Z",
     "iopub.status.busy": "2021-08-06T15:06:41.420102Z",
     "iopub.status.idle": "2021-08-06T15:06:41.428463Z",
     "shell.execute_reply": "2021-08-06T15:06:41.428987Z",
     "shell.execute_reply.started": "2021-08-06T14:41:59.328523Z"
    },
    "papermill": {
     "duration": 0.049859,
     "end_time": "2021-08-06T15:06:41.429157",
     "exception": false,
     "start_time": "2021-08-06T15:06:41.379298",
     "status": "completed"
    },
    "tags": []
   },
   "outputs": [
    {
     "data": {
      "application/javascript": [
       "parent.postMessage({\"jupyterEvent\": \"custom.exercise_interaction\", \"data\": {\"interactionType\": 2, \"questionType\": 2, \"questionId\": \"5.3_OneSauce\", \"learnToolsVersion\": \"0.3.4\", \"valueTowardsCompletion\": 0.0, \"failureMessage\": \"\", \"exceptionClass\": \"\", \"trace\": \"\", \"outcomeType\": 4}}, \"*\")"
      ],
      "text/plain": [
       "<IPython.core.display.Javascript object>"
      ]
     },
     "metadata": {},
     "output_type": "display_data"
    },
    {
     "data": {
      "text/markdown": [
       "<span style=\"color:#3366cc\">Hint:</span> There are exactly two ways to set ketchup and mustard to make this true. What are they?"
      ],
      "text/plain": [
       "Hint: There are exactly two ways to set ketchup and mustard to make this true. What are they?"
      ]
     },
     "metadata": {},
     "output_type": "display_data"
    },
    {
     "data": {
      "application/javascript": [
       "parent.postMessage({\"jupyterEvent\": \"custom.exercise_interaction\", \"data\": {\"interactionType\": 3, \"questionType\": 2, \"questionId\": \"5.3_OneSauce\", \"learnToolsVersion\": \"0.3.4\", \"valueTowardsCompletion\": 0.0, \"failureMessage\": \"\", \"exceptionClass\": \"\", \"trace\": \"\", \"outcomeType\": 4}}, \"*\")"
      ],
      "text/plain": [
       "<IPython.core.display.Javascript object>"
      ]
     },
     "metadata": {},
     "output_type": "display_data"
    },
    {
     "data": {
      "text/markdown": [
       "<span style=\"color:#33cc99\">Solution:</span> \n",
       "```python\n",
       "return (ketchup and not mustard) or (mustard and not ketchup)\n",
       "```"
      ],
      "text/plain": [
       "Solution: \n",
       "```python\n",
       "return (ketchup and not mustard) or (mustard and not ketchup)\n",
       "```"
      ]
     },
     "metadata": {},
     "output_type": "display_data"
    }
   ],
   "source": [
    "q5.c.hint()\n",
    "q5.c.solution()"
   ]
  },
  {
   "cell_type": "markdown",
   "id": "63dda792",
   "metadata": {
    "papermill": {
     "duration": 0.05293,
     "end_time": "2021-08-06T15:06:41.526853",
     "exception": false,
     "start_time": "2021-08-06T15:06:41.473923",
     "status": "completed"
    },
    "tags": []
   },
   "source": [
    "# 6. <span title=\"A bit spicy\" style=\"color: darkgreen \">🌶️</span>\n",
    "\n",
    "We’ve seen that calling `bool()` on an integer returns `False` if it’s equal to 0 and `True` otherwise. What happens if we call `int()` on a bool? Try it out in the notebook cell below.\n",
    "\n",
    "Can you take advantage of this to write a succinct function that corresponds to the English sentence \"does the customer want exactly one topping?\"?"
   ]
  },
  {
   "cell_type": "code",
   "execution_count": 19,
   "id": "d28e2920",
   "metadata": {
    "execution": {
     "iopub.execute_input": "2021-08-06T15:06:41.615168Z",
     "iopub.status.busy": "2021-08-06T15:06:41.614534Z",
     "iopub.status.idle": "2021-08-06T15:06:41.621243Z",
     "shell.execute_reply": "2021-08-06T15:06:41.621708Z",
     "shell.execute_reply.started": "2021-08-06T14:44:13.435706Z"
    },
    "papermill": {
     "duration": 0.049725,
     "end_time": "2021-08-06T15:06:41.621873",
     "exception": false,
     "start_time": "2021-08-06T15:06:41.572148",
     "status": "completed"
    },
    "tags": []
   },
   "outputs": [
    {
     "data": {
      "application/javascript": [
       "parent.postMessage({\"jupyterEvent\": \"custom.exercise_interaction\", \"data\": {\"outcomeType\": 1, \"valueTowardsCompletion\": 0.2, \"interactionType\": 1, \"questionType\": 2, \"questionId\": \"6_OneTopping\", \"learnToolsVersion\": \"0.3.4\", \"failureMessage\": \"\", \"exceptionClass\": \"\", \"trace\": \"\"}}, \"*\")"
      ],
      "text/plain": [
       "<IPython.core.display.Javascript object>"
      ]
     },
     "metadata": {},
     "output_type": "display_data"
    },
    {
     "data": {
      "text/markdown": [
       "<span style=\"color:#33cc33\">Correct:</span> \n",
       "\n",
       "This condition would be pretty complicated to express using just `and`, `or` and `not`, but using boolean-to-integer conversion gives us this short solution:\n",
       "```python\n",
       "return (int(ketchup) + int(mustard) + int(onion)) == 1\n",
       "```\n",
       "\n",
       "Fun fact: we don't technically need to call `int` on the arguments. Just by doing addition with booleans, Python implicitly does the integer conversion. So we could also write...\n",
       "\n",
       "```python\n",
       "return (ketchup + mustard + onion) == 1\n",
       "```"
      ],
      "text/plain": [
       "Correct: \n",
       "\n",
       "This condition would be pretty complicated to express using just `and`, `or` and `not`, but using boolean-to-integer conversion gives us this short solution:\n",
       "```python\n",
       "return (int(ketchup) + int(mustard) + int(onion)) == 1\n",
       "```\n",
       "\n",
       "Fun fact: we don't technically need to call `int` on the arguments. Just by doing addition with booleans, Python implicitly does the integer conversion. So we could also write...\n",
       "\n",
       "```python\n",
       "return (ketchup + mustard + onion) == 1\n",
       "```"
      ]
     },
     "metadata": {},
     "output_type": "display_data"
    }
   ],
   "source": [
    "def exactly_one_topping(ketchup, mustard, onion):\n",
    "    \"\"\"Return whether the customer wants exactly one of the three available toppings\n",
    "    on their hot dog.\n",
    "    does the customer want exactly one topping?\n",
    "    \"\"\"\n",
    "    return (int(ketchup) + int(mustard) + int(onion)) == 1\n",
    "\n",
    "\n",
    "# Check your answer\n",
    "q6.check()"
   ]
  },
  {
   "cell_type": "code",
   "execution_count": 20,
   "id": "3bc18cde",
   "metadata": {
    "execution": {
     "iopub.execute_input": "2021-08-06T15:06:41.704249Z",
     "iopub.status.busy": "2021-08-06T15:06:41.703631Z",
     "iopub.status.idle": "2021-08-06T15:06:41.714633Z",
     "shell.execute_reply": "2021-08-06T15:06:41.714022Z",
     "shell.execute_reply.started": "2021-08-06T14:43:28.026947Z"
    },
    "papermill": {
     "duration": 0.052394,
     "end_time": "2021-08-06T15:06:41.714779",
     "exception": false,
     "start_time": "2021-08-06T15:06:41.662385",
     "status": "completed"
    },
    "tags": []
   },
   "outputs": [
    {
     "data": {
      "application/javascript": [
       "parent.postMessage({\"jupyterEvent\": \"custom.exercise_interaction\", \"data\": {\"interactionType\": 2, \"questionType\": 2, \"questionId\": \"6_OneTopping\", \"learnToolsVersion\": \"0.3.4\", \"valueTowardsCompletion\": 0.0, \"failureMessage\": \"\", \"exceptionClass\": \"\", \"trace\": \"\", \"outcomeType\": 4}}, \"*\")"
      ],
      "text/plain": [
       "<IPython.core.display.Javascript object>"
      ]
     },
     "metadata": {},
     "output_type": "display_data"
    },
    {
     "data": {
      "text/markdown": [
       "<span style=\"color:#3366cc\">Hint:</span> You may have already found that `int(True)` is 1, and `int(False)` is 0. Think about what kinds of basic arithmetic operations you might want to perform on `ketchup`, `mustard`, and `onion` after converting them to integers."
      ],
      "text/plain": [
       "Hint: You may have already found that `int(True)` is 1, and `int(False)` is 0. Think about what kinds of basic arithmetic operations you might want to perform on `ketchup`, `mustard`, and `onion` after converting them to integers."
      ]
     },
     "metadata": {},
     "output_type": "display_data"
    },
    {
     "data": {
      "application/javascript": [
       "parent.postMessage({\"jupyterEvent\": \"custom.exercise_interaction\", \"data\": {\"interactionType\": 3, \"questionType\": 2, \"questionId\": \"6_OneTopping\", \"learnToolsVersion\": \"0.3.4\", \"valueTowardsCompletion\": 0.0, \"failureMessage\": \"\", \"exceptionClass\": \"\", \"trace\": \"\", \"outcomeType\": 4}}, \"*\")"
      ],
      "text/plain": [
       "<IPython.core.display.Javascript object>"
      ]
     },
     "metadata": {},
     "output_type": "display_data"
    },
    {
     "data": {
      "text/markdown": [
       "<span style=\"color:#33cc99\">Solution:</span> This condition would be pretty complicated to express using just `and`, `or` and `not`, but using boolean-to-integer conversion gives us this short solution:\n",
       "```python\n",
       "return (int(ketchup) + int(mustard) + int(onion)) == 1\n",
       "```\n",
       "\n",
       "Fun fact: we don't technically need to call `int` on the arguments. Just by doing addition with booleans, Python implicitly does the integer conversion. So we could also write...\n",
       "\n",
       "```python\n",
       "return (ketchup + mustard + onion) == 1\n",
       "```"
      ],
      "text/plain": [
       "Solution: This condition would be pretty complicated to express using just `and`, `or` and `not`, but using boolean-to-integer conversion gives us this short solution:\n",
       "```python\n",
       "return (int(ketchup) + int(mustard) + int(onion)) == 1\n",
       "```\n",
       "\n",
       "Fun fact: we don't technically need to call `int` on the arguments. Just by doing addition with booleans, Python implicitly does the integer conversion. So we could also write...\n",
       "\n",
       "```python\n",
       "return (ketchup + mustard + onion) == 1\n",
       "```"
      ]
     },
     "metadata": {},
     "output_type": "display_data"
    }
   ],
   "source": [
    "q6.hint()\n",
    "q6.solution()"
   ]
  },
  {
   "cell_type": "markdown",
   "id": "afc550f6",
   "metadata": {
    "papermill": {
     "duration": 0.039818,
     "end_time": "2021-08-06T15:06:41.794712",
     "exception": false,
     "start_time": "2021-08-06T15:06:41.754894",
     "status": "completed"
    },
    "tags": []
   },
   "source": [
    "# 7. <span title=\"A bit spicy\" style=\"color: darkgreen \">🌶️</span> (Optional)\n",
    "\n",
    "In this problem we'll be working with a simplified version of [blackjack](https://en.wikipedia.org/wiki/Blackjack) (aka twenty-one). In this version there is one player (who you'll control) and a dealer. Play proceeds as follows:\n",
    "\n",
    "- The player is dealt two face-up cards. The dealer is dealt one face-up card.\n",
    "- The player may ask to be dealt another card ('hit') as many times as they wish. If the sum of their cards exceeds 21, they lose the round immediately.\n",
    "- The dealer then deals additional cards to himself until either:\n",
    "    - the sum of the dealer's cards exceeds 21, in which case the player wins the round\n",
    "    - the sum of the dealer's cards is greater than or equal to 17. If the player's total is greater than the dealer's, the player wins. Otherwise, the dealer wins (even in case of a tie).\n",
    "    \n",
    "When calculating the sum of cards, Jack, Queen, and King count for 10. Aces can count as 1 or 11 (when referring to a player's \"total\" above, we mean the largest total that can be made without exceeding 21. So e.g. A+8 = 19, A+8+8 = 17)\n",
    "\n",
    "For this problem, you'll write a function representing the player's decision-making strategy in this game. We've provided a very unintelligent implementation below:"
   ]
  },
  {
   "cell_type": "code",
   "execution_count": 21,
   "id": "1bd139f2",
   "metadata": {
    "execution": {
     "iopub.execute_input": "2021-08-06T15:06:41.880760Z",
     "iopub.status.busy": "2021-08-06T15:06:41.879737Z",
     "iopub.status.idle": "2021-08-06T15:06:41.882167Z",
     "shell.execute_reply": "2021-08-06T15:06:41.882613Z",
     "shell.execute_reply.started": "2021-08-06T14:57:43.224400Z"
    },
    "papermill": {
     "duration": 0.04843,
     "end_time": "2021-08-06T15:06:41.882792",
     "exception": false,
     "start_time": "2021-08-06T15:06:41.834362",
     "status": "completed"
    },
    "tags": []
   },
   "outputs": [],
   "source": [
    "def should_hit(dealer_total, player_total, player_low_aces, player_high_aces):\n",
    "    \"\"\"Return True if the player should hit (request another card) given the current game\n",
    "    state, or False if the player should stay.\n",
    "    When calculating a hand's total value, we count aces as \"high\" (with value 11) if doing so\n",
    "    doesn't bring the total above 21, otherwise we count them as low (with value 1). \n",
    "    For example, if the player's hand is {A, A, A, 7}, we will count it as 11 + 1 + 1 + 7,\n",
    "    and therefore set player_total=20, player_low_aces=2, player_high_aces=1.\n",
    "    \"\"\"\n",
    "    # card_types = ['A',2,3,4,5,6,7,8,9,10,10,10,10]\n",
    "    if player_total < 11 and player_high_aces == 0:\n",
    "        return True\n",
    "    if player_total < 17 and player_high_aces == 1:\n",
    "        return True\n",
    "    elif player_total < dealer_total and player_high_aces != 0:\n",
    "        return True\n",
    "    else: \n",
    "        return False\n"
   ]
  },
  {
   "cell_type": "markdown",
   "id": "aedda505",
   "metadata": {
    "papermill": {
     "duration": 0.039713,
     "end_time": "2021-08-06T15:06:41.963743",
     "exception": false,
     "start_time": "2021-08-06T15:06:41.924030",
     "status": "completed"
    },
    "tags": []
   },
   "source": [
    "This very conservative agent *always* sticks with the hand of two cards that they're dealt.\n",
    "\n",
    "We'll be simulating games between your player agent and our own dealer agent by calling your function.\n",
    "\n",
    "Try running the function below to see an example of a simulated game:"
   ]
  },
  {
   "cell_type": "code",
   "execution_count": 22,
   "id": "838be572",
   "metadata": {
    "execution": {
     "iopub.execute_input": "2021-08-06T15:06:42.050693Z",
     "iopub.status.busy": "2021-08-06T15:06:42.049982Z",
     "iopub.status.idle": "2021-08-06T15:06:42.054889Z",
     "shell.execute_reply": "2021-08-06T15:06:42.054354Z",
     "shell.execute_reply.started": "2021-08-06T14:57:46.170946Z"
    },
    "papermill": {
     "duration": 0.049357,
     "end_time": "2021-08-06T15:06:42.055035",
     "exception": false,
     "start_time": "2021-08-06T15:06:42.005678",
     "status": "completed"
    },
    "tags": []
   },
   "outputs": [
    {
     "name": "stdout",
     "output_type": "stream",
     "text": [
      "Player starts with 10 and 3 (total = 13)\n",
      "Dealer starts with 3\n",
      "\n",
      "__Player's turn__\n",
      "Player stays\n",
      "\n",
      "__Dealer's turn__\n",
      "Dealer hits and receives 4. (total = 7)\n",
      "Dealer hits and receives 2. (total = 9)\n",
      "Dealer hits and receives 7. (total = 16)\n",
      "Dealer hits and receives 6. (total = 22)\n",
      "Dealer busts! Player wins.\n"
     ]
    }
   ],
   "source": [
    "q7.simulate_one_game()"
   ]
  },
  {
   "cell_type": "markdown",
   "id": "7e25ec1e",
   "metadata": {
    "papermill": {
     "duration": 0.040841,
     "end_time": "2021-08-06T15:06:42.135516",
     "exception": false,
     "start_time": "2021-08-06T15:06:42.094675",
     "status": "completed"
    },
    "tags": []
   },
   "source": [
    "The real test of your agent's mettle is their average win rate over many games. Try calling the function below to simulate 50000 games of blackjack (it may take a couple seconds):"
   ]
  },
  {
   "cell_type": "code",
   "execution_count": 23,
   "id": "98defb53",
   "metadata": {
    "execution": {
     "iopub.execute_input": "2021-08-06T15:06:42.239436Z",
     "iopub.status.busy": "2021-08-06T15:06:42.234367Z",
     "iopub.status.idle": "2021-08-06T15:06:43.567988Z",
     "shell.execute_reply": "2021-08-06T15:06:43.567490Z",
     "shell.execute_reply.started": "2021-08-06T14:58:16.871716Z"
    },
    "papermill": {
     "duration": 1.393295,
     "end_time": "2021-08-06T15:06:43.568169",
     "exception": false,
     "start_time": "2021-08-06T15:06:42.174874",
     "status": "completed"
    },
    "tags": []
   },
   "outputs": [
    {
     "name": "stdout",
     "output_type": "stream",
     "text": [
      "Player won 20270 out of 50000 games (win rate = 40.5%)\n"
     ]
    }
   ],
   "source": [
    "q7.simulate(n_games=50000)"
   ]
  },
  {
   "cell_type": "markdown",
   "id": "282a28fc",
   "metadata": {
    "papermill": {
     "duration": 0.040401,
     "end_time": "2021-08-06T15:06:43.649577",
     "exception": false,
     "start_time": "2021-08-06T15:06:43.609176",
     "status": "completed"
    },
    "tags": []
   },
   "source": [
    "Our dumb agent that completely ignores the game state still manages to win shockingly often!\n",
    "\n",
    "Try adding some more smarts to the `should_hit` function and see how it affects the results."
   ]
  },
  {
   "cell_type": "code",
   "execution_count": 24,
   "id": "f4ff9b0d",
   "metadata": {
    "execution": {
     "iopub.execute_input": "2021-08-06T15:06:43.744125Z",
     "iopub.status.busy": "2021-08-06T15:06:43.743454Z",
     "iopub.status.idle": "2021-08-06T15:06:45.127849Z",
     "shell.execute_reply": "2021-08-06T15:06:45.128808Z",
     "shell.execute_reply.started": "2021-08-06T15:06:09.530801Z"
    },
    "papermill": {
     "duration": 1.439025,
     "end_time": "2021-08-06T15:06:45.129149",
     "exception": false,
     "start_time": "2021-08-06T15:06:43.690124",
     "status": "completed"
    },
    "tags": []
   },
   "outputs": [
    {
     "name": "stdout",
     "output_type": "stream",
     "text": [
      "Player won 21346 out of 50000 games (win rate = 42.7%)\n"
     ]
    }
   ],
   "source": [
    "def should_hit(dealer_total, player_total, player_low_aces, player_high_aces):\n",
    "    \"\"\"Return True if the player should hit (request another card) given the current game\n",
    "    state, or False if the player should stay.\n",
    "    When calculating a hand's total value, we count aces as \"high\" (with value 11) if doing so\n",
    "    doesn't bring the total above 21, otherwise we count them as low (with value 1). \n",
    "    For example, if the player's hand is {A, A, A, 7}, we will count it as 11 + 1 + 1 + 7,\n",
    "    and therefore set player_total=20, player_low_aces=2, player_high_aces=1.\n",
    "    \"\"\"\n",
    "    #if player has more than or equal to 17 (17, 18, 19, 20, 21) just stand\n",
    "    if player_total >= 17:\n",
    "        return False\n",
    "    else:\n",
    "      #if you have 15 or 16 because of aces\n",
    "      if player_total == 15 or player_total == 16:\n",
    "        #if player got there because of aces, then hit because you can get ace + 5 + 10 = back to 16\n",
    "        if player_high_aces > 0:\n",
    "            return True\n",
    "        else:\n",
    "            #if 15 or 16 but not because of aces, then just stand and be safe because half the deck can bust you (7, 8, 9, and those many 10s)\n",
    "            return False        \n",
    "      #if between 11 and 15 (11, 12, 13, 14)... this is where you can take risks if possible\n",
    "      elif player_total >= 11:\n",
    "        #check what the dealer has because probability is high that if they started with a 6, they are going to bust so rather stand and be safe\n",
    "        if (dealer_total >= 3 and dealer_total <= 6):\n",
    "            return False\n",
    "        #else dealer is not in the risky zone. if they got a 10, chances are very high that they will end up with a large number like 18, 19, 20, 21 so better risk it and try get a high number\n",
    "        if (dealer_total == 9 or dealer_total == 10):\n",
    "            return True\n",
    "        #else dealer didn't start with a bad 5 or 6 or a large number so might not bust therefore fight to get a higher mark \n",
    "        else:\n",
    "            #if player has total greater than 11, see if they got there because of aces( max is 16 which could be ace + 5 and if you hit with a max card 10 it becomes 16 which is not bad)\n",
    "            if player_high_aces > 0:\n",
    "                return True\n",
    "            #else they are above 11 without an ace (11, 12, 13, 14)\n",
    "            else:\n",
    "                return True\n",
    "      else:\n",
    "       #if they are below\n",
    "       return True\n",
    "\n",
    "q7.simulate(n_games=50000)"
   ]
  },
  {
   "cell_type": "markdown",
   "id": "1263b630",
   "metadata": {
    "papermill": {
     "duration": 0.040517,
     "end_time": "2021-08-06T15:06:45.226172",
     "exception": false,
     "start_time": "2021-08-06T15:06:45.185655",
     "status": "completed"
    },
    "tags": []
   },
   "source": [
    "# Keep Going\n",
    "\n",
    "Learn about **[lists and tuples](https://www.kaggle.com/colinmorris/lists)** to handle multiple items of data in a systematic way."
   ]
  },
  {
   "cell_type": "markdown",
   "id": "329d97a4",
   "metadata": {
    "papermill": {
     "duration": 0.03968,
     "end_time": "2021-08-06T15:06:45.307402",
     "exception": false,
     "start_time": "2021-08-06T15:06:45.267722",
     "status": "completed"
    },
    "tags": []
   },
   "source": [
    "---\n",
    "\n",
    "\n",
    "\n",
    "\n",
    "*Have questions or comments? Visit the [Learn Discussion forum](https://www.kaggle.com/learn-forum/161283) to chat with other Learners.*"
   ]
  }
 ],
 "metadata": {
  "kernelspec": {
   "display_name": "Python 3",
   "language": "python",
   "name": "python3"
  },
  "language_info": {
   "codemirror_mode": {
    "name": "ipython",
    "version": 3
   },
   "file_extension": ".py",
   "mimetype": "text/x-python",
   "name": "python",
   "nbconvert_exporter": "python",
   "pygments_lexer": "ipython3",
   "version": "3.7.10"
  },
  "papermill": {
   "default_parameters": {},
   "duration": 14.874372,
   "end_time": "2021-08-06T15:06:46.717022",
   "environment_variables": {},
   "exception": null,
   "input_path": "__notebook__.ipynb",
   "output_path": "__notebook__.ipynb",
   "parameters": {},
   "start_time": "2021-08-06T15:06:31.842650",
   "version": "2.3.3"
  }
 },
 "nbformat": 4,
 "nbformat_minor": 5
}
