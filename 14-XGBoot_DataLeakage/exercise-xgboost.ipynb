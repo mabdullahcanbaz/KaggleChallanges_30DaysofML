{
 "cells": [
  {
   "cell_type": "markdown",
   "id": "ae8dd3d7",
   "metadata": {
    "papermill": {
     "duration": 0.017151,
     "end_time": "2021-08-16T16:12:33.504318",
     "exception": false,
     "start_time": "2021-08-16T16:12:33.487167",
     "status": "completed"
    },
    "tags": []
   },
   "source": [
    "**This notebook is an exercise in the [Intermediate Machine Learning](https://www.kaggle.com/learn/intermediate-machine-learning) course.  You can reference the tutorial at [this link](https://www.kaggle.com/alexisbcook/xgboost).**\n",
    "\n",
    "---\n"
   ]
  },
  {
   "cell_type": "markdown",
   "id": "25e2f901",
   "metadata": {
    "papermill": {
     "duration": 0.015179,
     "end_time": "2021-08-16T16:12:33.537283",
     "exception": false,
     "start_time": "2021-08-16T16:12:33.522104",
     "status": "completed"
    },
    "tags": []
   },
   "source": [
    "In this exercise, you will use your new knowledge to train a model with **gradient boosting**.\n",
    "\n",
    "# Setup\n",
    "\n",
    "The questions below will give you feedback on your work. Run the following cell to set up the feedback system."
   ]
  },
  {
   "cell_type": "code",
   "execution_count": 1,
   "id": "e61197a1",
   "metadata": {
    "execution": {
     "iopub.execute_input": "2021-08-16T16:12:33.587647Z",
     "iopub.status.busy": "2021-08-16T16:12:33.586981Z",
     "iopub.status.idle": "2021-08-16T16:12:35.615187Z",
     "shell.execute_reply": "2021-08-16T16:12:35.615754Z",
     "shell.execute_reply.started": "2021-08-16T16:03:31.462009Z"
    },
    "papermill": {
     "duration": 2.063156,
     "end_time": "2021-08-16T16:12:35.616092",
     "exception": false,
     "start_time": "2021-08-16T16:12:33.552936",
     "status": "completed"
    },
    "tags": []
   },
   "outputs": [
    {
     "name": "stdout",
     "output_type": "stream",
     "text": [
      "Setup Complete\n"
     ]
    }
   ],
   "source": [
    "# Set up code checking\n",
    "import os\n",
    "if not os.path.exists(\"../input/train.csv\"):\n",
    "    os.symlink(\"../input/home-data-for-ml-course/train.csv\", \"../input/train.csv\")  \n",
    "    os.symlink(\"../input/home-data-for-ml-course/test.csv\", \"../input/test.csv\") \n",
    "from learntools.core import binder\n",
    "binder.bind(globals())\n",
    "from learntools.ml_intermediate.ex6 import *\n",
    "print(\"Setup Complete\")"
   ]
  },
  {
   "cell_type": "markdown",
   "id": "07613621",
   "metadata": {
    "papermill": {
     "duration": 0.015665,
     "end_time": "2021-08-16T16:12:35.649215",
     "exception": false,
     "start_time": "2021-08-16T16:12:35.633550",
     "status": "completed"
    },
    "tags": []
   },
   "source": [
    "You will work with the [Housing Prices Competition for Kaggle Learn Users](https://www.kaggle.com/c/home-data-for-ml-course) dataset from the previous exercise. \n",
    "\n",
    "![Ames Housing dataset image](https://i.imgur.com/lTJVG4e.png)\n",
    "\n",
    "Run the next code cell without changes to load the training and validation sets in `X_train`, `X_valid`, `y_train`, and `y_valid`.  The test set is loaded in `X_test`."
   ]
  },
  {
   "cell_type": "code",
   "execution_count": 2,
   "id": "3aa15db7",
   "metadata": {
    "execution": {
     "iopub.execute_input": "2021-08-16T16:12:35.692500Z",
     "iopub.status.busy": "2021-08-16T16:12:35.691856Z",
     "iopub.status.idle": "2021-08-16T16:12:35.912941Z",
     "shell.execute_reply": "2021-08-16T16:12:35.913435Z",
     "shell.execute_reply.started": "2021-08-16T16:03:37.980300Z"
    },
    "papermill": {
     "duration": 0.248418,
     "end_time": "2021-08-16T16:12:35.913614",
     "exception": false,
     "start_time": "2021-08-16T16:12:35.665196",
     "status": "completed"
    },
    "tags": []
   },
   "outputs": [],
   "source": [
    "import pandas as pd\n",
    "from sklearn.model_selection import train_test_split\n",
    "\n",
    "# Read the data\n",
    "X = pd.read_csv('../input/train.csv', index_col='Id')\n",
    "X_test_full = pd.read_csv('../input/test.csv', index_col='Id')\n",
    "\n",
    "# Remove rows with missing target, separate target from predictors\n",
    "X.dropna(axis=0, subset=['SalePrice'], inplace=True)\n",
    "y = X.SalePrice              \n",
    "X.drop(['SalePrice'], axis=1, inplace=True)\n",
    "\n",
    "# Break off validation set from training data\n",
    "X_train_full, X_valid_full, y_train, y_valid = train_test_split(X, y, train_size=0.8, test_size=0.2,\n",
    "                                                                random_state=0)\n",
    "\n",
    "# \"Cardinality\" means the number of unique values in a column\n",
    "# Select categorical columns with relatively low cardinality (convenient but arbitrary)\n",
    "low_cardinality_cols = [cname for cname in X_train_full.columns if X_train_full[cname].nunique() < 10 and \n",
    "                        X_train_full[cname].dtype == \"object\"]\n",
    "\n",
    "# Select numeric columns\n",
    "numeric_cols = [cname for cname in X_train_full.columns if X_train_full[cname].dtype in ['int64', 'float64']]\n",
    "\n",
    "# Keep selected columns only\n",
    "my_cols = low_cardinality_cols + numeric_cols\n",
    "X_train = X_train_full[my_cols].copy()\n",
    "X_valid = X_valid_full[my_cols].copy()\n",
    "X_test = X_test_full[my_cols].copy()\n",
    "\n",
    "# One-hot encode the data (to shorten the code, we use pandas)\n",
    "X_train = pd.get_dummies(X_train)\n",
    "X_valid = pd.get_dummies(X_valid)\n",
    "X_test = pd.get_dummies(X_test)\n",
    "X_train, X_valid = X_train.align(X_valid, join='left', axis=1)\n",
    "X_train, X_test = X_train.align(X_test, join='left', axis=1)"
   ]
  },
  {
   "cell_type": "markdown",
   "id": "bfb69481",
   "metadata": {
    "papermill": {
     "duration": 0.01571,
     "end_time": "2021-08-16T16:12:35.945269",
     "exception": false,
     "start_time": "2021-08-16T16:12:35.929559",
     "status": "completed"
    },
    "tags": []
   },
   "source": [
    "# Step 1: Build model\n",
    "\n",
    "### Part A\n",
    "\n",
    "In this step, you'll build and train your first model with gradient boosting.\n",
    "\n",
    "- Begin by setting `my_model_1` to an XGBoost model.  Use the [XGBRegressor](https://xgboost.readthedocs.io/en/latest/python/python_api.html#xgboost.XGBRegressor) class, and set the random seed to 0 (`random_state=0`).  **Leave all other parameters as default.**\n",
    "- Then, fit the model to the training data in `X_train` and `y_train`."
   ]
  },
  {
   "cell_type": "code",
   "execution_count": 3,
   "id": "7de41960",
   "metadata": {
    "execution": {
     "iopub.execute_input": "2021-08-16T16:12:35.981937Z",
     "iopub.status.busy": "2021-08-16T16:12:35.981315Z",
     "iopub.status.idle": "2021-08-16T16:12:36.668421Z",
     "shell.execute_reply": "2021-08-16T16:12:36.667936Z",
     "shell.execute_reply.started": "2021-08-16T16:04:44.277010Z"
    },
    "papermill": {
     "duration": 0.707515,
     "end_time": "2021-08-16T16:12:36.668553",
     "exception": false,
     "start_time": "2021-08-16T16:12:35.961038",
     "status": "completed"
    },
    "tags": []
   },
   "outputs": [
    {
     "data": {
      "application/javascript": [
       "parent.postMessage({\"jupyterEvent\": \"custom.exercise_interaction\", \"data\": {\"outcomeType\": 1, \"valueTowardsCompletion\": 0.5, \"interactionType\": 1, \"questionType\": 2, \"questionId\": \"1.1_Model1A\", \"learnToolsVersion\": \"0.3.4\", \"failureMessage\": \"\", \"exceptionClass\": \"\", \"trace\": \"\"}}, \"*\")"
      ],
      "text/plain": [
       "<IPython.core.display.Javascript object>"
      ]
     },
     "metadata": {},
     "output_type": "display_data"
    },
    {
     "data": {
      "text/markdown": [
       "<span style=\"color:#33cc33\">Correct</span>"
      ],
      "text/plain": [
       "Correct"
      ]
     },
     "metadata": {},
     "output_type": "display_data"
    }
   ],
   "source": [
    "from xgboost import XGBRegressor\n",
    "\n",
    "# Define the model\n",
    "my_model_1 = XGBRegressor() # Your code here\n",
    "\n",
    "# Fit the model\n",
    "my_model_1.fit(X_train, y_train) # Your code here\n",
    "\n",
    "# Check your answer\n",
    "step_1.a.check()"
   ]
  },
  {
   "cell_type": "code",
   "execution_count": 4,
   "id": "4b70f750",
   "metadata": {
    "execution": {
     "iopub.execute_input": "2021-08-16T16:12:36.707715Z",
     "iopub.status.busy": "2021-08-16T16:12:36.707126Z",
     "iopub.status.idle": "2021-08-16T16:12:36.715513Z",
     "shell.execute_reply": "2021-08-16T16:12:36.716173Z",
     "shell.execute_reply.started": "2021-08-16T16:04:48.892829Z"
    },
    "papermill": {
     "duration": 0.030737,
     "end_time": "2021-08-16T16:12:36.716348",
     "exception": false,
     "start_time": "2021-08-16T16:12:36.685611",
     "status": "completed"
    },
    "tags": []
   },
   "outputs": [
    {
     "data": {
      "application/javascript": [
       "parent.postMessage({\"jupyterEvent\": \"custom.exercise_interaction\", \"data\": {\"interactionType\": 2, \"questionType\": 2, \"questionId\": \"1.1_Model1A\", \"learnToolsVersion\": \"0.3.4\", \"valueTowardsCompletion\": 0.0, \"failureMessage\": \"\", \"exceptionClass\": \"\", \"trace\": \"\", \"outcomeType\": 4}}, \"*\")"
      ],
      "text/plain": [
       "<IPython.core.display.Javascript object>"
      ]
     },
     "metadata": {},
     "output_type": "display_data"
    },
    {
     "data": {
      "text/markdown": [
       "<span style=\"color:#3366cc\">Hint:</span> Begin by defining the model with `my_model_1 = XGBRegressor(random_state=0)`. Then, you can fit the model with the `fit()` method."
      ],
      "text/plain": [
       "Hint: Begin by defining the model with `my_model_1 = XGBRegressor(random_state=0)`. Then, you can fit the model with the `fit()` method."
      ]
     },
     "metadata": {},
     "output_type": "display_data"
    },
    {
     "data": {
      "application/javascript": [
       "parent.postMessage({\"jupyterEvent\": \"custom.exercise_interaction\", \"data\": {\"interactionType\": 3, \"questionType\": 2, \"questionId\": \"1.1_Model1A\", \"learnToolsVersion\": \"0.3.4\", \"valueTowardsCompletion\": 0.0, \"failureMessage\": \"\", \"exceptionClass\": \"\", \"trace\": \"\", \"outcomeType\": 4}}, \"*\")"
      ],
      "text/plain": [
       "<IPython.core.display.Javascript object>"
      ]
     },
     "metadata": {},
     "output_type": "display_data"
    },
    {
     "data": {
      "text/markdown": [
       "<span style=\"color:#33cc99\">Solution:</span> \n",
       "```python\n",
       "# Define the model\n",
       "my_model_1 = XGBRegressor(random_state=0)\n",
       "\n",
       "# Fit the model\n",
       "my_model_1.fit(X_train, y_train)\n",
       "\n",
       "```"
      ],
      "text/plain": [
       "Solution: \n",
       "```python\n",
       "# Define the model\n",
       "my_model_1 = XGBRegressor(random_state=0)\n",
       "\n",
       "# Fit the model\n",
       "my_model_1.fit(X_train, y_train)\n",
       "\n",
       "```"
      ]
     },
     "metadata": {},
     "output_type": "display_data"
    }
   ],
   "source": [
    "# Lines below will give you a hint or solution code\n",
    "step_1.a.hint()\n",
    "step_1.a.solution()"
   ]
  },
  {
   "cell_type": "markdown",
   "id": "2b6a56bd",
   "metadata": {
    "papermill": {
     "duration": 0.018388,
     "end_time": "2021-08-16T16:12:36.753835",
     "exception": false,
     "start_time": "2021-08-16T16:12:36.735447",
     "status": "completed"
    },
    "tags": []
   },
   "source": [
    "### Part B\n",
    "\n",
    "Set `predictions_1` to the model's predictions for the validation data.  Recall that the validation features are stored in `X_valid`."
   ]
  },
  {
   "cell_type": "code",
   "execution_count": 5,
   "id": "4bde089e",
   "metadata": {
    "execution": {
     "iopub.execute_input": "2021-08-16T16:12:36.794391Z",
     "iopub.status.busy": "2021-08-16T16:12:36.793683Z",
     "iopub.status.idle": "2021-08-16T16:12:36.808338Z",
     "shell.execute_reply": "2021-08-16T16:12:36.808854Z",
     "shell.execute_reply.started": "2021-08-16T16:05:22.909537Z"
    },
    "papermill": {
     "duration": 0.036535,
     "end_time": "2021-08-16T16:12:36.809056",
     "exception": false,
     "start_time": "2021-08-16T16:12:36.772521",
     "status": "completed"
    },
    "tags": []
   },
   "outputs": [
    {
     "data": {
      "application/javascript": [
       "parent.postMessage({\"jupyterEvent\": \"custom.exercise_interaction\", \"data\": {\"outcomeType\": 1, \"valueTowardsCompletion\": 0.5, \"interactionType\": 1, \"questionType\": 2, \"questionId\": \"1.2_Model1B\", \"learnToolsVersion\": \"0.3.4\", \"failureMessage\": \"\", \"exceptionClass\": \"\", \"trace\": \"\"}}, \"*\")"
      ],
      "text/plain": [
       "<IPython.core.display.Javascript object>"
      ]
     },
     "metadata": {},
     "output_type": "display_data"
    },
    {
     "data": {
      "text/markdown": [
       "<span style=\"color:#33cc33\">Correct</span>"
      ],
      "text/plain": [
       "Correct"
      ]
     },
     "metadata": {},
     "output_type": "display_data"
    }
   ],
   "source": [
    "from sklearn.metrics import mean_absolute_error\n",
    "\n",
    "# Get predictions\n",
    "predictions_1 = my_model_1.predict(X_valid) # Your code here\n",
    "\n",
    "# Check your answer\n",
    "step_1.b.check()"
   ]
  },
  {
   "cell_type": "code",
   "execution_count": 6,
   "id": "9d259767",
   "metadata": {
    "execution": {
     "iopub.execute_input": "2021-08-16T16:12:36.856419Z",
     "iopub.status.busy": "2021-08-16T16:12:36.855385Z",
     "iopub.status.idle": "2021-08-16T16:12:36.864997Z",
     "shell.execute_reply": "2021-08-16T16:12:36.865576Z",
     "shell.execute_reply.started": "2021-08-16T16:05:27.289743Z"
    },
    "papermill": {
     "duration": 0.034877,
     "end_time": "2021-08-16T16:12:36.865741",
     "exception": false,
     "start_time": "2021-08-16T16:12:36.830864",
     "status": "completed"
    },
    "tags": []
   },
   "outputs": [
    {
     "data": {
      "application/javascript": [
       "parent.postMessage({\"jupyterEvent\": \"custom.exercise_interaction\", \"data\": {\"interactionType\": 2, \"questionType\": 2, \"questionId\": \"1.2_Model1B\", \"learnToolsVersion\": \"0.3.4\", \"valueTowardsCompletion\": 0.0, \"failureMessage\": \"\", \"exceptionClass\": \"\", \"trace\": \"\", \"outcomeType\": 4}}, \"*\")"
      ],
      "text/plain": [
       "<IPython.core.display.Javascript object>"
      ]
     },
     "metadata": {},
     "output_type": "display_data"
    },
    {
     "data": {
      "text/markdown": [
       "<span style=\"color:#3366cc\">Hint:</span> Use the `predict()` method to generate validation predictions."
      ],
      "text/plain": [
       "Hint: Use the `predict()` method to generate validation predictions."
      ]
     },
     "metadata": {},
     "output_type": "display_data"
    },
    {
     "data": {
      "application/javascript": [
       "parent.postMessage({\"jupyterEvent\": \"custom.exercise_interaction\", \"data\": {\"interactionType\": 3, \"questionType\": 2, \"questionId\": \"1.2_Model1B\", \"learnToolsVersion\": \"0.3.4\", \"valueTowardsCompletion\": 0.0, \"failureMessage\": \"\", \"exceptionClass\": \"\", \"trace\": \"\", \"outcomeType\": 4}}, \"*\")"
      ],
      "text/plain": [
       "<IPython.core.display.Javascript object>"
      ]
     },
     "metadata": {},
     "output_type": "display_data"
    },
    {
     "data": {
      "text/markdown": [
       "<span style=\"color:#33cc99\">Solution:</span> \n",
       "```python\n",
       "# Get predictions\n",
       "predictions_1 = my_model_1.predict(X_valid)\n",
       "\n",
       "```"
      ],
      "text/plain": [
       "Solution: \n",
       "```python\n",
       "# Get predictions\n",
       "predictions_1 = my_model_1.predict(X_valid)\n",
       "\n",
       "```"
      ]
     },
     "metadata": {},
     "output_type": "display_data"
    }
   ],
   "source": [
    "# Lines below will give you a hint or solution code\n",
    "step_1.b.hint()\n",
    "step_1.b.solution()"
   ]
  },
  {
   "cell_type": "markdown",
   "id": "7d23aad8",
   "metadata": {
    "papermill": {
     "duration": 0.021355,
     "end_time": "2021-08-16T16:12:36.908623",
     "exception": false,
     "start_time": "2021-08-16T16:12:36.887268",
     "status": "completed"
    },
    "tags": []
   },
   "source": [
    "### Part C\n",
    "\n",
    "Finally, use the `mean_absolute_error()` function to calculate the mean absolute error (MAE) corresponding to the predictions for the validation set.  Recall that the labels for the validation data are stored in `y_valid`."
   ]
  },
  {
   "cell_type": "code",
   "execution_count": 7,
   "id": "e687a5cb",
   "metadata": {
    "execution": {
     "iopub.execute_input": "2021-08-16T16:12:36.956076Z",
     "iopub.status.busy": "2021-08-16T16:12:36.955098Z",
     "iopub.status.idle": "2021-08-16T16:12:36.965620Z",
     "shell.execute_reply": "2021-08-16T16:12:36.966275Z",
     "shell.execute_reply.started": "2021-08-16T16:05:58.378772Z"
    },
    "papermill": {
     "duration": 0.036001,
     "end_time": "2021-08-16T16:12:36.966501",
     "exception": false,
     "start_time": "2021-08-16T16:12:36.930500",
     "status": "completed"
    },
    "tags": []
   },
   "outputs": [
    {
     "name": "stdout",
     "output_type": "stream",
     "text": [
      "Mean Absolute Error: 17662.736729452055\n"
     ]
    },
    {
     "data": {
      "application/javascript": [
       "parent.postMessage({\"jupyterEvent\": \"custom.exercise_interaction\", \"data\": {\"outcomeType\": 1, \"valueTowardsCompletion\": 0.5, \"interactionType\": 1, \"questionType\": 2, \"questionId\": \"1.3_Model1C\", \"learnToolsVersion\": \"0.3.4\", \"failureMessage\": \"\", \"exceptionClass\": \"\", \"trace\": \"\"}}, \"*\")"
      ],
      "text/plain": [
       "<IPython.core.display.Javascript object>"
      ]
     },
     "metadata": {},
     "output_type": "display_data"
    },
    {
     "data": {
      "text/markdown": [
       "<span style=\"color:#33cc33\">Correct</span>"
      ],
      "text/plain": [
       "Correct"
      ]
     },
     "metadata": {},
     "output_type": "display_data"
    }
   ],
   "source": [
    "# Calculate MAE\n",
    "mae_1 = mean_absolute_error(predictions_1, y_valid) # Your code here\n",
    "\n",
    "# Uncomment to print MAE\n",
    "print(\"Mean Absolute Error:\" , mae_1)\n",
    "\n",
    "# Check your answer\n",
    "step_1.c.check()"
   ]
  },
  {
   "cell_type": "code",
   "execution_count": 8,
   "id": "e4ef318d",
   "metadata": {
    "execution": {
     "iopub.execute_input": "2021-08-16T16:12:37.015726Z",
     "iopub.status.busy": "2021-08-16T16:12:37.015119Z",
     "iopub.status.idle": "2021-08-16T16:12:37.026761Z",
     "shell.execute_reply": "2021-08-16T16:12:37.026261Z",
     "shell.execute_reply.started": "2021-08-16T16:06:04.492981Z"
    },
    "papermill": {
     "duration": 0.036982,
     "end_time": "2021-08-16T16:12:37.026935",
     "exception": false,
     "start_time": "2021-08-16T16:12:36.989953",
     "status": "completed"
    },
    "tags": []
   },
   "outputs": [
    {
     "data": {
      "application/javascript": [
       "parent.postMessage({\"jupyterEvent\": \"custom.exercise_interaction\", \"data\": {\"interactionType\": 2, \"questionType\": 2, \"questionId\": \"1.3_Model1C\", \"learnToolsVersion\": \"0.3.4\", \"valueTowardsCompletion\": 0.0, \"failureMessage\": \"\", \"exceptionClass\": \"\", \"trace\": \"\", \"outcomeType\": 4}}, \"*\")"
      ],
      "text/plain": [
       "<IPython.core.display.Javascript object>"
      ]
     },
     "metadata": {},
     "output_type": "display_data"
    },
    {
     "data": {
      "text/markdown": [
       "<span style=\"color:#3366cc\">Hint:</span> The `mean_absolute_error` function should take the predictions in `predictions_1` and the validation target in `y_valid` as arguments."
      ],
      "text/plain": [
       "Hint: The `mean_absolute_error` function should take the predictions in `predictions_1` and the validation target in `y_valid` as arguments."
      ]
     },
     "metadata": {},
     "output_type": "display_data"
    },
    {
     "data": {
      "application/javascript": [
       "parent.postMessage({\"jupyterEvent\": \"custom.exercise_interaction\", \"data\": {\"interactionType\": 3, \"questionType\": 2, \"questionId\": \"1.3_Model1C\", \"learnToolsVersion\": \"0.3.4\", \"valueTowardsCompletion\": 0.0, \"failureMessage\": \"\", \"exceptionClass\": \"\", \"trace\": \"\", \"outcomeType\": 4}}, \"*\")"
      ],
      "text/plain": [
       "<IPython.core.display.Javascript object>"
      ]
     },
     "metadata": {},
     "output_type": "display_data"
    },
    {
     "data": {
      "text/markdown": [
       "<span style=\"color:#33cc99\">Solution:</span> \n",
       "```python\n",
       "# Calculate MAE\n",
       "mae_1 = mean_absolute_error(predictions_1, y_valid)\n",
       "print(\"Mean Absolute Error:\" , mae_1)\n",
       "\n",
       "```"
      ],
      "text/plain": [
       "Solution: \n",
       "```python\n",
       "# Calculate MAE\n",
       "mae_1 = mean_absolute_error(predictions_1, y_valid)\n",
       "print(\"Mean Absolute Error:\" , mae_1)\n",
       "\n",
       "```"
      ]
     },
     "metadata": {},
     "output_type": "display_data"
    }
   ],
   "source": [
    "# Lines below will give you a hint or solution code\n",
    "step_1.c.hint()\n",
    "step_1.c.solution()"
   ]
  },
  {
   "cell_type": "markdown",
   "id": "cbaf4c86",
   "metadata": {
    "papermill": {
     "duration": 0.024403,
     "end_time": "2021-08-16T16:12:37.077067",
     "exception": false,
     "start_time": "2021-08-16T16:12:37.052664",
     "status": "completed"
    },
    "tags": []
   },
   "source": [
    "# Step 2: Improve the model\n",
    "\n",
    "Now that you've trained a default model as baseline, it's time to tinker with the parameters, to see if you can get better performance!\n",
    "- Begin by setting `my_model_2` to an XGBoost model, using the [XGBRegressor](https://xgboost.readthedocs.io/en/latest/python/python_api.html#xgboost.XGBRegressor) class.  Use what you learned in the previous tutorial to figure out how to change the default parameters (like `n_estimators` and `learning_rate`) to get better results.\n",
    "- Then, fit the model to the training data in `X_train` and `y_train`.\n",
    "- Set `predictions_2` to the model's predictions for the validation data.  Recall that the validation features are stored in `X_valid`.\n",
    "- Finally, use the `mean_absolute_error()` function to calculate the mean absolute error (MAE) corresponding to the predictions on the validation set.  Recall that the labels for the validation data are stored in `y_valid`.\n",
    "\n",
    "In order for this step to be marked correct, your model in `my_model_2` must attain lower MAE than the model in `my_model_1`. "
   ]
  },
  {
   "cell_type": "code",
   "execution_count": 9,
   "id": "f94ab3ef",
   "metadata": {
    "execution": {
     "iopub.execute_input": "2021-08-16T16:12:37.139844Z",
     "iopub.status.busy": "2021-08-16T16:12:37.138837Z",
     "iopub.status.idle": "2021-08-16T16:12:44.305889Z",
     "shell.execute_reply": "2021-08-16T16:12:44.305342Z",
     "shell.execute_reply.started": "2021-08-16T16:09:30.243440Z"
    },
    "papermill": {
     "duration": 7.203647,
     "end_time": "2021-08-16T16:12:44.306033",
     "exception": false,
     "start_time": "2021-08-16T16:12:37.102386",
     "status": "completed"
    },
    "tags": []
   },
   "outputs": [
    {
     "name": "stdout",
     "output_type": "stream",
     "text": [
      "Mean Absolute Error: 17308.831001177226\n"
     ]
    },
    {
     "data": {
      "application/javascript": [
       "parent.postMessage({\"jupyterEvent\": \"custom.exercise_interaction\", \"data\": {\"outcomeType\": 1, \"valueTowardsCompletion\": 0.5, \"interactionType\": 1, \"questionType\": 2, \"questionId\": \"2_Model2\", \"learnToolsVersion\": \"0.3.4\", \"failureMessage\": \"\", \"exceptionClass\": \"\", \"trace\": \"\"}}, \"*\")"
      ],
      "text/plain": [
       "<IPython.core.display.Javascript object>"
      ]
     },
     "metadata": {},
     "output_type": "display_data"
    },
    {
     "data": {
      "text/markdown": [
       "<span style=\"color:#33cc33\">Correct</span>"
      ],
      "text/plain": [
       "Correct"
      ]
     },
     "metadata": {},
     "output_type": "display_data"
    }
   ],
   "source": [
    "# Define the model\n",
    "my_model_2 = XGBRegressor(n_estimators=1000, learning_rate=0.1, n_jobs=2)\n",
    "my_model_2.fit(X_train, y_train)\n",
    "# Fit the model\n",
    "____ # Your code here\n",
    "\n",
    "# Get predictions\n",
    "predictions_2 = my_model_2.predict(X_valid) # Your code here\n",
    "\n",
    "# Calculate MAE\n",
    "mae_2 = mean_absolute_error(predictions_2, y_valid) # Your code here\n",
    "\n",
    "# Uncomment to print MAE\n",
    "print(\"Mean Absolute Error:\" , mae_2)\n",
    "\n",
    "# Check your answer\n",
    "step_2.check()"
   ]
  },
  {
   "cell_type": "code",
   "execution_count": 10,
   "id": "0628612f",
   "metadata": {
    "execution": {
     "iopub.execute_input": "2021-08-16T16:12:44.363132Z",
     "iopub.status.busy": "2021-08-16T16:12:44.362491Z",
     "iopub.status.idle": "2021-08-16T16:12:44.370952Z",
     "shell.execute_reply": "2021-08-16T16:12:44.371435Z",
     "shell.execute_reply.started": "2021-08-16T16:09:15.636464Z"
    },
    "papermill": {
     "duration": 0.038238,
     "end_time": "2021-08-16T16:12:44.371595",
     "exception": false,
     "start_time": "2021-08-16T16:12:44.333357",
     "status": "completed"
    },
    "tags": []
   },
   "outputs": [
    {
     "data": {
      "application/javascript": [
       "parent.postMessage({\"jupyterEvent\": \"custom.exercise_interaction\", \"data\": {\"interactionType\": 2, \"questionType\": 2, \"questionId\": \"2_Model2\", \"learnToolsVersion\": \"0.3.4\", \"valueTowardsCompletion\": 0.0, \"failureMessage\": \"\", \"exceptionClass\": \"\", \"trace\": \"\", \"outcomeType\": 4}}, \"*\")"
      ],
      "text/plain": [
       "<IPython.core.display.Javascript object>"
      ]
     },
     "metadata": {},
     "output_type": "display_data"
    },
    {
     "data": {
      "text/markdown": [
       "<span style=\"color:#3366cc\">Hint:</span> In the official solution to this problem, we chose to increase the number of trees in the model (with the `n_estimators` parameter) and decrease the learning rate (with the `learning_rate` parameter)."
      ],
      "text/plain": [
       "Hint: In the official solution to this problem, we chose to increase the number of trees in the model (with the `n_estimators` parameter) and decrease the learning rate (with the `learning_rate` parameter)."
      ]
     },
     "metadata": {},
     "output_type": "display_data"
    },
    {
     "data": {
      "application/javascript": [
       "parent.postMessage({\"jupyterEvent\": \"custom.exercise_interaction\", \"data\": {\"interactionType\": 3, \"questionType\": 2, \"questionId\": \"2_Model2\", \"learnToolsVersion\": \"0.3.4\", \"valueTowardsCompletion\": 0.0, \"failureMessage\": \"\", \"exceptionClass\": \"\", \"trace\": \"\", \"outcomeType\": 4}}, \"*\")"
      ],
      "text/plain": [
       "<IPython.core.display.Javascript object>"
      ]
     },
     "metadata": {},
     "output_type": "display_data"
    },
    {
     "data": {
      "text/markdown": [
       "<span style=\"color:#33cc99\">Solution:</span> \n",
       "```python\n",
       "# Define the model\n",
       "my_model_2 = XGBRegressor(n_estimators=1000, learning_rate=0.05)\n",
       "\n",
       "# Fit the model\n",
       "my_model_2.fit(X_train, y_train)\n",
       "\n",
       "# Get predictions\n",
       "predictions_2 = my_model_2.predict(X_valid)\n",
       "\n",
       "# Calculate MAE\n",
       "mae_2 = mean_absolute_error(predictions_2, y_valid)\n",
       "print(\"Mean Absolute Error:\" , mae_2)\n",
       "\n",
       "```"
      ],
      "text/plain": [
       "Solution: \n",
       "```python\n",
       "# Define the model\n",
       "my_model_2 = XGBRegressor(n_estimators=1000, learning_rate=0.05)\n",
       "\n",
       "# Fit the model\n",
       "my_model_2.fit(X_train, y_train)\n",
       "\n",
       "# Get predictions\n",
       "predictions_2 = my_model_2.predict(X_valid)\n",
       "\n",
       "# Calculate MAE\n",
       "mae_2 = mean_absolute_error(predictions_2, y_valid)\n",
       "print(\"Mean Absolute Error:\" , mae_2)\n",
       "\n",
       "```"
      ]
     },
     "metadata": {},
     "output_type": "display_data"
    }
   ],
   "source": [
    "# Lines below will give you a hint or solution code\n",
    "step_2.hint()\n",
    "step_2.solution()"
   ]
  },
  {
   "cell_type": "markdown",
   "id": "c06ba601",
   "metadata": {
    "papermill": {
     "duration": 0.027773,
     "end_time": "2021-08-16T16:12:44.427697",
     "exception": false,
     "start_time": "2021-08-16T16:12:44.399924",
     "status": "completed"
    },
    "tags": []
   },
   "source": [
    "# Step 3: Break the model\n",
    "\n",
    "In this step, you will create a model that performs worse than the original model in Step 1.  This will help you to develop your intuition for how to set parameters.  You might even find that you accidentally get better performance, which is ultimately a nice problem to have and a valuable learning experience!\n",
    "- Begin by setting `my_model_3` to an XGBoost model, using the [XGBRegressor](https://xgboost.readthedocs.io/en/latest/python/python_api.html#xgboost.XGBRegressor) class.  Use what you learned in the previous tutorial to figure out how to change the default parameters (like `n_estimators` and `learning_rate`) to design a model to get high MAE.\n",
    "- Then, fit the model to the training data in `X_train` and `y_train`.\n",
    "- Set `predictions_3` to the model's predictions for the validation data.  Recall that the validation features are stored in `X_valid`.\n",
    "- Finally, use the `mean_absolute_error()` function to calculate the mean absolute error (MAE) corresponding to the predictions on the validation set.  Recall that the labels for the validation data are stored in `y_valid`.\n",
    "\n",
    "In order for this step to be marked correct, your model in `my_model_3` must attain higher MAE than the model in `my_model_1`. "
   ]
  },
  {
   "cell_type": "code",
   "execution_count": 11,
   "id": "63d8a489",
   "metadata": {
    "execution": {
     "iopub.execute_input": "2021-08-16T16:12:44.487352Z",
     "iopub.status.busy": "2021-08-16T16:12:44.486691Z",
     "iopub.status.idle": "2021-08-16T16:12:45.951282Z",
     "shell.execute_reply": "2021-08-16T16:12:45.951842Z",
     "shell.execute_reply.started": "2021-08-16T16:12:03.994611Z"
    },
    "papermill": {
     "duration": 1.496262,
     "end_time": "2021-08-16T16:12:45.952031",
     "exception": false,
     "start_time": "2021-08-16T16:12:44.455769",
     "status": "completed"
    },
    "tags": []
   },
   "outputs": [
    {
     "name": "stdout",
     "output_type": "stream",
     "text": [
      "Mean Absolute Error: 17669.01241438356\n"
     ]
    },
    {
     "data": {
      "application/javascript": [
       "parent.postMessage({\"jupyterEvent\": \"custom.exercise_interaction\", \"data\": {\"outcomeType\": 1, \"valueTowardsCompletion\": 0.5, \"interactionType\": 1, \"questionType\": 2, \"questionId\": \"3_Model3\", \"learnToolsVersion\": \"0.3.4\", \"failureMessage\": \"\", \"exceptionClass\": \"\", \"trace\": \"\"}}, \"*\")"
      ],
      "text/plain": [
       "<IPython.core.display.Javascript object>"
      ]
     },
     "metadata": {},
     "output_type": "display_data"
    },
    {
     "data": {
      "text/markdown": [
       "<span style=\"color:#33cc33\">Correct</span>"
      ],
      "text/plain": [
       "Correct"
      ]
     },
     "metadata": {},
     "output_type": "display_data"
    }
   ],
   "source": [
    "# Define the model\n",
    "my_model_3 = XGBRegressor(n_estimators=200)\n",
    "my_model_3.fit(X_train, y_train)\n",
    "# Fit the model\n",
    "____ # Your code here\n",
    "\n",
    "# Get predictions\n",
    "predictions_3 = my_model_3.predict(X_valid) # Your code here\n",
    "\n",
    "# Calculate MAE\n",
    "mae_3 = mean_absolute_error(predictions_3, y_valid) # Your code here\n",
    "\n",
    "# Uncomment to print MAE\n",
    "print(\"Mean Absolute Error:\" , mae_3)\n",
    "\n",
    "\n",
    "# Check your answer\n",
    "step_3.check()"
   ]
  },
  {
   "cell_type": "code",
   "execution_count": 12,
   "id": "cd6ca214",
   "metadata": {
    "execution": {
     "iopub.execute_input": "2021-08-16T16:12:46.019034Z",
     "iopub.status.busy": "2021-08-16T16:12:46.018048Z",
     "iopub.status.idle": "2021-08-16T16:12:46.027716Z",
     "shell.execute_reply": "2021-08-16T16:12:46.028225Z",
     "shell.execute_reply.started": "2021-08-16T16:12:10.202227Z"
    },
    "papermill": {
     "duration": 0.045624,
     "end_time": "2021-08-16T16:12:46.028388",
     "exception": false,
     "start_time": "2021-08-16T16:12:45.982764",
     "status": "completed"
    },
    "tags": []
   },
   "outputs": [
    {
     "data": {
      "application/javascript": [
       "parent.postMessage({\"jupyterEvent\": \"custom.exercise_interaction\", \"data\": {\"interactionType\": 2, \"questionType\": 2, \"questionId\": \"3_Model3\", \"learnToolsVersion\": \"0.3.4\", \"valueTowardsCompletion\": 0.0, \"failureMessage\": \"\", \"exceptionClass\": \"\", \"trace\": \"\", \"outcomeType\": 4}}, \"*\")"
      ],
      "text/plain": [
       "<IPython.core.display.Javascript object>"
      ]
     },
     "metadata": {},
     "output_type": "display_data"
    },
    {
     "data": {
      "text/markdown": [
       "<span style=\"color:#3366cc\">Hint:</span> In the official solution for this problem, we chose to greatly decrease the number of trees in the model by tinkering with the `n_estimators` parameter."
      ],
      "text/plain": [
       "Hint: In the official solution for this problem, we chose to greatly decrease the number of trees in the model by tinkering with the `n_estimators` parameter."
      ]
     },
     "metadata": {},
     "output_type": "display_data"
    },
    {
     "data": {
      "application/javascript": [
       "parent.postMessage({\"jupyterEvent\": \"custom.exercise_interaction\", \"data\": {\"interactionType\": 3, \"questionType\": 2, \"questionId\": \"3_Model3\", \"learnToolsVersion\": \"0.3.4\", \"valueTowardsCompletion\": 0.0, \"failureMessage\": \"\", \"exceptionClass\": \"\", \"trace\": \"\", \"outcomeType\": 4}}, \"*\")"
      ],
      "text/plain": [
       "<IPython.core.display.Javascript object>"
      ]
     },
     "metadata": {},
     "output_type": "display_data"
    },
    {
     "data": {
      "text/markdown": [
       "<span style=\"color:#33cc99\">Solution:</span> \n",
       "```python\n",
       "# Define the model\n",
       "my_model_3 = XGBRegressor(n_estimators=1)\n",
       "\n",
       "# Fit the model\n",
       "my_model_3.fit(X_train, y_train)\n",
       "\n",
       "# Get predictions\n",
       "predictions_3 = my_model_3.predict(X_valid)\n",
       "\n",
       "# Calculate MAE\n",
       "mae_3 = mean_absolute_error(predictions_3, y_valid)\n",
       "print(\"Mean Absolute Error:\" , mae_3)\n",
       "\n",
       "```"
      ],
      "text/plain": [
       "Solution: \n",
       "```python\n",
       "# Define the model\n",
       "my_model_3 = XGBRegressor(n_estimators=1)\n",
       "\n",
       "# Fit the model\n",
       "my_model_3.fit(X_train, y_train)\n",
       "\n",
       "# Get predictions\n",
       "predictions_3 = my_model_3.predict(X_valid)\n",
       "\n",
       "# Calculate MAE\n",
       "mae_3 = mean_absolute_error(predictions_3, y_valid)\n",
       "print(\"Mean Absolute Error:\" , mae_3)\n",
       "\n",
       "```"
      ]
     },
     "metadata": {},
     "output_type": "display_data"
    }
   ],
   "source": [
    "# Lines below will give you a hint or solution code\n",
    "step_3.hint()\n",
    "step_3.solution()"
   ]
  },
  {
   "cell_type": "markdown",
   "id": "e98491fe",
   "metadata": {
    "papermill": {
     "duration": 0.031115,
     "end_time": "2021-08-16T16:12:46.091603",
     "exception": false,
     "start_time": "2021-08-16T16:12:46.060488",
     "status": "completed"
    },
    "tags": []
   },
   "source": [
    "# Keep going\n",
    "\n",
    "Continue to learn about **[data leakage](https://www.kaggle.com/alexisbcook/data-leakage)**.  This is an important issue for a data scientist to understand, and it has the potential to ruin your models in subtle and dangerous ways!"
   ]
  },
  {
   "cell_type": "markdown",
   "id": "3a136930",
   "metadata": {
    "papermill": {
     "duration": 0.031298,
     "end_time": "2021-08-16T16:12:46.155066",
     "exception": false,
     "start_time": "2021-08-16T16:12:46.123768",
     "status": "completed"
    },
    "tags": []
   },
   "source": [
    "---\n",
    "\n",
    "\n",
    "\n",
    "\n",
    "*Have questions or comments? Visit the [Learn Discussion forum](https://www.kaggle.com/learn-forum/161289) to chat with other Learners.*"
   ]
  }
 ],
 "metadata": {
  "kernelspec": {
   "display_name": "Python 3",
   "language": "python",
   "name": "python3"
  },
  "language_info": {
   "codemirror_mode": {
    "name": "ipython",
    "version": 3
   },
   "file_extension": ".py",
   "mimetype": "text/x-python",
   "name": "python",
   "nbconvert_exporter": "python",
   "pygments_lexer": "ipython3",
   "version": "3.7.10"
  },
  "papermill": {
   "default_parameters": {},
   "duration": 21.438764,
   "end_time": "2021-08-16T16:12:46.896292",
   "environment_variables": {},
   "exception": null,
   "input_path": "__notebook__.ipynb",
   "output_path": "__notebook__.ipynb",
   "parameters": {},
   "start_time": "2021-08-16T16:12:25.457528",
   "version": "2.3.3"
  }
 },
 "nbformat": 4,
 "nbformat_minor": 5
}
