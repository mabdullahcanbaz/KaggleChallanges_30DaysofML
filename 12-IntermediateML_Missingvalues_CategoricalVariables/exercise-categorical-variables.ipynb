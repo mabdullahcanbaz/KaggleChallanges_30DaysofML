{
 "cells": [
  {
   "cell_type": "markdown",
   "id": "df2ed095",
   "metadata": {
    "papermill": {
     "duration": 0.030428,
     "end_time": "2021-08-14T17:53:11.095217",
     "exception": false,
     "start_time": "2021-08-14T17:53:11.064789",
     "status": "completed"
    },
    "tags": []
   },
   "source": [
    "**This notebook is an exercise in the [Intermediate Machine Learning](https://www.kaggle.com/learn/intermediate-machine-learning) course.  You can reference the tutorial at [this link](https://www.kaggle.com/alexisbcook/categorical-variables).**\n",
    "\n",
    "---\n"
   ]
  },
  {
   "cell_type": "markdown",
   "id": "0b13fd4d",
   "metadata": {
    "papermill": {
     "duration": 0.028979,
     "end_time": "2021-08-14T17:53:11.153741",
     "exception": false,
     "start_time": "2021-08-14T17:53:11.124762",
     "status": "completed"
    },
    "tags": []
   },
   "source": [
    "By encoding **categorical variables**, you'll obtain your best results thus far!\n",
    "\n",
    "# Setup\n",
    "\n",
    "The questions below will give you feedback on your work. Run the following cell to set up the feedback system."
   ]
  },
  {
   "cell_type": "code",
   "execution_count": 1,
   "id": "f1d42dcd",
   "metadata": {
    "execution": {
     "iopub.execute_input": "2021-08-14T17:53:11.218291Z",
     "iopub.status.busy": "2021-08-14T17:53:11.217083Z",
     "iopub.status.idle": "2021-08-14T17:53:11.372117Z",
     "shell.execute_reply": "2021-08-14T17:53:11.371361Z",
     "shell.execute_reply.started": "2021-08-14T17:36:54.018694Z"
    },
    "papermill": {
     "duration": 0.189201,
     "end_time": "2021-08-14T17:53:11.372294",
     "exception": false,
     "start_time": "2021-08-14T17:53:11.183093",
     "status": "completed"
    },
    "tags": []
   },
   "outputs": [
    {
     "name": "stdout",
     "output_type": "stream",
     "text": [
      "Setup Complete\n"
     ]
    }
   ],
   "source": [
    "# Set up code checking\n",
    "import os\n",
    "if not os.path.exists(\"../input/train.csv\"):\n",
    "    os.symlink(\"../input/home-data-for-ml-course/train.csv\", \"../input/train.csv\")  \n",
    "    os.symlink(\"../input/home-data-for-ml-course/test.csv\", \"../input/test.csv\") \n",
    "from learntools.core import binder\n",
    "binder.bind(globals())\n",
    "from learntools.ml_intermediate.ex3 import *\n",
    "print(\"Setup Complete\")"
   ]
  },
  {
   "cell_type": "markdown",
   "id": "c519dd6e",
   "metadata": {
    "papermill": {
     "duration": 0.029417,
     "end_time": "2021-08-14T17:53:11.432024",
     "exception": false,
     "start_time": "2021-08-14T17:53:11.402607",
     "status": "completed"
    },
    "tags": []
   },
   "source": [
    "In this exercise, you will work with data from the [Housing Prices Competition for Kaggle Learn Users](https://www.kaggle.com/c/home-data-for-ml-course). \n",
    "\n",
    "![Ames Housing dataset image](https://i.imgur.com/lTJVG4e.png)\n",
    "\n",
    "Run the next code cell without changes to load the training and validation sets in `X_train`, `X_valid`, `y_train`, and `y_valid`.  The test set is loaded in `X_test`."
   ]
  },
  {
   "cell_type": "code",
   "execution_count": 2,
   "id": "f2019b22",
   "metadata": {
    "execution": {
     "iopub.execute_input": "2021-08-14T17:53:11.508528Z",
     "iopub.status.busy": "2021-08-14T17:53:11.507607Z",
     "iopub.status.idle": "2021-08-14T17:53:12.648595Z",
     "shell.execute_reply": "2021-08-14T17:53:12.649081Z",
     "shell.execute_reply.started": "2021-08-14T17:37:05.258096Z"
    },
    "papermill": {
     "duration": 1.187558,
     "end_time": "2021-08-14T17:53:12.649278",
     "exception": false,
     "start_time": "2021-08-14T17:53:11.461720",
     "status": "completed"
    },
    "tags": []
   },
   "outputs": [],
   "source": [
    "import pandas as pd\n",
    "from sklearn.model_selection import train_test_split\n",
    "\n",
    "# Read the data\n",
    "X = pd.read_csv('../input/train.csv', index_col='Id') \n",
    "X_test = pd.read_csv('../input/test.csv', index_col='Id')\n",
    "\n",
    "# Remove rows with missing target, separate target from predictors\n",
    "X.dropna(axis=0, subset=['SalePrice'], inplace=True)\n",
    "y = X.SalePrice\n",
    "X.drop(['SalePrice'], axis=1, inplace=True)\n",
    "\n",
    "# To keep things simple, we'll drop columns with missing values\n",
    "cols_with_missing = [col for col in X.columns if X[col].isnull().any()] \n",
    "X.drop(cols_with_missing, axis=1, inplace=True)\n",
    "X_test.drop(cols_with_missing, axis=1, inplace=True)\n",
    "\n",
    "# Break off validation set from training data\n",
    "X_train, X_valid, y_train, y_valid = train_test_split(X, y,\n",
    "                                                      train_size=0.8, test_size=0.2,\n",
    "                                                      random_state=0)"
   ]
  },
  {
   "cell_type": "markdown",
   "id": "66585ad7",
   "metadata": {
    "papermill": {
     "duration": 0.030329,
     "end_time": "2021-08-14T17:53:12.709222",
     "exception": false,
     "start_time": "2021-08-14T17:53:12.678893",
     "status": "completed"
    },
    "tags": []
   },
   "source": [
    "Use the next code cell to print the first five rows of the data."
   ]
  },
  {
   "cell_type": "code",
   "execution_count": 3,
   "id": "979ad743",
   "metadata": {
    "execution": {
     "iopub.execute_input": "2021-08-14T17:53:12.771921Z",
     "iopub.status.busy": "2021-08-14T17:53:12.770961Z",
     "iopub.status.idle": "2021-08-14T17:53:12.803756Z",
     "shell.execute_reply": "2021-08-14T17:53:12.804296Z",
     "shell.execute_reply.started": "2021-08-14T17:37:27.705155Z"
    },
    "papermill": {
     "duration": 0.065759,
     "end_time": "2021-08-14T17:53:12.804471",
     "exception": false,
     "start_time": "2021-08-14T17:53:12.738712",
     "status": "completed"
    },
    "tags": []
   },
   "outputs": [
    {
     "data": {
      "text/html": [
       "<div>\n",
       "<style scoped>\n",
       "    .dataframe tbody tr th:only-of-type {\n",
       "        vertical-align: middle;\n",
       "    }\n",
       "\n",
       "    .dataframe tbody tr th {\n",
       "        vertical-align: top;\n",
       "    }\n",
       "\n",
       "    .dataframe thead th {\n",
       "        text-align: right;\n",
       "    }\n",
       "</style>\n",
       "<table border=\"1\" class=\"dataframe\">\n",
       "  <thead>\n",
       "    <tr style=\"text-align: right;\">\n",
       "      <th></th>\n",
       "      <th>MSSubClass</th>\n",
       "      <th>MSZoning</th>\n",
       "      <th>LotArea</th>\n",
       "      <th>Street</th>\n",
       "      <th>LotShape</th>\n",
       "      <th>LandContour</th>\n",
       "      <th>Utilities</th>\n",
       "      <th>LotConfig</th>\n",
       "      <th>LandSlope</th>\n",
       "      <th>Neighborhood</th>\n",
       "      <th>...</th>\n",
       "      <th>OpenPorchSF</th>\n",
       "      <th>EnclosedPorch</th>\n",
       "      <th>3SsnPorch</th>\n",
       "      <th>ScreenPorch</th>\n",
       "      <th>PoolArea</th>\n",
       "      <th>MiscVal</th>\n",
       "      <th>MoSold</th>\n",
       "      <th>YrSold</th>\n",
       "      <th>SaleType</th>\n",
       "      <th>SaleCondition</th>\n",
       "    </tr>\n",
       "    <tr>\n",
       "      <th>Id</th>\n",
       "      <th></th>\n",
       "      <th></th>\n",
       "      <th></th>\n",
       "      <th></th>\n",
       "      <th></th>\n",
       "      <th></th>\n",
       "      <th></th>\n",
       "      <th></th>\n",
       "      <th></th>\n",
       "      <th></th>\n",
       "      <th></th>\n",
       "      <th></th>\n",
       "      <th></th>\n",
       "      <th></th>\n",
       "      <th></th>\n",
       "      <th></th>\n",
       "      <th></th>\n",
       "      <th></th>\n",
       "      <th></th>\n",
       "      <th></th>\n",
       "      <th></th>\n",
       "    </tr>\n",
       "  </thead>\n",
       "  <tbody>\n",
       "    <tr>\n",
       "      <th>619</th>\n",
       "      <td>20</td>\n",
       "      <td>RL</td>\n",
       "      <td>11694</td>\n",
       "      <td>Pave</td>\n",
       "      <td>Reg</td>\n",
       "      <td>Lvl</td>\n",
       "      <td>AllPub</td>\n",
       "      <td>Inside</td>\n",
       "      <td>Gtl</td>\n",
       "      <td>NridgHt</td>\n",
       "      <td>...</td>\n",
       "      <td>108</td>\n",
       "      <td>0</td>\n",
       "      <td>0</td>\n",
       "      <td>260</td>\n",
       "      <td>0</td>\n",
       "      <td>0</td>\n",
       "      <td>7</td>\n",
       "      <td>2007</td>\n",
       "      <td>New</td>\n",
       "      <td>Partial</td>\n",
       "    </tr>\n",
       "    <tr>\n",
       "      <th>871</th>\n",
       "      <td>20</td>\n",
       "      <td>RL</td>\n",
       "      <td>6600</td>\n",
       "      <td>Pave</td>\n",
       "      <td>Reg</td>\n",
       "      <td>Lvl</td>\n",
       "      <td>AllPub</td>\n",
       "      <td>Inside</td>\n",
       "      <td>Gtl</td>\n",
       "      <td>NAmes</td>\n",
       "      <td>...</td>\n",
       "      <td>0</td>\n",
       "      <td>0</td>\n",
       "      <td>0</td>\n",
       "      <td>0</td>\n",
       "      <td>0</td>\n",
       "      <td>0</td>\n",
       "      <td>8</td>\n",
       "      <td>2009</td>\n",
       "      <td>WD</td>\n",
       "      <td>Normal</td>\n",
       "    </tr>\n",
       "    <tr>\n",
       "      <th>93</th>\n",
       "      <td>30</td>\n",
       "      <td>RL</td>\n",
       "      <td>13360</td>\n",
       "      <td>Pave</td>\n",
       "      <td>IR1</td>\n",
       "      <td>HLS</td>\n",
       "      <td>AllPub</td>\n",
       "      <td>Inside</td>\n",
       "      <td>Gtl</td>\n",
       "      <td>Crawfor</td>\n",
       "      <td>...</td>\n",
       "      <td>0</td>\n",
       "      <td>44</td>\n",
       "      <td>0</td>\n",
       "      <td>0</td>\n",
       "      <td>0</td>\n",
       "      <td>0</td>\n",
       "      <td>8</td>\n",
       "      <td>2009</td>\n",
       "      <td>WD</td>\n",
       "      <td>Normal</td>\n",
       "    </tr>\n",
       "    <tr>\n",
       "      <th>818</th>\n",
       "      <td>20</td>\n",
       "      <td>RL</td>\n",
       "      <td>13265</td>\n",
       "      <td>Pave</td>\n",
       "      <td>IR1</td>\n",
       "      <td>Lvl</td>\n",
       "      <td>AllPub</td>\n",
       "      <td>CulDSac</td>\n",
       "      <td>Gtl</td>\n",
       "      <td>Mitchel</td>\n",
       "      <td>...</td>\n",
       "      <td>59</td>\n",
       "      <td>0</td>\n",
       "      <td>0</td>\n",
       "      <td>0</td>\n",
       "      <td>0</td>\n",
       "      <td>0</td>\n",
       "      <td>7</td>\n",
       "      <td>2008</td>\n",
       "      <td>WD</td>\n",
       "      <td>Normal</td>\n",
       "    </tr>\n",
       "    <tr>\n",
       "      <th>303</th>\n",
       "      <td>20</td>\n",
       "      <td>RL</td>\n",
       "      <td>13704</td>\n",
       "      <td>Pave</td>\n",
       "      <td>IR1</td>\n",
       "      <td>Lvl</td>\n",
       "      <td>AllPub</td>\n",
       "      <td>Corner</td>\n",
       "      <td>Gtl</td>\n",
       "      <td>CollgCr</td>\n",
       "      <td>...</td>\n",
       "      <td>81</td>\n",
       "      <td>0</td>\n",
       "      <td>0</td>\n",
       "      <td>0</td>\n",
       "      <td>0</td>\n",
       "      <td>0</td>\n",
       "      <td>1</td>\n",
       "      <td>2006</td>\n",
       "      <td>WD</td>\n",
       "      <td>Normal</td>\n",
       "    </tr>\n",
       "  </tbody>\n",
       "</table>\n",
       "<p>5 rows × 60 columns</p>\n",
       "</div>"
      ],
      "text/plain": [
       "     MSSubClass MSZoning  LotArea Street LotShape LandContour Utilities  \\\n",
       "Id                                                                        \n",
       "619          20       RL    11694   Pave      Reg         Lvl    AllPub   \n",
       "871          20       RL     6600   Pave      Reg         Lvl    AllPub   \n",
       "93           30       RL    13360   Pave      IR1         HLS    AllPub   \n",
       "818          20       RL    13265   Pave      IR1         Lvl    AllPub   \n",
       "303          20       RL    13704   Pave      IR1         Lvl    AllPub   \n",
       "\n",
       "    LotConfig LandSlope Neighborhood  ... OpenPorchSF EnclosedPorch 3SsnPorch  \\\n",
       "Id                                    ...                                       \n",
       "619    Inside       Gtl      NridgHt  ...         108             0         0   \n",
       "871    Inside       Gtl        NAmes  ...           0             0         0   \n",
       "93     Inside       Gtl      Crawfor  ...           0            44         0   \n",
       "818   CulDSac       Gtl      Mitchel  ...          59             0         0   \n",
       "303    Corner       Gtl      CollgCr  ...          81             0         0   \n",
       "\n",
       "    ScreenPorch  PoolArea  MiscVal  MoSold  YrSold SaleType SaleCondition  \n",
       "Id                                                                         \n",
       "619         260         0        0       7    2007      New       Partial  \n",
       "871           0         0        0       8    2009       WD        Normal  \n",
       "93            0         0        0       8    2009       WD        Normal  \n",
       "818           0         0        0       7    2008       WD        Normal  \n",
       "303           0         0        0       1    2006       WD        Normal  \n",
       "\n",
       "[5 rows x 60 columns]"
      ]
     },
     "execution_count": 3,
     "metadata": {},
     "output_type": "execute_result"
    }
   ],
   "source": [
    "X_train.head()"
   ]
  },
  {
   "cell_type": "markdown",
   "id": "58a5ce57",
   "metadata": {
    "papermill": {
     "duration": 0.030003,
     "end_time": "2021-08-14T17:53:12.864795",
     "exception": false,
     "start_time": "2021-08-14T17:53:12.834792",
     "status": "completed"
    },
    "tags": []
   },
   "source": [
    "Notice that the dataset contains both numerical and categorical variables.  You'll need to encode the categorical data before training a model.\n",
    "\n",
    "To compare different models, you'll use the same `score_dataset()` function from the tutorial.  This function reports the [mean absolute error](https://en.wikipedia.org/wiki/Mean_absolute_error) (MAE) from a random forest model."
   ]
  },
  {
   "cell_type": "code",
   "execution_count": 4,
   "id": "228000de",
   "metadata": {
    "execution": {
     "iopub.execute_input": "2021-08-14T17:53:12.928994Z",
     "iopub.status.busy": "2021-08-14T17:53:12.928026Z",
     "iopub.status.idle": "2021-08-14T17:53:13.144172Z",
     "shell.execute_reply": "2021-08-14T17:53:13.143568Z",
     "shell.execute_reply.started": "2021-08-14T17:38:20.576881Z"
    },
    "papermill": {
     "duration": 0.249316,
     "end_time": "2021-08-14T17:53:13.144327",
     "exception": false,
     "start_time": "2021-08-14T17:53:12.895011",
     "status": "completed"
    },
    "tags": []
   },
   "outputs": [],
   "source": [
    "from sklearn.ensemble import RandomForestRegressor\n",
    "from sklearn.metrics import mean_absolute_error\n",
    "\n",
    "# function for comparing different approaches\n",
    "def score_dataset(X_train, X_valid, y_train, y_valid):\n",
    "    model = RandomForestRegressor(n_estimators=100, random_state=0)\n",
    "    model.fit(X_train, y_train)\n",
    "    preds = model.predict(X_valid)\n",
    "    return mean_absolute_error(y_valid, preds)"
   ]
  },
  {
   "cell_type": "markdown",
   "id": "156178b0",
   "metadata": {
    "papermill": {
     "duration": 0.030368,
     "end_time": "2021-08-14T17:53:13.206305",
     "exception": false,
     "start_time": "2021-08-14T17:53:13.175937",
     "status": "completed"
    },
    "tags": []
   },
   "source": [
    "# Step 1: Drop columns with categorical data\n",
    "\n",
    "You'll get started with the most straightforward approach.  Use the code cell below to preprocess the data in `X_train` and `X_valid` to remove columns with categorical data.  Set the preprocessed DataFrames to `drop_X_train` and `drop_X_valid`, respectively.  "
   ]
  },
  {
   "cell_type": "code",
   "execution_count": 5,
   "id": "f98a5d45",
   "metadata": {
    "execution": {
     "iopub.execute_input": "2021-08-14T17:53:13.279869Z",
     "iopub.status.busy": "2021-08-14T17:53:13.278830Z",
     "iopub.status.idle": "2021-08-14T17:53:13.284828Z",
     "shell.execute_reply": "2021-08-14T17:53:13.284238Z",
     "shell.execute_reply.started": "2021-08-14T17:38:59.234634Z"
    },
    "papermill": {
     "duration": 0.048171,
     "end_time": "2021-08-14T17:53:13.284978",
     "exception": false,
     "start_time": "2021-08-14T17:53:13.236807",
     "status": "completed"
    },
    "tags": []
   },
   "outputs": [
    {
     "data": {
      "application/javascript": [
       "parent.postMessage({\"jupyterEvent\": \"custom.exercise_interaction\", \"data\": {\"outcomeType\": 1, \"valueTowardsCompletion\": 0.5, \"interactionType\": 1, \"questionType\": 2, \"questionId\": \"1_Drop\", \"learnToolsVersion\": \"0.3.4\", \"failureMessage\": \"\", \"exceptionClass\": \"\", \"trace\": \"\"}}, \"*\")"
      ],
      "text/plain": [
       "<IPython.core.display.Javascript object>"
      ]
     },
     "metadata": {},
     "output_type": "display_data"
    },
    {
     "data": {
      "text/markdown": [
       "<span style=\"color:#33cc33\">Correct</span>"
      ],
      "text/plain": [
       "Correct"
      ]
     },
     "metadata": {},
     "output_type": "display_data"
    }
   ],
   "source": [
    "# Fill in the lines below: drop columns in training and validation data\n",
    "\n",
    "drop_X_train = X_train.select_dtypes(exclude=['object'])\n",
    "drop_X_valid = X_valid.select_dtypes(exclude=['object'])\n",
    "# Check your answers\n",
    "step_1.check()"
   ]
  },
  {
   "cell_type": "code",
   "execution_count": 6,
   "id": "cb3c22e4",
   "metadata": {
    "execution": {
     "iopub.execute_input": "2021-08-14T17:53:13.353442Z",
     "iopub.status.busy": "2021-08-14T17:53:13.352793Z",
     "iopub.status.idle": "2021-08-14T17:53:13.361202Z",
     "shell.execute_reply": "2021-08-14T17:53:13.360563Z",
     "shell.execute_reply.started": "2021-08-14T17:39:05.845957Z"
    },
    "papermill": {
     "duration": 0.044657,
     "end_time": "2021-08-14T17:53:13.361338",
     "exception": false,
     "start_time": "2021-08-14T17:53:13.316681",
     "status": "completed"
    },
    "tags": []
   },
   "outputs": [
    {
     "data": {
      "application/javascript": [
       "parent.postMessage({\"jupyterEvent\": \"custom.exercise_interaction\", \"data\": {\"interactionType\": 2, \"questionType\": 2, \"questionId\": \"1_Drop\", \"learnToolsVersion\": \"0.3.4\", \"valueTowardsCompletion\": 0.0, \"failureMessage\": \"\", \"exceptionClass\": \"\", \"trace\": \"\", \"outcomeType\": 4}}, \"*\")"
      ],
      "text/plain": [
       "<IPython.core.display.Javascript object>"
      ]
     },
     "metadata": {},
     "output_type": "display_data"
    },
    {
     "data": {
      "text/markdown": [
       "<span style=\"color:#3366cc\">Hint:</span> Use the [`select_dtypes()`](https://pandas.pydata.org/pandas-docs/stable/reference/api/pandas.DataFrame.select_dtypes.html) method to drop all columns with the `object` dtype."
      ],
      "text/plain": [
       "Hint: Use the [`select_dtypes()`](https://pandas.pydata.org/pandas-docs/stable/reference/api/pandas.DataFrame.select_dtypes.html) method to drop all columns with the `object` dtype."
      ]
     },
     "metadata": {},
     "output_type": "display_data"
    },
    {
     "data": {
      "application/javascript": [
       "parent.postMessage({\"jupyterEvent\": \"custom.exercise_interaction\", \"data\": {\"interactionType\": 3, \"questionType\": 2, \"questionId\": \"1_Drop\", \"learnToolsVersion\": \"0.3.4\", \"valueTowardsCompletion\": 0.0, \"failureMessage\": \"\", \"exceptionClass\": \"\", \"trace\": \"\", \"outcomeType\": 4}}, \"*\")"
      ],
      "text/plain": [
       "<IPython.core.display.Javascript object>"
      ]
     },
     "metadata": {},
     "output_type": "display_data"
    },
    {
     "data": {
      "text/markdown": [
       "<span style=\"color:#33cc99\">Solution:</span> \n",
       "```python\n",
       "# Drop columns in training and validation data\n",
       "drop_X_train = X_train.select_dtypes(exclude=['object'])\n",
       "drop_X_valid = X_valid.select_dtypes(exclude=['object'])\n",
       "\n",
       "```"
      ],
      "text/plain": [
       "Solution: \n",
       "```python\n",
       "# Drop columns in training and validation data\n",
       "drop_X_train = X_train.select_dtypes(exclude=['object'])\n",
       "drop_X_valid = X_valid.select_dtypes(exclude=['object'])\n",
       "\n",
       "```"
      ]
     },
     "metadata": {},
     "output_type": "display_data"
    }
   ],
   "source": [
    "# Lines below will give you a hint or solution code\n",
    "step_1.hint()\n",
    "step_1.solution()"
   ]
  },
  {
   "cell_type": "markdown",
   "id": "7c6db284",
   "metadata": {
    "papermill": {
     "duration": 0.033,
     "end_time": "2021-08-14T17:53:13.427893",
     "exception": false,
     "start_time": "2021-08-14T17:53:13.394893",
     "status": "completed"
    },
    "tags": []
   },
   "source": [
    "Run the next code cell to get the MAE for this approach."
   ]
  },
  {
   "cell_type": "code",
   "execution_count": 7,
   "id": "2f8eaef3",
   "metadata": {
    "execution": {
     "iopub.execute_input": "2021-08-14T17:53:13.502134Z",
     "iopub.status.busy": "2021-08-14T17:53:13.501438Z",
     "iopub.status.idle": "2021-08-14T17:53:14.749715Z",
     "shell.execute_reply": "2021-08-14T17:53:14.750171Z",
     "shell.execute_reply.started": "2021-08-14T17:39:11.466275Z"
    },
    "papermill": {
     "duration": 1.289146,
     "end_time": "2021-08-14T17:53:14.750343",
     "exception": false,
     "start_time": "2021-08-14T17:53:13.461197",
     "status": "completed"
    },
    "tags": []
   },
   "outputs": [
    {
     "name": "stdout",
     "output_type": "stream",
     "text": [
      "MAE from Approach 1 (Drop categorical variables):\n",
      "17837.82570776256\n"
     ]
    }
   ],
   "source": [
    "print(\"MAE from Approach 1 (Drop categorical variables):\")\n",
    "print(score_dataset(drop_X_train, drop_X_valid, y_train, y_valid))"
   ]
  },
  {
   "cell_type": "markdown",
   "id": "a8b68982",
   "metadata": {
    "papermill": {
     "duration": 0.033442,
     "end_time": "2021-08-14T17:53:14.818588",
     "exception": false,
     "start_time": "2021-08-14T17:53:14.785146",
     "status": "completed"
    },
    "tags": []
   },
   "source": [
    "Before jumping into ordinal encoding, we'll investigate the dataset.  Specifically, we'll look at the `'Condition2'` column.  The code cell below prints the unique entries in both the training and validation sets."
   ]
  },
  {
   "cell_type": "code",
   "execution_count": 8,
   "id": "e47a8d1e",
   "metadata": {
    "execution": {
     "iopub.execute_input": "2021-08-14T17:53:14.894443Z",
     "iopub.status.busy": "2021-08-14T17:53:14.893804Z",
     "iopub.status.idle": "2021-08-14T17:53:14.896583Z",
     "shell.execute_reply": "2021-08-14T17:53:14.897176Z",
     "shell.execute_reply.started": "2021-08-14T17:39:25.010445Z"
    },
    "papermill": {
     "duration": 0.04452,
     "end_time": "2021-08-14T17:53:14.897337",
     "exception": false,
     "start_time": "2021-08-14T17:53:14.852817",
     "status": "completed"
    },
    "tags": []
   },
   "outputs": [
    {
     "name": "stdout",
     "output_type": "stream",
     "text": [
      "Unique values in 'Condition2' column in training data: ['Norm' 'PosA' 'Feedr' 'PosN' 'Artery' 'RRAe']\n",
      "\n",
      "Unique values in 'Condition2' column in validation data: ['Norm' 'RRAn' 'RRNn' 'Artery' 'Feedr' 'PosN']\n"
     ]
    }
   ],
   "source": [
    "print(\"Unique values in 'Condition2' column in training data:\", X_train['Condition2'].unique())\n",
    "print(\"\\nUnique values in 'Condition2' column in validation data:\", X_valid['Condition2'].unique())"
   ]
  },
  {
   "cell_type": "markdown",
   "id": "b0332729",
   "metadata": {
    "papermill": {
     "duration": 0.034249,
     "end_time": "2021-08-14T17:53:14.966054",
     "exception": false,
     "start_time": "2021-08-14T17:53:14.931805",
     "status": "completed"
    },
    "tags": []
   },
   "source": [
    "# Step 2: Ordinal encoding\n",
    "\n",
    "### Part A\n",
    "\n",
    "If you now write code to: \n",
    "- fit an ordinal encoder to the training data, and then \n",
    "- use it to transform both the training and validation data, \n",
    "\n",
    "you'll get an error.  Can you see why this is the case?  (_You'll need  to use the above output to answer this question._)"
   ]
  },
  {
   "cell_type": "code",
   "execution_count": 9,
   "id": "ae2dd96c",
   "metadata": {
    "execution": {
     "iopub.execute_input": "2021-08-14T17:53:15.038192Z",
     "iopub.status.busy": "2021-08-14T17:53:15.037503Z",
     "iopub.status.idle": "2021-08-14T17:53:15.043995Z",
     "shell.execute_reply": "2021-08-14T17:53:15.044485Z",
     "shell.execute_reply.started": "2021-08-14T17:39:55.561797Z"
    },
    "papermill": {
     "duration": 0.044328,
     "end_time": "2021-08-14T17:53:15.044686",
     "exception": false,
     "start_time": "2021-08-14T17:53:15.000358",
     "status": "completed"
    },
    "tags": []
   },
   "outputs": [
    {
     "data": {
      "application/javascript": [
       "parent.postMessage({\"jupyterEvent\": \"custom.exercise_interaction\", \"data\": {\"outcomeType\": 1, \"valueTowardsCompletion\": 0.5, \"interactionType\": 1, \"questionType\": 4, \"questionId\": \"2.1_LabelA\", \"learnToolsVersion\": \"0.3.4\", \"failureMessage\": \"\", \"exceptionClass\": \"\", \"trace\": \"\"}}, \"*\")"
      ],
      "text/plain": [
       "<IPython.core.display.Javascript object>"
      ]
     },
     "metadata": {},
     "output_type": "display_data"
    },
    {
     "data": {
      "text/markdown": [
       "<span style=\"color:#33cc33\">Correct:</span> \n",
       "\n",
       "Fitting an ordinal encoder to a column in the training data creates a corresponding integer-valued label for each unique value **that appears in the training data**. In the case that the validation data contains values that don't also appear in the training data, the encoder will throw an error, because these values won't have an integer assigned to them.  Notice that the `'Condition2'` column in the validation data contains the values `'RRAn'` and `'RRNn'`, but these don't appear in the training data -- thus, if we try to use an ordinal encoder with scikit-learn, the code will throw an error."
      ],
      "text/plain": [
       "Correct: \n",
       "\n",
       "Fitting an ordinal encoder to a column in the training data creates a corresponding integer-valued label for each unique value **that appears in the training data**. In the case that the validation data contains values that don't also appear in the training data, the encoder will throw an error, because these values won't have an integer assigned to them.  Notice that the `'Condition2'` column in the validation data contains the values `'RRAn'` and `'RRNn'`, but these don't appear in the training data -- thus, if we try to use an ordinal encoder with scikit-learn, the code will throw an error."
      ]
     },
     "metadata": {},
     "output_type": "display_data"
    }
   ],
   "source": [
    "# Check your answer (Run this code cell to receive credit!)\n",
    "step_2.a.check()"
   ]
  },
  {
   "cell_type": "code",
   "execution_count": 10,
   "id": "301da279",
   "metadata": {
    "execution": {
     "iopub.execute_input": "2021-08-14T17:53:15.118654Z",
     "iopub.status.busy": "2021-08-14T17:53:15.117964Z",
     "iopub.status.idle": "2021-08-14T17:53:15.126069Z",
     "shell.execute_reply": "2021-08-14T17:53:15.125535Z"
    },
    "papermill": {
     "duration": 0.046153,
     "end_time": "2021-08-14T17:53:15.126222",
     "exception": false,
     "start_time": "2021-08-14T17:53:15.080069",
     "status": "completed"
    },
    "tags": []
   },
   "outputs": [
    {
     "data": {
      "application/javascript": [
       "parent.postMessage({\"jupyterEvent\": \"custom.exercise_interaction\", \"data\": {\"interactionType\": 2, \"questionType\": 4, \"questionId\": \"2.1_LabelA\", \"learnToolsVersion\": \"0.3.4\", \"valueTowardsCompletion\": 0.0, \"failureMessage\": \"\", \"exceptionClass\": \"\", \"trace\": \"\", \"outcomeType\": 4}}, \"*\")"
      ],
      "text/plain": [
       "<IPython.core.display.Javascript object>"
      ]
     },
     "metadata": {},
     "output_type": "display_data"
    },
    {
     "data": {
      "text/markdown": [
       "<span style=\"color:#3366cc\">Hint:</span> Are there any values that appear in the validation data but not in the training data?"
      ],
      "text/plain": [
       "Hint: Are there any values that appear in the validation data but not in the training data?"
      ]
     },
     "metadata": {},
     "output_type": "display_data"
    }
   ],
   "source": [
    "step_2.a.hint()"
   ]
  },
  {
   "cell_type": "markdown",
   "id": "d38660fc",
   "metadata": {
    "papermill": {
     "duration": 0.036128,
     "end_time": "2021-08-14T17:53:15.198594",
     "exception": false,
     "start_time": "2021-08-14T17:53:15.162466",
     "status": "completed"
    },
    "tags": []
   },
   "source": [
    "This is a common problem that you'll encounter with real-world data, and there are many approaches to fixing this issue.  For instance, you can write a custom ordinal encoder to deal with new categories.  The simplest approach, however, is to drop the problematic categorical columns.  \n",
    "\n",
    "Run the code cell below to save the problematic columns to a Python list `bad_label_cols`.  Likewise, columns that can be safely ordinal encoded are stored in `good_label_cols`."
   ]
  },
  {
   "cell_type": "code",
   "execution_count": 11,
   "id": "957c80f5",
   "metadata": {
    "execution": {
     "iopub.execute_input": "2021-08-14T17:53:15.289340Z",
     "iopub.status.busy": "2021-08-14T17:53:15.288675Z",
     "iopub.status.idle": "2021-08-14T17:53:15.293084Z",
     "shell.execute_reply": "2021-08-14T17:53:15.292525Z",
     "shell.execute_reply.started": "2021-08-14T17:41:17.091224Z"
    },
    "papermill": {
     "duration": 0.056938,
     "end_time": "2021-08-14T17:53:15.293231",
     "exception": false,
     "start_time": "2021-08-14T17:53:15.236293",
     "status": "completed"
    },
    "tags": []
   },
   "outputs": [
    {
     "name": "stdout",
     "output_type": "stream",
     "text": [
      "Categorical columns that will be ordinal encoded: ['MSZoning', 'Street', 'LotShape', 'LandContour', 'Utilities', 'LotConfig', 'LandSlope', 'Neighborhood', 'Condition1', 'BldgType', 'HouseStyle', 'RoofStyle', 'Exterior1st', 'Exterior2nd', 'ExterQual', 'ExterCond', 'Foundation', 'Heating', 'HeatingQC', 'CentralAir', 'KitchenQual', 'PavedDrive', 'SaleType', 'SaleCondition']\n",
      "\n",
      "Categorical columns that will be dropped from the dataset: ['Functional', 'RoofMatl', 'Condition2']\n"
     ]
    }
   ],
   "source": [
    "# All categorical columns\n",
    "object_cols = [col for col in X_train.columns if X_train[col].dtype == \"object\"]\n",
    "\n",
    "# Columns that can be safely ordinal encoded\n",
    "good_label_cols = [col for col in object_cols if \n",
    "                   set(X_valid[col]).issubset(set(X_train[col]))]\n",
    "        \n",
    "# Problematic columns that will be dropped from the dataset\n",
    "bad_label_cols = list(set(object_cols)-set(good_label_cols))\n",
    "        \n",
    "print('Categorical columns that will be ordinal encoded:', good_label_cols)\n",
    "print('\\nCategorical columns that will be dropped from the dataset:', bad_label_cols)"
   ]
  },
  {
   "cell_type": "markdown",
   "id": "16477fae",
   "metadata": {
    "papermill": {
     "duration": 0.036415,
     "end_time": "2021-08-14T17:53:15.366569",
     "exception": false,
     "start_time": "2021-08-14T17:53:15.330154",
     "status": "completed"
    },
    "tags": []
   },
   "source": [
    "### Part B\n",
    "\n",
    "Use the next code cell to ordinal encode the data in `X_train` and `X_valid`.  Set the preprocessed DataFrames to `label_X_train` and `label_X_valid`, respectively.  \n",
    "- We have provided code below to drop the categorical columns in `bad_label_cols` from the dataset. \n",
    "- You should ordinal encode the categorical columns in `good_label_cols`.  "
   ]
  },
  {
   "cell_type": "code",
   "execution_count": 12,
   "id": "7c34ce1e",
   "metadata": {
    "execution": {
     "iopub.execute_input": "2021-08-14T17:53:15.470197Z",
     "iopub.status.busy": "2021-08-14T17:53:15.469156Z",
     "iopub.status.idle": "2021-08-14T17:53:15.532675Z",
     "shell.execute_reply": "2021-08-14T17:53:15.533438Z",
     "shell.execute_reply.started": "2021-08-14T17:43:00.372269Z"
    },
    "papermill": {
     "duration": 0.127448,
     "end_time": "2021-08-14T17:53:15.533708",
     "exception": false,
     "start_time": "2021-08-14T17:53:15.406260",
     "status": "completed"
    },
    "tags": []
   },
   "outputs": [
    {
     "data": {
      "application/javascript": [
       "parent.postMessage({\"jupyterEvent\": \"custom.exercise_interaction\", \"data\": {\"outcomeType\": 1, \"valueTowardsCompletion\": 0.5, \"interactionType\": 1, \"questionType\": 2, \"questionId\": \"2.2_LabelB\", \"learnToolsVersion\": \"0.3.4\", \"failureMessage\": \"\", \"exceptionClass\": \"\", \"trace\": \"\"}}, \"*\")"
      ],
      "text/plain": [
       "<IPython.core.display.Javascript object>"
      ]
     },
     "metadata": {},
     "output_type": "display_data"
    },
    {
     "data": {
      "text/markdown": [
       "<span style=\"color:#33cc33\">Correct</span>"
      ],
      "text/plain": [
       "Correct"
      ]
     },
     "metadata": {},
     "output_type": "display_data"
    }
   ],
   "source": [
    "from sklearn.preprocessing import OrdinalEncoder\n",
    "\n",
    "# Drop categorical columns that will not be encoded\n",
    "label_X_train = X_train.drop(bad_label_cols, axis=1)\n",
    "label_X_valid = X_valid.drop(bad_label_cols, axis=1)\n",
    "\n",
    "# Apply ordinal encoder \n",
    "ordinal_encoder = OrdinalEncoder()\n",
    "label_X_train[good_label_cols] = ordinal_encoder.fit_transform(X_train[good_label_cols])\n",
    "label_X_valid[good_label_cols] = ordinal_encoder.transform(X_valid[good_label_cols])    \n",
    "# Check your answer\n",
    "step_2.b.check()"
   ]
  },
  {
   "cell_type": "code",
   "execution_count": 13,
   "id": "02f32f27",
   "metadata": {
    "execution": {
     "iopub.execute_input": "2021-08-14T17:53:15.631347Z",
     "iopub.status.busy": "2021-08-14T17:53:15.630297Z",
     "iopub.status.idle": "2021-08-14T17:53:15.641096Z",
     "shell.execute_reply": "2021-08-14T17:53:15.640530Z",
     "shell.execute_reply.started": "2021-08-14T17:43:06.561888Z"
    },
    "papermill": {
     "duration": 0.057491,
     "end_time": "2021-08-14T17:53:15.641250",
     "exception": false,
     "start_time": "2021-08-14T17:53:15.583759",
     "status": "completed"
    },
    "tags": []
   },
   "outputs": [
    {
     "data": {
      "application/javascript": [
       "parent.postMessage({\"jupyterEvent\": \"custom.exercise_interaction\", \"data\": {\"interactionType\": 2, \"questionType\": 2, \"questionId\": \"2.2_LabelB\", \"learnToolsVersion\": \"0.3.4\", \"valueTowardsCompletion\": 0.0, \"failureMessage\": \"\", \"exceptionClass\": \"\", \"trace\": \"\", \"outcomeType\": 4}}, \"*\")"
      ],
      "text/plain": [
       "<IPython.core.display.Javascript object>"
      ]
     },
     "metadata": {},
     "output_type": "display_data"
    },
    {
     "data": {
      "text/markdown": [
       "<span style=\"color:#3366cc\">Hint:</span> Use the `OrdinalEncoder` class from scikit-learn. You should only encode the columns in `good_label_cols`."
      ],
      "text/plain": [
       "Hint: Use the `OrdinalEncoder` class from scikit-learn. You should only encode the columns in `good_label_cols`."
      ]
     },
     "metadata": {},
     "output_type": "display_data"
    },
    {
     "data": {
      "application/javascript": [
       "parent.postMessage({\"jupyterEvent\": \"custom.exercise_interaction\", \"data\": {\"interactionType\": 3, \"questionType\": 2, \"questionId\": \"2.2_LabelB\", \"learnToolsVersion\": \"0.3.4\", \"valueTowardsCompletion\": 0.0, \"failureMessage\": \"\", \"exceptionClass\": \"\", \"trace\": \"\", \"outcomeType\": 4}}, \"*\")"
      ],
      "text/plain": [
       "<IPython.core.display.Javascript object>"
      ]
     },
     "metadata": {},
     "output_type": "display_data"
    },
    {
     "data": {
      "text/markdown": [
       "<span style=\"color:#33cc99\">Solution:</span> \n",
       "```python\n",
       "# Drop categorical columns that will not be encoded\n",
       "label_X_train = X_train.drop(bad_label_cols, axis=1)\n",
       "label_X_valid = X_valid.drop(bad_label_cols, axis=1)\n",
       "\n",
       "# Apply ordinal encoder\n",
       "ordinal_encoder = OrdinalEncoder()\n",
       "label_X_train[good_label_cols] = ordinal_encoder.fit_transform(X_train[good_label_cols])\n",
       "label_X_valid[good_label_cols] = ordinal_encoder.transform(X_valid[good_label_cols])\n",
       "\n",
       "```"
      ],
      "text/plain": [
       "Solution: \n",
       "```python\n",
       "# Drop categorical columns that will not be encoded\n",
       "label_X_train = X_train.drop(bad_label_cols, axis=1)\n",
       "label_X_valid = X_valid.drop(bad_label_cols, axis=1)\n",
       "\n",
       "# Apply ordinal encoder\n",
       "ordinal_encoder = OrdinalEncoder()\n",
       "label_X_train[good_label_cols] = ordinal_encoder.fit_transform(X_train[good_label_cols])\n",
       "label_X_valid[good_label_cols] = ordinal_encoder.transform(X_valid[good_label_cols])\n",
       "\n",
       "```"
      ]
     },
     "metadata": {},
     "output_type": "display_data"
    }
   ],
   "source": [
    "# Lines below will give you a hint or solution code\n",
    "step_2.b.hint()\n",
    "step_2.b.solution()"
   ]
  },
  {
   "cell_type": "markdown",
   "id": "90e971f4",
   "metadata": {
    "papermill": {
     "duration": 0.04681,
     "end_time": "2021-08-14T17:53:15.728008",
     "exception": false,
     "start_time": "2021-08-14T17:53:15.681198",
     "status": "completed"
    },
    "tags": []
   },
   "source": [
    "Run the next code cell to get the MAE for this approach."
   ]
  },
  {
   "cell_type": "code",
   "execution_count": 14,
   "id": "14cb0f7b",
   "metadata": {
    "execution": {
     "iopub.execute_input": "2021-08-14T17:53:15.831186Z",
     "iopub.status.busy": "2021-08-14T17:53:15.830122Z",
     "iopub.status.idle": "2021-08-14T17:53:17.435757Z",
     "shell.execute_reply": "2021-08-14T17:53:17.435115Z",
     "shell.execute_reply.started": "2021-08-14T17:43:54.683778Z"
    },
    "papermill": {
     "duration": 1.653794,
     "end_time": "2021-08-14T17:53:17.435921",
     "exception": false,
     "start_time": "2021-08-14T17:53:15.782127",
     "status": "completed"
    },
    "tags": []
   },
   "outputs": [
    {
     "name": "stdout",
     "output_type": "stream",
     "text": [
      "MAE from Approach 2 (Ordinal Encoding):\n",
      "17098.01649543379\n"
     ]
    }
   ],
   "source": [
    "print(\"MAE from Approach 2 (Ordinal Encoding):\") \n",
    "print(score_dataset(label_X_train, label_X_valid, y_train, y_valid))"
   ]
  },
  {
   "cell_type": "markdown",
   "id": "17b198a1",
   "metadata": {
    "papermill": {
     "duration": 0.040089,
     "end_time": "2021-08-14T17:53:17.516263",
     "exception": false,
     "start_time": "2021-08-14T17:53:17.476174",
     "status": "completed"
    },
    "tags": []
   },
   "source": [
    "So far, you've tried two different approaches to dealing with categorical variables.  And, you've seen that encoding categorical data yields better results than removing columns from the dataset.\n",
    "\n",
    "Soon, you'll try one-hot encoding.  Before then, there's one additional topic we need to cover.  Begin by running the next code cell without changes.  "
   ]
  },
  {
   "cell_type": "code",
   "execution_count": 15,
   "id": "aa3d1e14",
   "metadata": {
    "execution": {
     "iopub.execute_input": "2021-08-14T17:53:17.603591Z",
     "iopub.status.busy": "2021-08-14T17:53:17.602915Z",
     "iopub.status.idle": "2021-08-14T17:53:17.621885Z",
     "shell.execute_reply": "2021-08-14T17:53:17.621314Z",
     "shell.execute_reply.started": "2021-08-14T17:44:06.856368Z"
    },
    "papermill": {
     "duration": 0.065202,
     "end_time": "2021-08-14T17:53:17.622037",
     "exception": false,
     "start_time": "2021-08-14T17:53:17.556835",
     "status": "completed"
    },
    "tags": []
   },
   "outputs": [
    {
     "data": {
      "text/plain": [
       "[('Street', 2),\n",
       " ('Utilities', 2),\n",
       " ('CentralAir', 2),\n",
       " ('LandSlope', 3),\n",
       " ('PavedDrive', 3),\n",
       " ('LotShape', 4),\n",
       " ('LandContour', 4),\n",
       " ('ExterQual', 4),\n",
       " ('KitchenQual', 4),\n",
       " ('MSZoning', 5),\n",
       " ('LotConfig', 5),\n",
       " ('BldgType', 5),\n",
       " ('ExterCond', 5),\n",
       " ('HeatingQC', 5),\n",
       " ('Condition2', 6),\n",
       " ('RoofStyle', 6),\n",
       " ('Foundation', 6),\n",
       " ('Heating', 6),\n",
       " ('Functional', 6),\n",
       " ('SaleCondition', 6),\n",
       " ('RoofMatl', 7),\n",
       " ('HouseStyle', 8),\n",
       " ('Condition1', 9),\n",
       " ('SaleType', 9),\n",
       " ('Exterior1st', 15),\n",
       " ('Exterior2nd', 16),\n",
       " ('Neighborhood', 25)]"
      ]
     },
     "execution_count": 15,
     "metadata": {},
     "output_type": "execute_result"
    }
   ],
   "source": [
    "# Get number of unique entries in each column with categorical data\n",
    "object_nunique = list(map(lambda col: X_train[col].nunique(), object_cols))\n",
    "d = dict(zip(object_cols, object_nunique))\n",
    "\n",
    "# Print number of unique entries by column, in ascending order\n",
    "sorted(d.items(), key=lambda x: x[1])"
   ]
  },
  {
   "cell_type": "markdown",
   "id": "05cfcc58",
   "metadata": {
    "papermill": {
     "duration": 0.040358,
     "end_time": "2021-08-14T17:53:17.703354",
     "exception": false,
     "start_time": "2021-08-14T17:53:17.662996",
     "status": "completed"
    },
    "tags": []
   },
   "source": [
    "# Step 3: Investigating cardinality\n",
    "\n",
    "### Part A\n",
    "\n",
    "The output above shows, for each column with categorical data, the number of unique values in the column.  For instance, the `'Street'` column in the training data has two unique values: `'Grvl'` and `'Pave'`, corresponding to a gravel road and a paved road, respectively.\n",
    "\n",
    "We refer to the number of unique entries of a categorical variable as the **cardinality** of that categorical variable.  For instance, the `'Street'` variable has cardinality 2.\n",
    "\n",
    "Use the output above to answer the questions below."
   ]
  },
  {
   "cell_type": "code",
   "execution_count": 16,
   "id": "08bd141d",
   "metadata": {
    "execution": {
     "iopub.execute_input": "2021-08-14T17:53:17.790529Z",
     "iopub.status.busy": "2021-08-14T17:53:17.789772Z",
     "iopub.status.idle": "2021-08-14T17:53:17.796365Z",
     "shell.execute_reply": "2021-08-14T17:53:17.795796Z",
     "shell.execute_reply.started": "2021-08-14T17:46:04.986862Z"
    },
    "papermill": {
     "duration": 0.052628,
     "end_time": "2021-08-14T17:53:17.796508",
     "exception": false,
     "start_time": "2021-08-14T17:53:17.743880",
     "status": "completed"
    },
    "tags": []
   },
   "outputs": [
    {
     "data": {
      "application/javascript": [
       "parent.postMessage({\"jupyterEvent\": \"custom.exercise_interaction\", \"data\": {\"outcomeType\": 1, \"valueTowardsCompletion\": 0.5, \"interactionType\": 1, \"questionType\": 1, \"questionId\": \"3.1_CardinalityA\", \"learnToolsVersion\": \"0.3.4\", \"failureMessage\": \"\", \"exceptionClass\": \"\", \"trace\": \"\"}}, \"*\")"
      ],
      "text/plain": [
       "<IPython.core.display.Javascript object>"
      ]
     },
     "metadata": {},
     "output_type": "display_data"
    },
    {
     "data": {
      "text/markdown": [
       "<span style=\"color:#33cc33\">Correct</span>"
      ],
      "text/plain": [
       "Correct"
      ]
     },
     "metadata": {},
     "output_type": "display_data"
    }
   ],
   "source": [
    "# Fill in the line below: How many categorical variables in the training data\n",
    "# have cardinality greater than 10?\n",
    "high_cardinality_numcols = 3\n",
    "\n",
    "# Fill in the line below: How many columns are needed to one-hot encode the \n",
    "# 'Neighborhood' variable in the training data?\n",
    "num_cols_neighborhood = 25\n",
    "\n",
    "# Check your answers\n",
    "step_3.a.check()"
   ]
  },
  {
   "cell_type": "code",
   "execution_count": 17,
   "id": "33655931",
   "metadata": {
    "execution": {
     "iopub.execute_input": "2021-08-14T17:53:17.884369Z",
     "iopub.status.busy": "2021-08-14T17:53:17.883732Z",
     "iopub.status.idle": "2021-08-14T17:53:17.892480Z",
     "shell.execute_reply": "2021-08-14T17:53:17.893005Z",
     "shell.execute_reply.started": "2021-08-14T17:46:12.162259Z"
    },
    "papermill": {
     "duration": 0.054015,
     "end_time": "2021-08-14T17:53:17.893195",
     "exception": false,
     "start_time": "2021-08-14T17:53:17.839180",
     "status": "completed"
    },
    "tags": []
   },
   "outputs": [
    {
     "data": {
      "application/javascript": [
       "parent.postMessage({\"jupyterEvent\": \"custom.exercise_interaction\", \"data\": {\"interactionType\": 2, \"questionType\": 1, \"questionId\": \"3.1_CardinalityA\", \"learnToolsVersion\": \"0.3.4\", \"valueTowardsCompletion\": 0.0, \"failureMessage\": \"\", \"exceptionClass\": \"\", \"trace\": \"\", \"outcomeType\": 4}}, \"*\")"
      ],
      "text/plain": [
       "<IPython.core.display.Javascript object>"
      ]
     },
     "metadata": {},
     "output_type": "display_data"
    },
    {
     "data": {
      "text/markdown": [
       "<span style=\"color:#3366cc\">Hint:</span> To one-hot encode a variable, we need one column for each unique entry."
      ],
      "text/plain": [
       "Hint: To one-hot encode a variable, we need one column for each unique entry."
      ]
     },
     "metadata": {},
     "output_type": "display_data"
    },
    {
     "data": {
      "application/javascript": [
       "parent.postMessage({\"jupyterEvent\": \"custom.exercise_interaction\", \"data\": {\"interactionType\": 3, \"questionType\": 1, \"questionId\": \"3.1_CardinalityA\", \"learnToolsVersion\": \"0.3.4\", \"valueTowardsCompletion\": 0.0, \"failureMessage\": \"\", \"exceptionClass\": \"\", \"trace\": \"\", \"outcomeType\": 4}}, \"*\")"
      ],
      "text/plain": [
       "<IPython.core.display.Javascript object>"
      ]
     },
     "metadata": {},
     "output_type": "display_data"
    },
    {
     "data": {
      "text/markdown": [
       "<span style=\"color:#33cc99\">Solution:</span> \n",
       "```python\n",
       "# How many categorical variables in the training data\n",
       "# have cardinality greater than 10?\n",
       "high_cardinality_numcols = 3\n",
       "\n",
       "# How many columns are needed to one-hot encode the\n",
       "# 'Neighborhood' variable in the training data?\n",
       "num_cols_neighborhood = 25\n",
       "\n",
       "```"
      ],
      "text/plain": [
       "Solution: \n",
       "```python\n",
       "# How many categorical variables in the training data\n",
       "# have cardinality greater than 10?\n",
       "high_cardinality_numcols = 3\n",
       "\n",
       "# How many columns are needed to one-hot encode the\n",
       "# 'Neighborhood' variable in the training data?\n",
       "num_cols_neighborhood = 25\n",
       "\n",
       "```"
      ]
     },
     "metadata": {},
     "output_type": "display_data"
    }
   ],
   "source": [
    "# Lines below will give you a hint or solution code\n",
    "step_3.a.hint()\n",
    "step_3.a.solution()"
   ]
  },
  {
   "cell_type": "markdown",
   "id": "d5ba5b34",
   "metadata": {
    "papermill": {
     "duration": 0.043361,
     "end_time": "2021-08-14T17:53:17.980469",
     "exception": false,
     "start_time": "2021-08-14T17:53:17.937108",
     "status": "completed"
    },
    "tags": []
   },
   "source": [
    "### Part B\n",
    "\n",
    "For large datasets with many rows, one-hot encoding can greatly expand the size of the dataset.  For this reason, we typically will only one-hot encode columns with relatively low cardinality.  Then, high cardinality columns can either be dropped from the dataset, or we can use ordinal encoding.\n",
    "\n",
    "As an example, consider a dataset with 10,000 rows, and containing one categorical column with 100 unique entries.  \n",
    "- If this column is replaced with the corresponding one-hot encoding, how many entries are added to the dataset?  \n",
    "- If we instead replace the column with the ordinal encoding, how many entries are added?  \n",
    "\n",
    "Use your answers to fill in the lines below."
   ]
  },
  {
   "cell_type": "code",
   "execution_count": 18,
   "id": "f546d255",
   "metadata": {
    "execution": {
     "iopub.execute_input": "2021-08-14T17:53:18.072112Z",
     "iopub.status.busy": "2021-08-14T17:53:18.071442Z",
     "iopub.status.idle": "2021-08-14T17:53:18.078822Z",
     "shell.execute_reply": "2021-08-14T17:53:18.079354Z",
     "shell.execute_reply.started": "2021-08-14T17:48:38.075292Z"
    },
    "papermill": {
     "duration": 0.054912,
     "end_time": "2021-08-14T17:53:18.079527",
     "exception": false,
     "start_time": "2021-08-14T17:53:18.024615",
     "status": "completed"
    },
    "tags": []
   },
   "outputs": [
    {
     "data": {
      "application/javascript": [
       "parent.postMessage({\"jupyterEvent\": \"custom.exercise_interaction\", \"data\": {\"outcomeType\": 1, \"valueTowardsCompletion\": 0.5, \"interactionType\": 1, \"questionType\": 1, \"questionId\": \"3.2_CardinalityB\", \"learnToolsVersion\": \"0.3.4\", \"failureMessage\": \"\", \"exceptionClass\": \"\", \"trace\": \"\"}}, \"*\")"
      ],
      "text/plain": [
       "<IPython.core.display.Javascript object>"
      ]
     },
     "metadata": {},
     "output_type": "display_data"
    },
    {
     "data": {
      "text/markdown": [
       "<span style=\"color:#33cc33\">Correct</span>"
      ],
      "text/plain": [
       "Correct"
      ]
     },
     "metadata": {},
     "output_type": "display_data"
    }
   ],
   "source": [
    "# Fill in the line below: How many entries are added to the dataset by \n",
    "# replacing the column with a one-hot encoding?\n",
    "OH_entries_added = 1e4*100 - 1e4\n",
    "\n",
    "# Fill in the line below: How many entries are added to the dataset by\n",
    "# replacing the column with an ordinal encoding?\n",
    "label_entries_added = 0\n",
    "\n",
    "# Check your answers\n",
    "step_3.b.check()"
   ]
  },
  {
   "cell_type": "code",
   "execution_count": 19,
   "id": "5bf54a08",
   "metadata": {
    "execution": {
     "iopub.execute_input": "2021-08-14T17:53:18.172289Z",
     "iopub.status.busy": "2021-08-14T17:53:18.171597Z",
     "iopub.status.idle": "2021-08-14T17:53:18.181287Z",
     "shell.execute_reply": "2021-08-14T17:53:18.181811Z",
     "shell.execute_reply.started": "2021-08-14T17:47:37.199298Z"
    },
    "papermill": {
     "duration": 0.058004,
     "end_time": "2021-08-14T17:53:18.181988",
     "exception": false,
     "start_time": "2021-08-14T17:53:18.123984",
     "status": "completed"
    },
    "tags": []
   },
   "outputs": [
    {
     "data": {
      "application/javascript": [
       "parent.postMessage({\"jupyterEvent\": \"custom.exercise_interaction\", \"data\": {\"interactionType\": 2, \"questionType\": 1, \"questionId\": \"3.2_CardinalityB\", \"learnToolsVersion\": \"0.3.4\", \"valueTowardsCompletion\": 0.0, \"failureMessage\": \"\", \"exceptionClass\": \"\", \"trace\": \"\", \"outcomeType\": 4}}, \"*\")"
      ],
      "text/plain": [
       "<IPython.core.display.Javascript object>"
      ]
     },
     "metadata": {},
     "output_type": "display_data"
    },
    {
     "data": {
      "text/markdown": [
       "<span style=\"color:#3366cc\">Hint:</span> To calculate how many entries are added to the dataset through the one-hot encoding, begin by calculating how many entries are needed to encode the categorical variable (by multiplying the number of rows by the number of columns in the one-hot encoding). Then, to obtain how many entries are **added** to the dataset, subtract the number of entries in the original column."
      ],
      "text/plain": [
       "Hint: To calculate how many entries are added to the dataset through the one-hot encoding, begin by calculating how many entries are needed to encode the categorical variable (by multiplying the number of rows by the number of columns in the one-hot encoding). Then, to obtain how many entries are **added** to the dataset, subtract the number of entries in the original column."
      ]
     },
     "metadata": {},
     "output_type": "display_data"
    },
    {
     "data": {
      "application/javascript": [
       "parent.postMessage({\"jupyterEvent\": \"custom.exercise_interaction\", \"data\": {\"interactionType\": 3, \"questionType\": 1, \"questionId\": \"3.2_CardinalityB\", \"learnToolsVersion\": \"0.3.4\", \"valueTowardsCompletion\": 0.0, \"failureMessage\": \"\", \"exceptionClass\": \"\", \"trace\": \"\", \"outcomeType\": 4}}, \"*\")"
      ],
      "text/plain": [
       "<IPython.core.display.Javascript object>"
      ]
     },
     "metadata": {},
     "output_type": "display_data"
    },
    {
     "data": {
      "text/markdown": [
       "<span style=\"color:#33cc99\">Solution:</span> \n",
       "```python\n",
       "# How many entries are added to the dataset by\n",
       "# replacing the column with a one-hot encoding?\n",
       "OH_entries_added = 1e4*100 - 1e4\n",
       "\n",
       "# How many entries are added to the dataset by\n",
       "# replacing the column with an ordinal encoding?\n",
       "label_entries_added = 0\n",
       "\n",
       "```"
      ],
      "text/plain": [
       "Solution: \n",
       "```python\n",
       "# How many entries are added to the dataset by\n",
       "# replacing the column with a one-hot encoding?\n",
       "OH_entries_added = 1e4*100 - 1e4\n",
       "\n",
       "# How many entries are added to the dataset by\n",
       "# replacing the column with an ordinal encoding?\n",
       "label_entries_added = 0\n",
       "\n",
       "```"
      ]
     },
     "metadata": {},
     "output_type": "display_data"
    }
   ],
   "source": [
    "# Lines below will give you a hint or solution code\n",
    "step_3.b.hint()\n",
    "step_3.b.solution()"
   ]
  },
  {
   "cell_type": "markdown",
   "id": "21ac6d9c",
   "metadata": {
    "papermill": {
     "duration": 0.046187,
     "end_time": "2021-08-14T17:53:18.276253",
     "exception": false,
     "start_time": "2021-08-14T17:53:18.230066",
     "status": "completed"
    },
    "tags": []
   },
   "source": [
    "Next, you'll experiment with one-hot encoding.  But, instead of encoding all of the categorical variables in the dataset, you'll only create a one-hot encoding for columns with cardinality less than 10.\n",
    "\n",
    "Run the code cell below without changes to set `low_cardinality_cols` to a Python list containing the columns that will be one-hot encoded.  Likewise, `high_cardinality_cols` contains a list of categorical columns that will be dropped from the dataset."
   ]
  },
  {
   "cell_type": "code",
   "execution_count": 20,
   "id": "7eb9f9ee",
   "metadata": {
    "execution": {
     "iopub.execute_input": "2021-08-14T17:53:18.372359Z",
     "iopub.status.busy": "2021-08-14T17:53:18.371742Z",
     "iopub.status.idle": "2021-08-14T17:53:18.390901Z",
     "shell.execute_reply": "2021-08-14T17:53:18.391382Z",
     "shell.execute_reply.started": "2021-08-14T17:49:13.729618Z"
    },
    "papermill": {
     "duration": 0.068781,
     "end_time": "2021-08-14T17:53:18.391582",
     "exception": false,
     "start_time": "2021-08-14T17:53:18.322801",
     "status": "completed"
    },
    "tags": []
   },
   "outputs": [
    {
     "name": "stdout",
     "output_type": "stream",
     "text": [
      "Categorical columns that will be one-hot encoded: ['MSZoning', 'Street', 'LotShape', 'LandContour', 'Utilities', 'LotConfig', 'LandSlope', 'Condition1', 'Condition2', 'BldgType', 'HouseStyle', 'RoofStyle', 'RoofMatl', 'ExterQual', 'ExterCond', 'Foundation', 'Heating', 'HeatingQC', 'CentralAir', 'KitchenQual', 'Functional', 'PavedDrive', 'SaleType', 'SaleCondition']\n",
      "\n",
      "Categorical columns that will be dropped from the dataset: ['Neighborhood', 'Exterior1st', 'Exterior2nd']\n"
     ]
    }
   ],
   "source": [
    "# Columns that will be one-hot encoded\n",
    "low_cardinality_cols = [col for col in object_cols if X_train[col].nunique() < 10]\n",
    "\n",
    "# Columns that will be dropped from the dataset\n",
    "high_cardinality_cols = list(set(object_cols)-set(low_cardinality_cols))\n",
    "\n",
    "print('Categorical columns that will be one-hot encoded:', low_cardinality_cols)\n",
    "print('\\nCategorical columns that will be dropped from the dataset:', high_cardinality_cols)"
   ]
  },
  {
   "cell_type": "markdown",
   "id": "37e82d96",
   "metadata": {
    "papermill": {
     "duration": 0.046421,
     "end_time": "2021-08-14T17:53:18.484895",
     "exception": false,
     "start_time": "2021-08-14T17:53:18.438474",
     "status": "completed"
    },
    "tags": []
   },
   "source": [
    "# Step 4: One-hot encoding\n",
    "\n",
    "Use the next code cell to one-hot encode the data in `X_train` and `X_valid`.  Set the preprocessed DataFrames to `OH_X_train` and `OH_X_valid`, respectively.  \n",
    "- The full list of categorical columns in the dataset can be found in the Python list `object_cols`.\n",
    "- You should only one-hot encode the categorical columns in `low_cardinality_cols`.  All other categorical columns should be dropped from the dataset. "
   ]
  },
  {
   "cell_type": "code",
   "execution_count": 21,
   "id": "fe6a6682",
   "metadata": {
    "execution": {
     "iopub.execute_input": "2021-08-14T17:53:18.600015Z",
     "iopub.status.busy": "2021-08-14T17:53:18.597990Z",
     "iopub.status.idle": "2021-08-14T17:53:18.631711Z",
     "shell.execute_reply": "2021-08-14T17:53:18.631138Z",
     "shell.execute_reply.started": "2021-08-14T17:52:07.659721Z"
    },
    "papermill": {
     "duration": 0.100072,
     "end_time": "2021-08-14T17:53:18.631853",
     "exception": false,
     "start_time": "2021-08-14T17:53:18.531781",
     "status": "completed"
    },
    "tags": []
   },
   "outputs": [
    {
     "data": {
      "application/javascript": [
       "parent.postMessage({\"jupyterEvent\": \"custom.exercise_interaction\", \"data\": {\"outcomeType\": 1, \"valueTowardsCompletion\": 0.5, \"interactionType\": 1, \"questionType\": 2, \"questionId\": \"4_OneHot\", \"learnToolsVersion\": \"0.3.4\", \"failureMessage\": \"\", \"exceptionClass\": \"\", \"trace\": \"\"}}, \"*\")"
      ],
      "text/plain": [
       "<IPython.core.display.Javascript object>"
      ]
     },
     "metadata": {},
     "output_type": "display_data"
    },
    {
     "data": {
      "text/markdown": [
       "<span style=\"color:#33cc33\">Correct</span>"
      ],
      "text/plain": [
       "Correct"
      ]
     },
     "metadata": {},
     "output_type": "display_data"
    }
   ],
   "source": [
    "from sklearn.preprocessing import OneHotEncoder\n",
    "\n",
    "# Use as many lines of code as you need!\n",
    "\n",
    "\n",
    "OH_encoder = OneHotEncoder(handle_unknown='ignore', sparse=False)\n",
    "OH_cols_train = pd.DataFrame(OH_encoder.fit_transform(X_train[low_cardinality_cols]))\n",
    "OH_cols_valid = pd.DataFrame(OH_encoder.transform(X_valid[low_cardinality_cols]))\n",
    "\n",
    "# One-hot encoding removed index; put it back\n",
    "OH_cols_train.index = X_train.index\n",
    "OH_cols_valid.index = X_valid.index\n",
    "\n",
    "# Remove categorical columns (will replace with one-hot encoding)\n",
    "num_X_train = X_train.drop(object_cols, axis=1)\n",
    "num_X_valid = X_valid.drop(object_cols, axis=1)\n",
    "\n",
    "# Add one-hot encoded columns to numerical features\n",
    "OH_X_train = pd.concat([num_X_train, OH_cols_train], axis=1)\n",
    "OH_X_valid = pd.concat([num_X_valid, OH_cols_valid], axis=1)\n",
    "# Check your answer\n",
    "step_4.check()"
   ]
  },
  {
   "cell_type": "code",
   "execution_count": 22,
   "id": "e4785633",
   "metadata": {
    "execution": {
     "iopub.execute_input": "2021-08-14T17:53:18.733767Z",
     "iopub.status.busy": "2021-08-14T17:53:18.733046Z",
     "iopub.status.idle": "2021-08-14T17:53:18.742882Z",
     "shell.execute_reply": "2021-08-14T17:53:18.742268Z",
     "shell.execute_reply.started": "2021-08-14T17:50:43.519234Z"
    },
    "papermill": {
     "duration": 0.062496,
     "end_time": "2021-08-14T17:53:18.743019",
     "exception": false,
     "start_time": "2021-08-14T17:53:18.680523",
     "status": "completed"
    },
    "tags": []
   },
   "outputs": [
    {
     "data": {
      "application/javascript": [
       "parent.postMessage({\"jupyterEvent\": \"custom.exercise_interaction\", \"data\": {\"interactionType\": 2, \"questionType\": 2, \"questionId\": \"4_OneHot\", \"learnToolsVersion\": \"0.3.4\", \"valueTowardsCompletion\": 0.0, \"failureMessage\": \"\", \"exceptionClass\": \"\", \"trace\": \"\", \"outcomeType\": 4}}, \"*\")"
      ],
      "text/plain": [
       "<IPython.core.display.Javascript object>"
      ]
     },
     "metadata": {},
     "output_type": "display_data"
    },
    {
     "data": {
      "text/markdown": [
       "<span style=\"color:#3366cc\">Hint:</span> Begin by applying the one-hot encoder to the low cardinality columns in the training and validation data in `X_train[low_cardinality_cols]` and `X_valid[low_cardinality_cols]`, respectively."
      ],
      "text/plain": [
       "Hint: Begin by applying the one-hot encoder to the low cardinality columns in the training and validation data in `X_train[low_cardinality_cols]` and `X_valid[low_cardinality_cols]`, respectively."
      ]
     },
     "metadata": {},
     "output_type": "display_data"
    },
    {
     "data": {
      "application/javascript": [
       "parent.postMessage({\"jupyterEvent\": \"custom.exercise_interaction\", \"data\": {\"interactionType\": 3, \"questionType\": 2, \"questionId\": \"4_OneHot\", \"learnToolsVersion\": \"0.3.4\", \"valueTowardsCompletion\": 0.0, \"failureMessage\": \"\", \"exceptionClass\": \"\", \"trace\": \"\", \"outcomeType\": 4}}, \"*\")"
      ],
      "text/plain": [
       "<IPython.core.display.Javascript object>"
      ]
     },
     "metadata": {},
     "output_type": "display_data"
    },
    {
     "data": {
      "text/markdown": [
       "<span style=\"color:#33cc99\">Solution:</span> \n",
       "```python\n",
       "# Apply one-hot encoder to each column with categorical data\n",
       "OH_encoder = OneHotEncoder(handle_unknown='ignore', sparse=False)\n",
       "OH_cols_train = pd.DataFrame(OH_encoder.fit_transform(X_train[low_cardinality_cols]))\n",
       "OH_cols_valid = pd.DataFrame(OH_encoder.transform(X_valid[low_cardinality_cols]))\n",
       "\n",
       "# One-hot encoding removed index; put it back\n",
       "OH_cols_train.index = X_train.index\n",
       "OH_cols_valid.index = X_valid.index\n",
       "\n",
       "# Remove categorical columns (will replace with one-hot encoding)\n",
       "num_X_train = X_train.drop(object_cols, axis=1)\n",
       "num_X_valid = X_valid.drop(object_cols, axis=1)\n",
       "\n",
       "# Add one-hot encoded columns to numerical features\n",
       "OH_X_train = pd.concat([num_X_train, OH_cols_train], axis=1)\n",
       "OH_X_valid = pd.concat([num_X_valid, OH_cols_valid], axis=1)\n",
       "\n",
       "\n",
       "```"
      ],
      "text/plain": [
       "Solution: \n",
       "```python\n",
       "# Apply one-hot encoder to each column with categorical data\n",
       "OH_encoder = OneHotEncoder(handle_unknown='ignore', sparse=False)\n",
       "OH_cols_train = pd.DataFrame(OH_encoder.fit_transform(X_train[low_cardinality_cols]))\n",
       "OH_cols_valid = pd.DataFrame(OH_encoder.transform(X_valid[low_cardinality_cols]))\n",
       "\n",
       "# One-hot encoding removed index; put it back\n",
       "OH_cols_train.index = X_train.index\n",
       "OH_cols_valid.index = X_valid.index\n",
       "\n",
       "# Remove categorical columns (will replace with one-hot encoding)\n",
       "num_X_train = X_train.drop(object_cols, axis=1)\n",
       "num_X_valid = X_valid.drop(object_cols, axis=1)\n",
       "\n",
       "# Add one-hot encoded columns to numerical features\n",
       "OH_X_train = pd.concat([num_X_train, OH_cols_train], axis=1)\n",
       "OH_X_valid = pd.concat([num_X_valid, OH_cols_valid], axis=1)\n",
       "\n",
       "\n",
       "```"
      ]
     },
     "metadata": {},
     "output_type": "display_data"
    }
   ],
   "source": [
    "# Lines below will give you a hint or solution code\n",
    "step_4.hint()\n",
    "step_4.solution()"
   ]
  },
  {
   "cell_type": "markdown",
   "id": "d0578311",
   "metadata": {
    "papermill": {
     "duration": 0.051019,
     "end_time": "2021-08-14T17:53:18.844063",
     "exception": false,
     "start_time": "2021-08-14T17:53:18.793044",
     "status": "completed"
    },
    "tags": []
   },
   "source": [
    "Run the next code cell to get the MAE for this approach."
   ]
  },
  {
   "cell_type": "code",
   "execution_count": 23,
   "id": "af109a9e",
   "metadata": {
    "execution": {
     "iopub.execute_input": "2021-08-14T17:53:18.953855Z",
     "iopub.status.busy": "2021-08-14T17:53:18.953038Z",
     "iopub.status.idle": "2021-08-14T17:53:20.932977Z",
     "shell.execute_reply": "2021-08-14T17:53:20.932260Z",
     "shell.execute_reply.started": "2021-08-14T17:52:12.623055Z"
    },
    "papermill": {
     "duration": 2.038601,
     "end_time": "2021-08-14T17:53:20.933127",
     "exception": false,
     "start_time": "2021-08-14T17:53:18.894526",
     "status": "completed"
    },
    "tags": []
   },
   "outputs": [
    {
     "name": "stdout",
     "output_type": "stream",
     "text": [
      "MAE from Approach 3 (One-Hot Encoding):\n",
      "17525.345719178084\n"
     ]
    }
   ],
   "source": [
    "print(\"MAE from Approach 3 (One-Hot Encoding):\") \n",
    "print(score_dataset(OH_X_train, OH_X_valid, y_train, y_valid))"
   ]
  },
  {
   "cell_type": "markdown",
   "id": "258697d2",
   "metadata": {
    "papermill": {
     "duration": 0.050616,
     "end_time": "2021-08-14T17:53:21.034693",
     "exception": false,
     "start_time": "2021-08-14T17:53:20.984077",
     "status": "completed"
    },
    "tags": []
   },
   "source": [
    "# Generate test predictions and submit your results\n",
    "\n",
    "After you complete Step 4, if you'd like to use what you've learned to submit your results to the leaderboard, you'll need to preprocess the test data before generating predictions.\n",
    "\n",
    "**This step is completely optional, and you do not need to submit results to the leaderboard to successfully complete the exercise.**\n",
    "\n",
    "Check out the previous exercise if you need help with remembering how to [join the competition](https://www.kaggle.com/c/home-data-for-ml-course) or save your results to CSV.  Once you have generated a file with your results, follow the instructions below:\n",
    "1. Begin by clicking on the **Save Version** button in the top right corner of the window.  This will generate a pop-up window.  \n",
    "2. Ensure that the **Save and Run All** option is selected, and then click on the **Save** button.\n",
    "3. This generates a window in the bottom left corner of the notebook.  After it has finished running, click on the number to the right of the **Save Version** button.  This pulls up a list of versions on the right of the screen.  Click on the ellipsis **(...)** to the right of the most recent version, and select **Open in Viewer**.  This brings you into view mode of the same page. You will need to scroll down to get back to these instructions.\n",
    "4. Click on the **Output** tab on the right of the screen.  Then, click on the file you would like to submit, and click on the blue **Submit** button to submit your results to the leaderboard.\n",
    "\n",
    "You have now successfully submitted to the competition!\n",
    "\n",
    "If you want to keep working to improve your performance, select the **Edit** button in the top right of the screen. Then you can change your code and repeat the process. There's a lot of room to improve, and you will climb up the leaderboard as you work.\n"
   ]
  },
  {
   "cell_type": "code",
   "execution_count": 24,
   "id": "02d41c08",
   "metadata": {
    "execution": {
     "iopub.execute_input": "2021-08-14T17:53:21.141215Z",
     "iopub.status.busy": "2021-08-14T17:53:21.140357Z",
     "iopub.status.idle": "2021-08-14T17:53:21.143411Z",
     "shell.execute_reply": "2021-08-14T17:53:21.142786Z"
    },
    "papermill": {
     "duration": 0.057707,
     "end_time": "2021-08-14T17:53:21.143567",
     "exception": false,
     "start_time": "2021-08-14T17:53:21.085860",
     "status": "completed"
    },
    "tags": []
   },
   "outputs": [],
   "source": [
    "# (Optional) Your code here"
   ]
  },
  {
   "cell_type": "markdown",
   "id": "7f7293a8",
   "metadata": {
    "papermill": {
     "duration": 0.051422,
     "end_time": "2021-08-14T17:53:21.245487",
     "exception": false,
     "start_time": "2021-08-14T17:53:21.194065",
     "status": "completed"
    },
    "tags": []
   },
   "source": [
    "# Keep going\n",
    "\n",
    "With missing value handling and categorical encoding, your modeling process is getting complex. This complexity gets worse when you want to save your model to use in the future. The key to managing this complexity is something called **pipelines**. \n",
    "\n",
    "**[Learn to use pipelines](https://www.kaggle.com/alexisbcook/pipelines)** to preprocess datasets with categorical variables, missing values and any other messiness your data throws at you."
   ]
  },
  {
   "cell_type": "markdown",
   "id": "a4e2d164",
   "metadata": {
    "papermill": {
     "duration": 0.050108,
     "end_time": "2021-08-14T17:53:21.346230",
     "exception": false,
     "start_time": "2021-08-14T17:53:21.296122",
     "status": "completed"
    },
    "tags": []
   },
   "source": [
    "---\n",
    "\n",
    "\n",
    "\n",
    "\n",
    "*Have questions or comments? Visit the [Learn Discussion forum](https://www.kaggle.com/learn-forum/161289) to chat with other Learners.*"
   ]
  }
 ],
 "metadata": {
  "kernelspec": {
   "display_name": "Python 3",
   "language": "python",
   "name": "python3"
  },
  "language_info": {
   "codemirror_mode": {
    "name": "ipython",
    "version": 3
   },
   "file_extension": ".py",
   "mimetype": "text/x-python",
   "name": "python",
   "nbconvert_exporter": "python",
   "pygments_lexer": "ipython3",
   "version": "3.7.10"
  },
  "papermill": {
   "default_parameters": {},
   "duration": 19.901819,
   "end_time": "2021-08-14T17:53:22.207805",
   "environment_variables": {},
   "exception": null,
   "input_path": "__notebook__.ipynb",
   "output_path": "__notebook__.ipynb",
   "parameters": {},
   "start_time": "2021-08-14T17:53:02.305986",
   "version": "2.3.3"
  }
 },
 "nbformat": 4,
 "nbformat_minor": 5
}
