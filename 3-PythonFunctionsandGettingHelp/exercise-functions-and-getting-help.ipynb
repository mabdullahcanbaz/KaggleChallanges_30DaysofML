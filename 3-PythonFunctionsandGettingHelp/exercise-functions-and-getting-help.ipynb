{
 "cells": [
  {
   "cell_type": "markdown",
   "id": "f0f9c69c",
   "metadata": {
    "papermill": {
     "duration": 0.015864,
     "end_time": "2021-08-05T01:14:31.967416",
     "exception": false,
     "start_time": "2021-08-05T01:14:31.951552",
     "status": "completed"
    },
    "tags": []
   },
   "source": [
    "**This notebook is an exercise in the [Python](https://www.kaggle.com/learn/python) course.  You can reference the tutorial at [this link](https://www.kaggle.com/colinmorris/functions-and-getting-help).**\n",
    "\n",
    "---\n"
   ]
  },
  {
   "cell_type": "markdown",
   "id": "1c045ed4",
   "metadata": {
    "papermill": {
     "duration": 0.014479,
     "end_time": "2021-08-05T01:14:31.996595",
     "exception": false,
     "start_time": "2021-08-05T01:14:31.982116",
     "status": "completed"
    },
    "tags": []
   },
   "source": [
    "Functions are powerful. Try writing some yourself.\n",
    "\n",
    "As before, don't forget to run the setup code below before jumping into question 1."
   ]
  },
  {
   "cell_type": "code",
   "execution_count": 1,
   "id": "4bcda740",
   "metadata": {
    "_kg_hide-input": true,
    "_kg_hide-output": true,
    "execution": {
     "iopub.execute_input": "2021-08-05T01:14:32.030142Z",
     "iopub.status.busy": "2021-08-05T01:14:32.028983Z",
     "iopub.status.idle": "2021-08-05T01:14:32.175330Z",
     "shell.execute_reply": "2021-08-05T01:14:32.174514Z",
     "shell.execute_reply.started": "2021-08-05T01:06:15.355276Z"
    },
    "papermill": {
     "duration": 0.164601,
     "end_time": "2021-08-05T01:14:32.175494",
     "exception": false,
     "start_time": "2021-08-05T01:14:32.010893",
     "status": "completed"
    },
    "tags": []
   },
   "outputs": [
    {
     "name": "stdout",
     "output_type": "stream",
     "text": [
      "Setup complete.\n"
     ]
    }
   ],
   "source": [
    "# SETUP. You don't need to worry for now about what this code does or how it works.\n",
    "from learntools.core import binder; binder.bind(globals())\n",
    "from learntools.python.ex2 import *\n",
    "print('Setup complete.')"
   ]
  },
  {
   "cell_type": "markdown",
   "id": "77592c10",
   "metadata": {
    "papermill": {
     "duration": 0.014191,
     "end_time": "2021-08-05T01:14:32.204645",
     "exception": false,
     "start_time": "2021-08-05T01:14:32.190454",
     "status": "completed"
    },
    "tags": []
   },
   "source": [
    "# 1.\n",
    "\n",
    "Complete the body of the following function according to its docstring.\n",
    "\n",
    "HINT: Python has a built-in function `round`."
   ]
  },
  {
   "cell_type": "code",
   "execution_count": 2,
   "id": "6eec8891",
   "metadata": {
    "execution": {
     "iopub.execute_input": "2021-08-05T01:14:32.242140Z",
     "iopub.status.busy": "2021-08-05T01:14:32.238803Z",
     "iopub.status.idle": "2021-08-05T01:14:32.247272Z",
     "shell.execute_reply": "2021-08-05T01:14:32.247886Z",
     "shell.execute_reply.started": "2021-08-05T01:07:49.278108Z"
    },
    "papermill": {
     "duration": 0.028954,
     "end_time": "2021-08-05T01:14:32.248088",
     "exception": false,
     "start_time": "2021-08-05T01:14:32.219134",
     "status": "completed"
    },
    "tags": []
   },
   "outputs": [
    {
     "data": {
      "application/javascript": [
       "parent.postMessage({\"jupyterEvent\": \"custom.exercise_interaction\", \"data\": {\"outcomeType\": 1, \"valueTowardsCompletion\": 0.16666666666666666, \"interactionType\": 1, \"questionType\": 2, \"questionId\": \"1_RoundFunctionProblem\", \"learnToolsVersion\": \"0.3.4\", \"failureMessage\": \"\", \"exceptionClass\": \"\", \"trace\": \"\"}}, \"*\")"
      ],
      "text/plain": [
       "<IPython.core.display.Javascript object>"
      ]
     },
     "metadata": {},
     "output_type": "display_data"
    },
    {
     "data": {
      "text/markdown": [
       "<span style=\"color:#33cc33\">Correct</span>"
      ],
      "text/plain": [
       "Correct"
      ]
     },
     "metadata": {},
     "output_type": "display_data"
    }
   ],
   "source": [
    "def round_to_two_places(num):\n",
    "    \"\"\"Return the given number rounded to two decimal places. \n",
    "    \n",
    "    >>> round_to_two_places(3.14159)\n",
    "    3.14\n",
    "    \"\"\"\n",
    "    return round(num,2)\n",
    "\n",
    "# Check your answer\n",
    "q1.check()"
   ]
  },
  {
   "cell_type": "code",
   "execution_count": 3,
   "id": "73c48b0a",
   "metadata": {
    "execution": {
     "iopub.execute_input": "2021-08-05T01:14:32.283211Z",
     "iopub.status.busy": "2021-08-05T01:14:32.282511Z",
     "iopub.status.idle": "2021-08-05T01:14:32.293359Z",
     "shell.execute_reply": "2021-08-05T01:14:32.292819Z",
     "shell.execute_reply.started": "2021-08-05T01:08:02.194739Z"
    },
    "papermill": {
     "duration": 0.029668,
     "end_time": "2021-08-05T01:14:32.293505",
     "exception": false,
     "start_time": "2021-08-05T01:14:32.263837",
     "status": "completed"
    },
    "tags": []
   },
   "outputs": [
    {
     "data": {
      "application/javascript": [
       "parent.postMessage({\"jupyterEvent\": \"custom.exercise_interaction\", \"data\": {\"interactionType\": 2, \"questionType\": 2, \"questionId\": \"1_RoundFunctionProblem\", \"learnToolsVersion\": \"0.3.4\", \"valueTowardsCompletion\": 0.0, \"failureMessage\": \"\", \"exceptionClass\": \"\", \"trace\": \"\", \"outcomeType\": 4}}, \"*\")"
      ],
      "text/plain": [
       "<IPython.core.display.Javascript object>"
      ]
     },
     "metadata": {},
     "output_type": "display_data"
    },
    {
     "data": {
      "text/markdown": [
       "<span style=\"color:#3366cc\">Hint:</span> Run `help(round)` in the console (or in a code cell) to learn more about the round function. You'll need to use the function's optional second argument."
      ],
      "text/plain": [
       "Hint: Run `help(round)` in the console (or in a code cell) to learn more about the round function. You'll need to use the function's optional second argument."
      ]
     },
     "metadata": {},
     "output_type": "display_data"
    },
    {
     "data": {
      "application/javascript": [
       "parent.postMessage({\"jupyterEvent\": \"custom.exercise_interaction\", \"data\": {\"interactionType\": 3, \"questionType\": 2, \"questionId\": \"1_RoundFunctionProblem\", \"learnToolsVersion\": \"0.3.4\", \"valueTowardsCompletion\": 0.0, \"failureMessage\": \"\", \"exceptionClass\": \"\", \"trace\": \"\", \"outcomeType\": 4}}, \"*\")"
      ],
      "text/plain": [
       "<IPython.core.display.Javascript object>"
      ]
     },
     "metadata": {},
     "output_type": "display_data"
    },
    {
     "data": {
      "text/markdown": [
       "<span style=\"color:#33cc99\">Solution:</span> \n",
       "```python\n",
       "return round(num, 2)\n",
       "```"
      ],
      "text/plain": [
       "Solution: \n",
       "```python\n",
       "return round(num, 2)\n",
       "```"
      ]
     },
     "metadata": {},
     "output_type": "display_data"
    }
   ],
   "source": [
    "# Uncomment the following for a hint\n",
    "q1.hint()\n",
    "# Or uncomment the following to peek at the solution\n",
    "q1.solution()"
   ]
  },
  {
   "cell_type": "markdown",
   "id": "a0b66bf7",
   "metadata": {
    "papermill": {
     "duration": 0.017523,
     "end_time": "2021-08-05T01:14:32.328730",
     "exception": false,
     "start_time": "2021-08-05T01:14:32.311207",
     "status": "completed"
    },
    "tags": []
   },
   "source": [
    "# 2.\n",
    "The help for `round` says that `ndigits` (the second argument) may be negative.\n",
    "What do you think will happen when it is? Try some examples in the following cell."
   ]
  },
  {
   "cell_type": "code",
   "execution_count": 4,
   "id": "eac17a76",
   "metadata": {
    "execution": {
     "iopub.execute_input": "2021-08-05T01:14:32.370895Z",
     "iopub.status.busy": "2021-08-05T01:14:32.369867Z",
     "iopub.status.idle": "2021-08-05T01:14:32.374536Z",
     "shell.execute_reply": "2021-08-05T01:14:32.373867Z",
     "shell.execute_reply.started": "2021-08-05T01:09:46.239516Z"
    },
    "papermill": {
     "duration": 0.028195,
     "end_time": "2021-08-05T01:14:32.374681",
     "exception": false,
     "start_time": "2021-08-05T01:14:32.346486",
     "status": "completed"
    },
    "tags": []
   },
   "outputs": [
    {
     "data": {
      "text/plain": [
       "200"
      ]
     },
     "execution_count": 4,
     "metadata": {},
     "output_type": "execute_result"
    }
   ],
   "source": [
    "round(183,-2)"
   ]
  },
  {
   "cell_type": "markdown",
   "id": "66bda476",
   "metadata": {
    "papermill": {
     "duration": 0.017527,
     "end_time": "2021-08-05T01:14:32.410142",
     "exception": false,
     "start_time": "2021-08-05T01:14:32.392615",
     "status": "completed"
    },
    "tags": []
   },
   "source": [
    "Can you think of a case where this would be useful?  Once you're ready, run the code cell below to see the answer and to receive credit for completing the problem."
   ]
  },
  {
   "cell_type": "code",
   "execution_count": 5,
   "id": "95f4bfac",
   "metadata": {
    "execution": {
     "iopub.execute_input": "2021-08-05T01:14:32.451644Z",
     "iopub.status.busy": "2021-08-05T01:14:32.450786Z",
     "iopub.status.idle": "2021-08-05T01:14:32.456576Z",
     "shell.execute_reply": "2021-08-05T01:14:32.457119Z",
     "shell.execute_reply.started": "2021-08-05T01:08:56.669456Z"
    },
    "papermill": {
     "duration": 0.029245,
     "end_time": "2021-08-05T01:14:32.457297",
     "exception": false,
     "start_time": "2021-08-05T01:14:32.428052",
     "status": "completed"
    },
    "tags": []
   },
   "outputs": [
    {
     "data": {
      "application/javascript": [
       "parent.postMessage({\"jupyterEvent\": \"custom.exercise_interaction\", \"data\": {\"interactionType\": 3, \"questionType\": 4, \"questionId\": \"2_RoundNdigitsProblem\", \"learnToolsVersion\": \"0.3.4\", \"valueTowardsCompletion\": 0.0, \"failureMessage\": \"\", \"exceptionClass\": \"\", \"trace\": \"\", \"outcomeType\": 4}}, \"*\")"
      ],
      "text/plain": [
       "<IPython.core.display.Javascript object>"
      ]
     },
     "metadata": {},
     "output_type": "display_data"
    },
    {
     "data": {
      "text/markdown": [
       "<span style=\"color:#33cc99\">Solution:</span> As you've seen, `ndigits=-1` rounds to the nearest 10, `ndigits=-2` rounds to the nearest 100 and so on. Where might this be useful? Suppose we're dealing with large numbers:\n",
       "\n",
       "> The area of Finland is 338,424 km²  \n",
       "> The area of Greenland is 2,166,086 km²\n",
       "\n",
       "We probably don't care whether it's really 338,424, or 338,425, or 338,177. All those digits of accuracy are just distracting. We can chop them off by calling `round()` with `ndigits=-3`:\n",
       "\n",
       "> The area of Finland is 338,000 km²  \n",
       "> The area of Greenland is 2,166,000 km²\n",
       "\n",
       "(We'll talk about how we would get the commas later when we talk about string formatting :))\n"
      ],
      "text/plain": [
       "Solution: As you've seen, `ndigits=-1` rounds to the nearest 10, `ndigits=-2` rounds to the nearest 100 and so on. Where might this be useful? Suppose we're dealing with large numbers:\n",
       "\n",
       "> The area of Finland is 338,424 km²  \n",
       "> The area of Greenland is 2,166,086 km²\n",
       "\n",
       "We probably don't care whether it's really 338,424, or 338,425, or 338,177. All those digits of accuracy are just distracting. We can chop them off by calling `round()` with `ndigits=-3`:\n",
       "\n",
       "> The area of Finland is 338,000 km²  \n",
       "> The area of Greenland is 2,166,000 km²\n",
       "\n",
       "(We'll talk about how we would get the commas later when we talk about string formatting :))"
      ]
     },
     "metadata": {},
     "output_type": "display_data"
    }
   ],
   "source": [
    "# Check your answer (Run this code cell to receive credit!)\n",
    "q2.solution()"
   ]
  },
  {
   "cell_type": "markdown",
   "id": "615e1ed5",
   "metadata": {
    "papermill": {
     "duration": 0.018591,
     "end_time": "2021-08-05T01:14:32.495140",
     "exception": false,
     "start_time": "2021-08-05T01:14:32.476549",
     "status": "completed"
    },
    "tags": []
   },
   "source": [
    "# 3.\n",
    "\n",
    "In the previous exercise, the candy-sharing friends Alice, Bob and Carol tried to split candies evenly. For the sake of their friendship, any candies left over would be smashed. For example, if they collectively bring home 91 candies, they'll take 30 each and smash 1.\n",
    "\n",
    "Below is a simple function that will calculate the number of candies to smash for *any* number of total candies.\n",
    "\n",
    "Modify it so that it optionally takes a second argument representing the number of friends the candies are being split between. If no second argument is provided, it should assume 3 friends, as before.\n",
    "\n",
    "Update the docstring to reflect this new behaviour."
   ]
  },
  {
   "cell_type": "code",
   "execution_count": 6,
   "id": "682d1aaa",
   "metadata": {
    "execution": {
     "iopub.execute_input": "2021-08-05T01:14:32.536300Z",
     "iopub.status.busy": "2021-08-05T01:14:32.535588Z",
     "iopub.status.idle": "2021-08-05T01:14:32.542667Z",
     "shell.execute_reply": "2021-08-05T01:14:32.543261Z",
     "shell.execute_reply.started": "2021-08-05T01:11:16.451182Z"
    },
    "papermill": {
     "duration": 0.029501,
     "end_time": "2021-08-05T01:14:32.543429",
     "exception": false,
     "start_time": "2021-08-05T01:14:32.513928",
     "status": "completed"
    },
    "tags": []
   },
   "outputs": [
    {
     "data": {
      "application/javascript": [
       "parent.postMessage({\"jupyterEvent\": \"custom.exercise_interaction\", \"data\": {\"outcomeType\": 1, \"valueTowardsCompletion\": 0.16666666666666666, \"interactionType\": 1, \"questionType\": 2, \"questionId\": \"3_CandySmashingFunctionProblem\", \"learnToolsVersion\": \"0.3.4\", \"failureMessage\": \"\", \"exceptionClass\": \"\", \"trace\": \"\"}}, \"*\")"
      ],
      "text/plain": [
       "<IPython.core.display.Javascript object>"
      ]
     },
     "metadata": {},
     "output_type": "display_data"
    },
    {
     "data": {
      "text/markdown": [
       "<span style=\"color:#33cc33\">Correct</span>"
      ],
      "text/plain": [
       "Correct"
      ]
     },
     "metadata": {},
     "output_type": "display_data"
    }
   ],
   "source": [
    "def to_smash(total_candies,numberoffriends=3):\n",
    "    \"\"\"Return the number of leftover candies that must be smashed after distributing\n",
    "    the given number of candies evenly between 3 friends.\n",
    "    \n",
    "    >>> to_smash(91)\n",
    "    1\n",
    "    \"\"\"\n",
    "    return total_candies % numberoffriends\n",
    "\n",
    "# Check your answer\n",
    "q3.check()"
   ]
  },
  {
   "cell_type": "code",
   "execution_count": 7,
   "id": "95e20ade",
   "metadata": {
    "execution": {
     "iopub.execute_input": "2021-08-05T01:14:32.586420Z",
     "iopub.status.busy": "2021-08-05T01:14:32.585800Z",
     "iopub.status.idle": "2021-08-05T01:14:32.592427Z",
     "shell.execute_reply": "2021-08-05T01:14:32.593002Z",
     "shell.execute_reply.started": "2021-08-05T01:11:20.997793Z"
    },
    "papermill": {
     "duration": 0.029828,
     "end_time": "2021-08-05T01:14:32.593169",
     "exception": false,
     "start_time": "2021-08-05T01:14:32.563341",
     "status": "completed"
    },
    "tags": []
   },
   "outputs": [
    {
     "data": {
      "application/javascript": [
       "parent.postMessage({\"jupyterEvent\": \"custom.exercise_interaction\", \"data\": {\"interactionType\": 2, \"questionType\": 2, \"questionId\": \"3_CandySmashingFunctionProblem\", \"learnToolsVersion\": \"0.3.4\", \"valueTowardsCompletion\": 0.0, \"failureMessage\": \"\", \"exceptionClass\": \"\", \"trace\": \"\", \"outcomeType\": 4}}, \"*\")"
      ],
      "text/plain": [
       "<IPython.core.display.Javascript object>"
      ]
     },
     "metadata": {},
     "output_type": "display_data"
    },
    {
     "data": {
      "text/markdown": [
       "<span style=\"color:#3366cc\">Hint:</span> Refer to the section of the last tutorial notebook where we talked about default arguments"
      ],
      "text/plain": [
       "Hint: Refer to the section of the last tutorial notebook where we talked about default arguments"
      ]
     },
     "metadata": {},
     "output_type": "display_data"
    }
   ],
   "source": [
    "q3.hint()"
   ]
  },
  {
   "cell_type": "code",
   "execution_count": 8,
   "id": "43dfda24",
   "metadata": {
    "execution": {
     "iopub.execute_input": "2021-08-05T01:14:32.638581Z",
     "iopub.status.busy": "2021-08-05T01:14:32.637976Z",
     "iopub.status.idle": "2021-08-05T01:14:32.645331Z",
     "shell.execute_reply": "2021-08-05T01:14:32.644751Z",
     "shell.execute_reply.started": "2021-08-05T01:11:25.444592Z"
    },
    "papermill": {
     "duration": 0.03122,
     "end_time": "2021-08-05T01:14:32.645470",
     "exception": false,
     "start_time": "2021-08-05T01:14:32.614250",
     "status": "completed"
    },
    "tags": []
   },
   "outputs": [
    {
     "data": {
      "application/javascript": [
       "parent.postMessage({\"jupyterEvent\": \"custom.exercise_interaction\", \"data\": {\"interactionType\": 3, \"questionType\": 2, \"questionId\": \"3_CandySmashingFunctionProblem\", \"learnToolsVersion\": \"0.3.4\", \"valueTowardsCompletion\": 0.0, \"failureMessage\": \"\", \"exceptionClass\": \"\", \"trace\": \"\", \"outcomeType\": 4}}, \"*\")"
      ],
      "text/plain": [
       "<IPython.core.display.Javascript object>"
      ]
     },
     "metadata": {},
     "output_type": "display_data"
    },
    {
     "data": {
      "text/markdown": [
       "<span style=\"color:#33cc99\">Solution:</span> \n",
       "```python\n",
       "def to_smash(total_candies, n_friends=3):\n",
       "    return total_candies % n_friends\n",
       "```"
      ],
      "text/plain": [
       "Solution: \n",
       "```python\n",
       "def to_smash(total_candies, n_friends=3):\n",
       "    return total_candies % n_friends\n",
       "```"
      ]
     },
     "metadata": {},
     "output_type": "display_data"
    }
   ],
   "source": [
    "q3.solution()"
   ]
  },
  {
   "cell_type": "markdown",
   "id": "7e5d3c99",
   "metadata": {
    "papermill": {
     "duration": 0.021769,
     "end_time": "2021-08-05T01:14:32.689371",
     "exception": false,
     "start_time": "2021-08-05T01:14:32.667602",
     "status": "completed"
    },
    "tags": []
   },
   "source": [
    "# 4. (Optional)\n",
    "\n",
    "It may not be fun, but reading and understanding error messages will be an important part of your Python career.\n",
    "\n",
    "Each code cell below contains some commented buggy code. For each cell...\n",
    "\n",
    "1. Read the code and predict what you think will happen when it's run.\n",
    "2. Then uncomment the code and run it to see what happens. (**Tip**: In the kernel editor, you can highlight several lines and press `ctrl`+`/` to toggle commenting.)\n",
    "3. Fix the code (so that it accomplishes its intended purpose without throwing an exception)\n",
    "\n",
    "<!-- TODO: should this be autochecked? Delta is probably pretty small. -->"
   ]
  },
  {
   "cell_type": "code",
   "execution_count": 9,
   "id": "faa7f097",
   "metadata": {
    "execution": {
     "iopub.execute_input": "2021-08-05T01:14:32.739461Z",
     "iopub.status.busy": "2021-08-05T01:14:32.738720Z",
     "iopub.status.idle": "2021-08-05T01:14:32.741577Z",
     "shell.execute_reply": "2021-08-05T01:14:32.742107Z",
     "shell.execute_reply.started": "2021-08-05T01:12:25.236802Z"
    },
    "papermill": {
     "duration": 0.030856,
     "end_time": "2021-08-05T01:14:32.742294",
     "exception": false,
     "start_time": "2021-08-05T01:14:32.711438",
     "status": "completed"
    },
    "tags": []
   },
   "outputs": [
    {
     "data": {
      "text/plain": [
       "10.0"
      ]
     },
     "execution_count": 9,
     "metadata": {},
     "output_type": "execute_result"
    }
   ],
   "source": [
    "round_to_two_places(9.9999)"
   ]
  },
  {
   "cell_type": "code",
   "execution_count": 10,
   "id": "33ee6927",
   "metadata": {
    "execution": {
     "iopub.execute_input": "2021-08-05T01:14:32.790838Z",
     "iopub.status.busy": "2021-08-05T01:14:32.790175Z",
     "iopub.status.idle": "2021-08-05T01:14:32.795496Z",
     "shell.execute_reply": "2021-08-05T01:14:32.796001Z",
     "shell.execute_reply.started": "2021-08-05T01:14:02.578225Z"
    },
    "papermill": {
     "duration": 0.031666,
     "end_time": "2021-08-05T01:14:32.796180",
     "exception": false,
     "start_time": "2021-08-05T01:14:32.764514",
     "status": "completed"
    },
    "tags": []
   },
   "outputs": [
    {
     "data": {
      "text/plain": [
       "5"
      ]
     },
     "execution_count": 10,
     "metadata": {},
     "output_type": "execute_result"
    }
   ],
   "source": [
    " x = -10\n",
    " y = 5\n",
    " # Which of the two variables above has the smallest absolute value?\n",
    " smallest_abs = min(abs(x),abs(y))\n",
    " smallest_abs"
   ]
  },
  {
   "cell_type": "code",
   "execution_count": 11,
   "id": "5eea58a4",
   "metadata": {
    "execution": {
     "iopub.execute_input": "2021-08-05T01:14:32.845731Z",
     "iopub.status.busy": "2021-08-05T01:14:32.845050Z",
     "iopub.status.idle": "2021-08-05T01:14:32.851533Z",
     "shell.execute_reply": "2021-08-05T01:14:32.850941Z",
     "shell.execute_reply.started": "2021-08-05T01:13:55.891317Z"
    },
    "papermill": {
     "duration": 0.03276,
     "end_time": "2021-08-05T01:14:32.851685",
     "exception": false,
     "start_time": "2021-08-05T01:14:32.818925",
     "status": "completed"
    },
    "tags": []
   },
   "outputs": [
    {
     "name": "stdout",
     "output_type": "stream",
     "text": [
      "5\n"
     ]
    }
   ],
   "source": [
    " def f(x):\n",
    "     y = abs(x)\n",
    "     return y\n",
    "\n",
    " print(f(5))"
   ]
  },
  {
   "cell_type": "markdown",
   "id": "7cdcddf3",
   "metadata": {
    "papermill": {
     "duration": 0.022586,
     "end_time": "2021-08-05T01:14:32.897658",
     "exception": false,
     "start_time": "2021-08-05T01:14:32.875072",
     "status": "completed"
    },
    "tags": []
   },
   "source": [
    "# Keep Going\n",
    "\n",
    "Nice job with the code. Next up, you'll learn about *conditionals*, which you'll need to **[write interesting programs](https://www.kaggle.com/colinmorris/booleans-and-conditionals)**. "
   ]
  },
  {
   "cell_type": "markdown",
   "id": "76c08ead",
   "metadata": {
    "papermill": {
     "duration": 0.023168,
     "end_time": "2021-08-05T01:14:32.944146",
     "exception": false,
     "start_time": "2021-08-05T01:14:32.920978",
     "status": "completed"
    },
    "tags": []
   },
   "source": [
    "---\n",
    "\n",
    "\n",
    "\n",
    "\n",
    "*Have questions or comments? Visit the [Learn Discussion forum](https://www.kaggle.com/learn-forum/161283) to chat with other Learners.*"
   ]
  }
 ],
 "metadata": {
  "kernelspec": {
   "display_name": "Python 3",
   "language": "python",
   "name": "python3"
  },
  "language_info": {
   "codemirror_mode": {
    "name": "ipython",
    "version": 3
   },
   "file_extension": ".py",
   "mimetype": "text/x-python",
   "name": "python",
   "nbconvert_exporter": "python",
   "pygments_lexer": "ipython3",
   "version": "3.7.10"
  },
  "papermill": {
   "default_parameters": {},
   "duration": 10.90087,
   "end_time": "2021-08-05T01:14:34.329874",
   "environment_variables": {},
   "exception": null,
   "input_path": "__notebook__.ipynb",
   "output_path": "__notebook__.ipynb",
   "parameters": {},
   "start_time": "2021-08-05T01:14:23.429004",
   "version": "2.3.3"
  }
 },
 "nbformat": 4,
 "nbformat_minor": 5
}
